{
 "cells": [
  {
   "cell_type": "code",
   "execution_count": 1,
   "id": "f5d31e0d",
   "metadata": {},
   "outputs": [],
   "source": [
    "import numpy as np\n",
    "import pandas as pd\n",
    "import seaborn as sns\n",
    "import warnings\n",
    "warnings.filterwarnings('ignore')\n"
   ]
  },
  {
   "cell_type": "code",
   "execution_count": 2,
   "id": "d9bdc799",
   "metadata": {},
   "outputs": [],
   "source": [
    "df = pd.read_csv(r\"../data/marketingcampaigns.csv\", sep=';', on_bad_lines='skip')"
   ]
  },
  {
   "cell_type": "code",
   "execution_count": 3,
   "id": "ec5080a6",
   "metadata": {},
   "outputs": [
    {
     "data": {
      "text/html": [
       "<div>\n",
       "<style scoped>\n",
       "    .dataframe tbody tr th:only-of-type {\n",
       "        vertical-align: middle;\n",
       "    }\n",
       "\n",
       "    .dataframe tbody tr th {\n",
       "        vertical-align: top;\n",
       "    }\n",
       "\n",
       "    .dataframe thead th {\n",
       "        text-align: right;\n",
       "    }\n",
       "</style>\n",
       "<table border=\"1\" class=\"dataframe\">\n",
       "  <thead>\n",
       "    <tr style=\"text-align: right;\">\n",
       "      <th></th>\n",
       "      <th>campaign_name,start_date,end_date,budget,roi,type,target_audience,channel,conversion_rate,revenue</th>\n",
       "    </tr>\n",
       "  </thead>\n",
       "  <tbody>\n",
       "    <tr>\n",
       "      <th>0</th>\n",
       "      <td>Public-key multi-tasking throughput,2023-04-01...</td>\n",
       "    </tr>\n",
       "    <tr>\n",
       "      <th>1</th>\n",
       "      <td>De-engineered analyzing task-force,2023-02-15,...</td>\n",
       "    </tr>\n",
       "    <tr>\n",
       "      <th>2</th>\n",
       "      <td>Balanced solution-oriented Local Area Network,...</td>\n",
       "    </tr>\n",
       "    <tr>\n",
       "      <th>3</th>\n",
       "      <td>Distributed real-time methodology,2022-09-26,2...</td>\n",
       "    </tr>\n",
       "    <tr>\n",
       "      <th>4</th>\n",
       "      <td>Front-line executive infrastructure,2023-07-07...</td>\n",
       "    </tr>\n",
       "    <tr>\n",
       "      <th>...</th>\n",
       "      <td>...</td>\n",
       "    </tr>\n",
       "    <tr>\n",
       "      <th>1032</th>\n",
       "      <td>No revenue campaign,2023-02-01,2023-08-01,2000...</td>\n",
       "    </tr>\n",
       "    <tr>\n",
       "      <th>1033</th>\n",
       "      <td>Random mess,2023-06-06,,100000,,podcast,,refer...</td>\n",
       "    </tr>\n",
       "    <tr>\n",
       "      <th>1034</th>\n",
       "      <td>Invalid budget,2022-12-01,2023-06-01,abc,,emai...</td>\n",
       "    </tr>\n",
       "    <tr>\n",
       "      <th>1035</th>\n",
       "      <td>Overlapping dates,2023-03-01,2022-12-31,60000,...</td>\n",
       "    </tr>\n",
       "    <tr>\n",
       "      <th>1036</th>\n",
       "      <td>Too many conversions,2023-05-01,2023-11-01,400...</td>\n",
       "    </tr>\n",
       "  </tbody>\n",
       "</table>\n",
       "<p>1037 rows × 1 columns</p>\n",
       "</div>"
      ],
      "text/plain": [
       "     campaign_name,start_date,end_date,budget,roi,type,target_audience,channel,conversion_rate,revenue\n",
       "0     Public-key multi-tasking throughput,2023-04-01...                                               \n",
       "1     De-engineered analyzing task-force,2023-02-15,...                                               \n",
       "2     Balanced solution-oriented Local Area Network,...                                               \n",
       "3     Distributed real-time methodology,2022-09-26,2...                                               \n",
       "4     Front-line executive infrastructure,2023-07-07...                                               \n",
       "...                                                 ...                                               \n",
       "1032  No revenue campaign,2023-02-01,2023-08-01,2000...                                               \n",
       "1033  Random mess,2023-06-06,,100000,,podcast,,refer...                                               \n",
       "1034  Invalid budget,2022-12-01,2023-06-01,abc,,emai...                                               \n",
       "1035  Overlapping dates,2023-03-01,2022-12-31,60000,...                                               \n",
       "1036  Too many conversions,2023-05-01,2023-11-01,400...                                               \n",
       "\n",
       "[1037 rows x 1 columns]"
      ]
     },
     "execution_count": 3,
     "metadata": {},
     "output_type": "execute_result"
    }
   ],
   "source": [
    "df"
   ]
  },
  {
   "cell_type": "code",
   "execution_count": 4,
   "id": "cf6e9f89",
   "metadata": {},
   "outputs": [
    {
     "data": {
      "text/plain": [
       "<bound method DataFrame.info of      campaign_name,start_date,end_date,budget,roi,type,target_audience,channel,conversion_rate,revenue\n",
       "0     Public-key multi-tasking throughput,2023-04-01...                                               \n",
       "1     De-engineered analyzing task-force,2023-02-15,...                                               \n",
       "2     Balanced solution-oriented Local Area Network,...                                               \n",
       "3     Distributed real-time methodology,2022-09-26,2...                                               \n",
       "4     Front-line executive infrastructure,2023-07-07...                                               \n",
       "...                                                 ...                                               \n",
       "1032  No revenue campaign,2023-02-01,2023-08-01,2000...                                               \n",
       "1033  Random mess,2023-06-06,,100000,,podcast,,refer...                                               \n",
       "1034  Invalid budget,2022-12-01,2023-06-01,abc,,emai...                                               \n",
       "1035  Overlapping dates,2023-03-01,2022-12-31,60000,...                                               \n",
       "1036  Too many conversions,2023-05-01,2023-11-01,400...                                               \n",
       "\n",
       "[1037 rows x 1 columns]>"
      ]
     },
     "execution_count": 4,
     "metadata": {},
     "output_type": "execute_result"
    }
   ],
   "source": [
    "df.info"
   ]
  },
  {
   "cell_type": "code",
   "execution_count": 5,
   "id": "adc2c6b3",
   "metadata": {},
   "outputs": [
    {
     "data": {
      "text/plain": [
       "(1037, 1)"
      ]
     },
     "execution_count": 5,
     "metadata": {},
     "output_type": "execute_result"
    }
   ],
   "source": [
    "df.shape #filas y columnas"
   ]
  },
  {
   "cell_type": "code",
   "execution_count": 6,
   "id": "1bab2f17",
   "metadata": {},
   "outputs": [
    {
     "data": {
      "text/plain": [
       "Index(['campaign_name,start_date,end_date,budget,roi,type,target_audience,channel,conversion_rate,revenue'], dtype='object')"
      ]
     },
     "execution_count": 6,
     "metadata": {},
     "output_type": "execute_result"
    }
   ],
   "source": [
    "df.columns #columnas"
   ]
  },
  {
   "cell_type": "code",
   "execution_count": 7,
   "id": "0d5cf438",
   "metadata": {},
   "outputs": [
    {
     "data": {
      "text/plain": [
       "campaign_name,start_date,end_date,budget,roi,type,target_audience,channel,conversion_rate,revenue    0\n",
       "dtype: int64"
      ]
     },
     "execution_count": 7,
     "metadata": {},
     "output_type": "execute_result"
    }
   ],
   "source": [
    "df.isnull().sum() #suma de los valores nulos por columna"
   ]
  },
  {
   "cell_type": "code",
   "execution_count": 8,
   "id": "5ecd9948",
   "metadata": {},
   "outputs": [
    {
     "data": {
      "text/plain": [
       "campaign_name,start_date,end_date,budget,roi,type,target_audience,channel,conversion_rate,revenue    0.0\n",
       "dtype: float64"
      ]
     },
     "execution_count": 8,
     "metadata": {},
     "output_type": "execute_result"
    }
   ],
   "source": [
    "df.isnull().sum() / len(df) * 100    #proporcion de los valores nulos por columna"
   ]
  },
  {
   "cell_type": "code",
   "execution_count": 9,
   "id": "08b2e1b1",
   "metadata": {},
   "outputs": [
    {
     "data": {
      "text/plain": [
       "0       False\n",
       "1       False\n",
       "2       False\n",
       "3       False\n",
       "4       False\n",
       "        ...  \n",
       "1032    False\n",
       "1033    False\n",
       "1034    False\n",
       "1035    False\n",
       "1036    False\n",
       "Length: 1037, dtype: bool"
      ]
     },
     "execution_count": 9,
     "metadata": {},
     "output_type": "execute_result"
    }
   ],
   "source": [
    "df.duplicated() #verifica si hay filas duplicadas"
   ]
  },
  {
   "cell_type": "code",
   "execution_count": 10,
   "id": "c944eecf",
   "metadata": {},
   "outputs": [
    {
     "data": {
      "text/plain": [
       "np.int64(14)"
      ]
     },
     "execution_count": 10,
     "metadata": {},
     "output_type": "execute_result"
    }
   ],
   "source": [
    "df.duplicated().sum() #suma de los valores duplicados por fila"
   ]
  },
  {
   "cell_type": "code",
   "execution_count": 11,
   "id": "15c92878",
   "metadata": {},
   "outputs": [],
   "source": [
    "df = df.drop_duplicates() #elimina filas duplicadas"
   ]
  },
  {
   "cell_type": "code",
   "execution_count": 12,
   "id": "b1bfd1da",
   "metadata": {},
   "outputs": [
    {
     "data": {
      "text/plain": [
       "np.int64(0)"
      ]
     },
     "execution_count": 12,
     "metadata": {},
     "output_type": "execute_result"
    }
   ],
   "source": [
    "df.duplicated().sum() #suma de los valores duplicados por fila"
   ]
  },
  {
   "cell_type": "code",
   "execution_count": 13,
   "id": "b3cc800b",
   "metadata": {},
   "outputs": [
    {
     "data": {
      "text/plain": [
       "<Axes: >"
      ]
     },
     "execution_count": 13,
     "metadata": {},
     "output_type": "execute_result"
    },
    {
     "data": {
      "image/png": "[encoded data removed]",
      "text/plain": [
       "<Figure size 640x480 with 1 Axes>"
      ]
     },
     "metadata": {},
     "output_type": "display_data"
    }
   ],
   "source": [
    "sns.heatmap(df.isnull(), cbar=False, cmap='viridis') #grafica de los valores nulos"
   ]
  },
  {
   "cell_type": "code",
   "execution_count": 14,
   "id": "c91598fe",
   "metadata": {},
   "outputs": [
    {
     "name": "stdout",
     "output_type": "stream",
     "text": [
      "Fecha promedio de inicio: 2023-01-30 14:19:14.518950144\n",
      "Fecha promedio de fin: 2024-01-30 01:05:46.355685120\n"
     ]
    }
   ],
   "source": [
    "# Ensure the data is properly separated into columns\n",
    "df = pd.read_csv(r\"../data/marketingcampaigns.csv\", sep=',', on_bad_lines='skip')\n",
    "\n",
    "# Convert 'start_date' and 'end_date' to datetime\n",
    "df['start_date'] = pd.to_datetime(df['start_date'], errors='coerce')\n",
    "df['end_date'] = pd.to_datetime(df['end_date'], errors='coerce')\n",
    "\n",
    "# Calculate the mean dates\n",
    "fecha_inicio_promedio = df['start_date'].mean()\n",
    "fecha_fin_promedio = df['end_date'].mean()\n",
    "\n",
    "print(\"Fecha promedio de inicio:\", fecha_inicio_promedio)\n",
    "print(\"Fecha promedio de fin:\", fecha_fin_promedio)\n"
   ]
  },
  {
   "cell_type": "code",
   "execution_count": 15,
   "id": "7f83fb83",
   "metadata": {},
   "outputs": [],
   "source": [
    "df['start_date'] = pd.to_datetime(df['start_date'], errors='coerce')\n",
    "df['end_date'] = pd.to_datetime(df['end_date'], errors='coerce')\n",
    "\n",
    "start_mean = df['start_date'].mean()\n",
    "end_mean = df['end_date'].mean()\n",
    "\n",
    "df['start_date'].fillna(start_mean, inplace=True)\n",
    "df['end_date'].fillna(end_mean, inplace=True)\n"
   ]
  },
  {
   "cell_type": "code",
   "execution_count": 16,
   "id": "178c71dd",
   "metadata": {},
   "outputs": [
    {
     "name": "stdout",
     "output_type": "stream",
     "text": [
      "Canal más frecuente: promotion\n"
     ]
    }
   ],
   "source": [
    "#canal mas utilizado\n",
    "canal_mas_usado = df['channel'].mode()[0]\n",
    "print(\"Canal más frecuente:\", canal_mas_usado)\n"
   ]
  },
  {
   "cell_type": "code",
   "execution_count": 17,
   "id": "40d8d111",
   "metadata": {},
   "outputs": [],
   "source": [
    "moda_channel = df['channel'].mode()[0]  # Obtiene el valor más frecuente\n",
    "df['channel'].fillna(moda_channel, inplace=True)\n"
   ]
  },
  {
   "cell_type": "code",
   "execution_count": 18,
   "id": "7748304e",
   "metadata": {},
   "outputs": [
    {
     "name": "stdout",
     "output_type": "stream",
     "text": [
      "Media de roi: 0.53\n",
      "Media de budget: 58995.98\n",
      "Media de conversion_rate: 0.54\n",
      "Media de revenue: 511591.20\n"
     ]
    }
   ],
   "source": [
    "#calcular media de columnas numericas\n",
    "# Forzar conversión a numérico ignorando errores\n",
    "columnas_numericas = ['roi', 'budget', 'conversion_rate', 'revenue']\n",
    "for col in columnas_numericas:\n",
    "    df[col] = pd.to_numeric(df[col], errors='coerce')  # convierte strings a NaN si no se puede\n",
    "\n",
    "# Calcular la media\n",
    "for col in columnas_numericas:\n",
    "    media = df[col].mean()\n",
    "    print(f\"Media de {col}: {media:.2f}\")\n"
   ]
  },
  {
   "cell_type": "code",
   "execution_count": 19,
   "id": "0c3b1839",
   "metadata": {},
   "outputs": [],
   "source": [
    "columnas_numericas = ['roi', 'budget', 'conversion_rate', 'revenue']\n",
    "for col in columnas_numericas:\n",
    "    df[col] = pd.to_numeric(df[col], errors='coerce')  # Asegura que sean numéricas\n",
    "    media = df[col].mean()  # Calcula la media ignorando NaNs\n",
    "    df[col].fillna(media, inplace=True)  # Rellena los nulos con la media\n"
   ]
  },
  {
   "cell_type": "markdown",
   "id": "913d1934",
   "metadata": {},
   "source": [
    "##### Como habían pocos datos nulos, he decidido rellenar con la media"
   ]
  },
  {
   "cell_type": "code",
   "execution_count": 20,
   "id": "a58eadc2",
   "metadata": {},
   "outputs": [
    {
     "name": "stdout",
     "output_type": "stream",
     "text": [
      "Media de 'type': nan\n",
      "Media de 'target_audience': nan\n"
     ]
    }
   ],
   "source": [
    "# Asegurarse de que las columnas sean numéricas\n",
    "df['type'] = pd.to_numeric(df['type'], errors='coerce')\n",
    "df['target_audience'] = pd.to_numeric(df['target_audience'], errors='coerce')\n",
    "\n",
    "# Calcular la media de las columnas\n",
    "media_type = df['type'].mean()\n",
    "media_target_audience = df['target_audience'].mean()\n",
    "\n",
    "print(\"Media de 'type':\", media_type)\n",
    "print(\"Media de 'target_audience':\", media_target_audience)\n",
    "\n",
    "# Rellenar los valores nulos con la media correspondiente\n",
    "df['type'].fillna(media_type, inplace=True)\n",
    "df['target_audience'].fillna(media_target_audience, inplace=True)"
   ]
  },
  {
   "cell_type": "code",
   "execution_count": 21,
   "id": "396b1e82",
   "metadata": {},
   "outputs": [
    {
     "name": "stdout",
     "output_type": "stream",
     "text": [
      "Type es: float64\n",
      "Target_audience es: float64\n"
     ]
    }
   ],
   "source": [
    "# Ver el tipo de datos de la columna 'type'\n",
    "tipo_type = df['type'].dtype\n",
    "print(f'Type es: {tipo_type}')\n",
    "tipo_target_audience = df['target_audience'].dtype\n",
    "print(f'Target_audience es: {tipo_target_audience}')"
   ]
  },
  {
   "cell_type": "code",
   "execution_count": 22,
   "id": "b7c0ed1d",
   "metadata": {},
   "outputs": [
    {
     "name": "stdout",
     "output_type": "stream",
     "text": [
      "Media de 'type': nan\n",
      "Media de 'target_audience': nan\n"
     ]
    }
   ],
   "source": [
    "# Calcular la media de 'type' y 'target_audience'\n",
    "media_type = df['type'].mean()\n",
    "media_target_audience = df['target_audience'].mean()\n",
    "\n",
    "# Rellenar los valores nulos con la media\n",
    "df['type'].fillna(media_type, inplace=True)\n",
    "df['target_audience'].fillna(media_target_audience, inplace=True)\n",
    "\n",
    "# Mostrar las medias calculadas\n",
    "print(f\"Media de 'type': {media_type}\")\n",
    "print(f\"Media de 'target_audience': {media_target_audience}\")\n"
   ]
  },
  {
   "cell_type": "code",
   "execution_count": 23,
   "id": "8c5ef7cd",
   "metadata": {},
   "outputs": [
    {
     "name": "stdout",
     "output_type": "stream",
     "text": [
      "campaign_name              object\n",
      "start_date         datetime64[ns]\n",
      "end_date           datetime64[ns]\n",
      "budget                    float64\n",
      "roi                       float64\n",
      "type                      float64\n",
      "target_audience           float64\n",
      "channel                    object\n",
      "conversion_rate           float64\n",
      "revenue                   float64\n",
      "dtype: object\n"
     ]
    }
   ],
   "source": [
    "print(df.dtypes)"
   ]
  },
  {
   "cell_type": "code",
   "execution_count": 24,
   "id": "fe4e8ac1",
   "metadata": {},
   "outputs": [],
   "source": [
    "#convertimos type y target_audience a string\n",
    "df['type'] = df['type'].astype(str)\n",
    "df['target_audience'] = df['target_audience'].astype(str)"
   ]
  },
  {
   "cell_type": "code",
   "execution_count": 25,
   "id": "cb4a8f1f",
   "metadata": {},
   "outputs": [
    {
     "name": "stdout",
     "output_type": "stream",
     "text": [
      "campaign_name              object\n",
      "start_date         datetime64[ns]\n",
      "end_date           datetime64[ns]\n",
      "budget                    float64\n",
      "roi                       float64\n",
      "type                       object\n",
      "target_audience            object\n",
      "channel                    object\n",
      "conversion_rate           float64\n",
      "revenue                   float64\n",
      "dtype: object\n"
     ]
    }
   ],
   "source": [
    "print(df.dtypes)"
   ]
  },
  {
   "cell_type": "code",
   "execution_count": 26,
   "id": "a350fb35",
   "metadata": {},
   "outputs": [
    {
     "data": {
      "text/plain": [
       "campaign_name      0\n",
       "start_date         0\n",
       "end_date           0\n",
       "budget             0\n",
       "roi                0\n",
       "type               0\n",
       "target_audience    0\n",
       "channel            0\n",
       "conversion_rate    0\n",
       "revenue            0\n",
       "dtype: int64"
      ]
     },
     "execution_count": 26,
     "metadata": {},
     "output_type": "execute_result"
    }
   ],
   "source": [
    "df.isnull().sum() #verifico que ya no hay valores nulos en el dataframe limpio"
   ]
  },
  {
   "cell_type": "code",
   "execution_count": 27,
   "id": "0008c4d8",
   "metadata": {},
   "outputs": [
    {
     "data": {
      "text/plain": [
       "campaign_name      0.0\n",
       "start_date         0.0\n",
       "end_date           0.0\n",
       "budget             0.0\n",
       "roi                0.0\n",
       "type               0.0\n",
       "target_audience    0.0\n",
       "channel            0.0\n",
       "conversion_rate    0.0\n",
       "revenue            0.0\n",
       "dtype: float64"
      ]
     },
     "execution_count": 27,
     "metadata": {},
     "output_type": "execute_result"
    }
   ],
   "source": [
    "df.isnull().sum() / len(df) * 100"
   ]
  },
  {
   "cell_type": "code",
   "execution_count": 28,
   "id": "f7fb0281",
   "metadata": {},
   "outputs": [
    {
     "data": {
      "text/plain": [
       "<Axes: >"
      ]
     },
     "execution_count": 28,
     "metadata": {},
     "output_type": "execute_result"
    },
    {
     "data": {
      "image/png": "[encoded data removed]",
      "text/plain": [
       "<Figure size 640x480 with 1 Axes>"
      ]
     },
     "metadata": {},
     "output_type": "display_data"
    }
   ],
   "source": [
    "sns.heatmap(df.isnull(), cbar=False, cmap='viridis') #grafica de los valores nulos"
   ]
  },
  {
   "cell_type": "code",
   "execution_count": 29,
   "id": "c6442b74",
   "metadata": {},
   "outputs": [
    {
     "name": "stdout",
     "output_type": "stream",
     "text": [
      "['campaign_name', 'start_date', 'end_date', 'budget', 'roi', 'type', 'target_audience', 'channel', 'conversion_rate', 'revenue']\n"
     ]
    }
   ],
   "source": [
    "print(df.columns.tolist())\n"
   ]
  },
  {
   "cell_type": "code",
   "execution_count": 30,
   "id": "5025443e",
   "metadata": {},
   "outputs": [],
   "source": [
    "df.columns = df.columns.str.strip() # Elimina espacios en blanco al inicio y al final de los nombres de las columnas"
   ]
  },
  {
   "cell_type": "code",
   "execution_count": 31,
   "id": "dc1050ba",
   "metadata": {},
   "outputs": [
    {
     "name": "stdout",
     "output_type": "stream",
     "text": [
      "['campaign_name', 'start_date', 'end_date', 'budget', 'roi', 'type', 'target_audience', 'channel', 'conversion_rate', 'revenue']\n"
     ]
    }
   ],
   "source": [
    "print(df.columns.tolist())"
   ]
  },
  {
   "cell_type": "code",
   "execution_count": 32,
   "id": "d090196e",
   "metadata": {},
   "outputs": [
    {
     "name": "stdout",
     "output_type": "stream",
     "text": [
      "campaign_name,start_date,end_date,budget,roi,type,target_audience,channel,conversion_rate,revenue\n",
      "\n",
      "Public-key multi-tasking throughput,2023-04-01,2024-02-23,8082.3,0.35,email,B2B,organic,0.4,709593.48\n",
      "\n",
      "De-engineered analyzing task-force,2023-02-15,2024-04-22,17712.98,0.74,email,B2C,promotion,0.66,516609.1\n",
      "\n",
      "Balanced solution-oriented Local Area Network,2022-12-20,2023-10-11,84643.1,0.37,podcast,B2B,paid,0.28,458227.42\n",
      "\n",
      "Distributed real-time methodology,2022-09-26,2023-09-27,14589.75,0.47,webinar,B2B,organic,0.19,89958.73\n",
      "\n",
      "Front-line executive infrastructure,2023-07-07,2024-05-15,39291.9,0.3,social media,B2B,promotion,0.81,47511.35\n",
      "\n",
      "Upgradable transitional data-warehouse,2023-06-29,2023-12-13,75569.28,0.59,social media,B2C,referral,0.67,558302.11\n",
      "\n",
      "Innovative context-sensitive framework,2023-03-01,2024-02-23,28964.45,0.59,email,B2C,referral,0.17,172882.59\n",
      "\n",
      "User-friendly client-driven service-desk,2023-01-06,2023-12-11,36800.58,0.4,webinar,B2C,promotion,0.52,206241.46\n",
      "\n",
      "Proactive neutral methodology,2022-09-06,2024-01-11,40493.88,0.16,webinar,B2C,organic,0.47,734755.76\n",
      "\n"
     ]
    }
   ],
   "source": [
    "# sin tratar de separarlo en columnas.\n",
    "with open(r\"..\\data\\marketingcampaigns.csv\", encoding='utf-8') as f:\n",
    "    for i in range(10):\n",
    "        print(f.readline())"
   ]
  },
  {
   "cell_type": "code",
   "execution_count": 33,
   "id": "4b75ffe8",
   "metadata": {},
   "outputs": [],
   "source": [
    "#Separamos las columnas por comas\n",
    "#df = pd.read_csv(r\"..\\data\\marketingcampaigns.csv\", sep=',', on_bad_lines='skip')"
   ]
  },
  {
   "cell_type": "code",
   "execution_count": 34,
   "id": "d53e3c41",
   "metadata": {},
   "outputs": [
    {
     "name": "stdout",
     "output_type": "stream",
     "text": [
      "✅ 'budget' está presente.\n",
      "✅ 'roi' está presente.\n",
      "✅ 'conversion_rate' está presente.\n",
      "✅ 'revenue' está presente.\n"
     ]
    }
   ],
   "source": [
    "columnas_numericas = ['budget', 'roi', 'conversion_rate', 'revenue']\n",
    "\n",
    "for col in columnas_numericas:\n",
    "    if col in df.columns:\n",
    "        print(f\"✅ '{col}' está presente.\")\n",
    "    else:\n",
    "        print(f\"❌ '{col}' NO está en el DataFrame.\")\n",
    "\n"
   ]
  },
  {
   "cell_type": "code",
   "execution_count": 35,
   "id": "abf6b21e",
   "metadata": {},
   "outputs": [
    {
     "data": {
      "text/plain": [
       "0       0.350000\n",
       "1       0.740000\n",
       "2       0.370000\n",
       "3       0.470000\n",
       "4       0.300000\n",
       "          ...   \n",
       "1027    0.300000\n",
       "1028    0.533804\n",
       "1029    0.533804\n",
       "1030    0.600000\n",
       "1031    0.800000\n",
       "Name: roi, Length: 1032, dtype: float64"
      ]
     },
     "execution_count": 35,
     "metadata": {},
     "output_type": "execute_result"
    }
   ],
   "source": [
    "df['roi'] #una columna"
   ]
  },
  {
   "cell_type": "code",
   "execution_count": 36,
   "id": "ea7e081e",
   "metadata": {},
   "outputs": [],
   "source": [
    "#como arreglo los valores nulos sin cargarnos los datos originales\n",
    "df_limpio = df.copy() #copia del dataframe original"
   ]
  },
  {
   "cell_type": "code",
   "execution_count": 37,
   "id": "e7321c73",
   "metadata": {},
   "outputs": [
    {
     "data": {
      "text/html": [
       "<div>\n",
       "<style scoped>\n",
       "    .dataframe tbody tr th:only-of-type {\n",
       "        vertical-align: middle;\n",
       "    }\n",
       "\n",
       "    .dataframe tbody tr th {\n",
       "        vertical-align: top;\n",
       "    }\n",
       "\n",
       "    .dataframe thead th {\n",
       "        text-align: right;\n",
       "    }\n",
       "</style>\n",
       "<table border=\"1\" class=\"dataframe\">\n",
       "  <thead>\n",
       "    <tr style=\"text-align: right;\">\n",
       "      <th></th>\n",
       "      <th>campaign_name</th>\n",
       "      <th>start_date</th>\n",
       "      <th>end_date</th>\n",
       "      <th>budget</th>\n",
       "      <th>roi</th>\n",
       "      <th>type</th>\n",
       "      <th>target_audience</th>\n",
       "      <th>channel</th>\n",
       "      <th>conversion_rate</th>\n",
       "      <th>revenue</th>\n",
       "    </tr>\n",
       "  </thead>\n",
       "  <tbody>\n",
       "    <tr>\n",
       "      <th>0</th>\n",
       "      <td>Public-key multi-tasking throughput</td>\n",
       "      <td>2023-04-01</td>\n",
       "      <td>2024-02-23</td>\n",
       "      <td>8082.30</td>\n",
       "      <td>0.35</td>\n",
       "      <td>nan</td>\n",
       "      <td>nan</td>\n",
       "      <td>organic</td>\n",
       "      <td>0.40</td>\n",
       "      <td>709593.48</td>\n",
       "    </tr>\n",
       "    <tr>\n",
       "      <th>1</th>\n",
       "      <td>De-engineered analyzing task-force</td>\n",
       "      <td>2023-02-15</td>\n",
       "      <td>2024-04-22</td>\n",
       "      <td>17712.98</td>\n",
       "      <td>0.74</td>\n",
       "      <td>nan</td>\n",
       "      <td>nan</td>\n",
       "      <td>promotion</td>\n",
       "      <td>0.66</td>\n",
       "      <td>516609.10</td>\n",
       "    </tr>\n",
       "    <tr>\n",
       "      <th>2</th>\n",
       "      <td>Balanced solution-oriented Local Area Network</td>\n",
       "      <td>2022-12-20</td>\n",
       "      <td>2023-10-11</td>\n",
       "      <td>84643.10</td>\n",
       "      <td>0.37</td>\n",
       "      <td>nan</td>\n",
       "      <td>nan</td>\n",
       "      <td>paid</td>\n",
       "      <td>0.28</td>\n",
       "      <td>458227.42</td>\n",
       "    </tr>\n",
       "  </tbody>\n",
       "</table>\n",
       "</div>"
      ],
      "text/plain": [
       "                                   campaign_name start_date   end_date  \\\n",
       "0            Public-key multi-tasking throughput 2023-04-01 2024-02-23   \n",
       "1             De-engineered analyzing task-force 2023-02-15 2024-04-22   \n",
       "2  Balanced solution-oriented Local Area Network 2022-12-20 2023-10-11   \n",
       "\n",
       "     budget   roi type target_audience    channel  conversion_rate    revenue  \n",
       "0   8082.30  0.35  nan             nan    organic             0.40  709593.48  \n",
       "1  17712.98  0.74  nan             nan  promotion             0.66  516609.10  \n",
       "2  84643.10  0.37  nan             nan       paid             0.28  458227.42  "
      ]
     },
     "execution_count": 37,
     "metadata": {},
     "output_type": "execute_result"
    }
   ],
   "source": [
    "df_limpio.head(3) #verifico que la copia se haya hecho bien"
   ]
  },
  {
   "cell_type": "code",
   "execution_count": 43,
   "id": "38b406b5",
   "metadata": {},
   "outputs": [
    {
     "data": {
      "text/plain": [
       "campaign_name      0\n",
       "start_date         0\n",
       "end_date           0\n",
       "budget             0\n",
       "roi                0\n",
       "type               0\n",
       "target_audience    0\n",
       "channel            0\n",
       "conversion_rate    0\n",
       "revenue            0\n",
       "dtype: int64"
      ]
     },
     "execution_count": 43,
     "metadata": {},
     "output_type": "execute_result"
    }
   ],
   "source": [
    "df_limpio.isnull().sum() #verifico que ya no hay valores nulos en el dataframe limpio"
   ]
  },
  {
   "cell_type": "code",
   "execution_count": 39,
   "id": "23851dd9",
   "metadata": {},
   "outputs": [
    {
     "data": {
      "text/plain": [
       "np.int64(16)"
      ]
     },
     "execution_count": 39,
     "metadata": {},
     "output_type": "execute_result"
    }
   ],
   "source": [
    "df_limpio.duplicated().sum() #suma de los valores duplicados por fila"
   ]
  },
  {
   "cell_type": "code",
   "execution_count": 41,
   "id": "c7b71477",
   "metadata": {},
   "outputs": [],
   "source": [
    "df_limpio = df_limpio.drop_duplicates() #elimina filas duplicadas"
   ]
  },
  {
   "cell_type": "code",
   "execution_count": 42,
   "id": "ba289c5d",
   "metadata": {},
   "outputs": [
    {
     "data": {
      "text/plain": [
       "np.int64(0)"
      ]
     },
     "execution_count": 42,
     "metadata": {},
     "output_type": "execute_result"
    }
   ],
   "source": [
    "df_limpio.duplicated().sum() #suma de los valores duplicados por fila"
   ]
  },
  {
   "cell_type": "code",
   "execution_count": 44,
   "id": "4a5c1f2d",
   "metadata": {},
   "outputs": [],
   "source": [
    "df_limpio.to_csv(r'../data/marketingcampaigns_limpio.csv',index=False) #guardo el dataframe limpio en un nuevo archivo csv"
   ]
  }
 ],
 "metadata": {
  "kernelspec": {
   "display_name": "Python 3",
   "language": "python",
   "name": "python3"
  },
  "language_info": {
   "codemirror_mode": {
    "name": "ipython",
    "version": 3
   },
   "file_extension": ".py",
   "mimetype": "text/x-python",
   "name": "python",
   "nbconvert_exporter": "python",
   "pygments_lexer": "ipython3",
   "version": "3.13.1"
  }
 },
 "nbformat": 4,
 "nbformat_minor": 5
}
