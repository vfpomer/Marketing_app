{
 "cells": [
  {
   "cell_type": "code",
   "execution_count": 1,
   "id": "f5d31e0d",
   "metadata": {},
   "outputs": [],
   "source": [
    "import numpy as np\n",
    "import pandas as pd\n",
    "import seaborn as sns\n",
    "import warnings\n",
    "warnings.filterwarnings('ignore')\n"
   ]
  },
  {
   "cell_type": "code",
   "execution_count": 2,
   "id": "d9bdc799",
   "metadata": {},
   "outputs": [],
   "source": [
    "df = pd.read_csv(r\"../data/marketingcampaigns.csv\", sep=',', on_bad_lines='skip')"
   ]
  },
  {
   "cell_type": "code",
   "execution_count": 3,
   "id": "ec5080a6",
   "metadata": {},
   "outputs": [
    {
     "data": {
      "text/html": [
       "<div>\n",
       "<style scoped>\n",
       "    .dataframe tbody tr th:only-of-type {\n",
       "        vertical-align: middle;\n",
       "    }\n",
       "\n",
       "    .dataframe tbody tr th {\n",
       "        vertical-align: top;\n",
       "    }\n",
       "\n",
       "    .dataframe thead th {\n",
       "        text-align: right;\n",
       "    }\n",
       "</style>\n",
       "<table border=\"1\" class=\"dataframe\">\n",
       "  <thead>\n",
       "    <tr style=\"text-align: right;\">\n",
       "      <th></th>\n",
       "      <th>campaign_name</th>\n",
       "      <th>start_date</th>\n",
       "      <th>end_date</th>\n",
       "      <th>budget</th>\n",
       "      <th>roi</th>\n",
       "      <th>type</th>\n",
       "      <th>target_audience</th>\n",
       "      <th>channel</th>\n",
       "      <th>conversion_rate</th>\n",
       "      <th>revenue</th>\n",
       "    </tr>\n",
       "  </thead>\n",
       "  <tbody>\n",
       "    <tr>\n",
       "      <th>0</th>\n",
       "      <td>Public-key multi-tasking throughput</td>\n",
       "      <td>2023-04-01</td>\n",
       "      <td>2024-02-23</td>\n",
       "      <td>8082.3</td>\n",
       "      <td>0.35</td>\n",
       "      <td>email</td>\n",
       "      <td>B2B</td>\n",
       "      <td>organic</td>\n",
       "      <td>0.40</td>\n",
       "      <td>709593.48</td>\n",
       "    </tr>\n",
       "    <tr>\n",
       "      <th>1</th>\n",
       "      <td>De-engineered analyzing task-force</td>\n",
       "      <td>2023-02-15</td>\n",
       "      <td>2024-04-22</td>\n",
       "      <td>17712.98</td>\n",
       "      <td>0.74</td>\n",
       "      <td>email</td>\n",
       "      <td>B2C</td>\n",
       "      <td>promotion</td>\n",
       "      <td>0.66</td>\n",
       "      <td>516609.10</td>\n",
       "    </tr>\n",
       "    <tr>\n",
       "      <th>2</th>\n",
       "      <td>Balanced solution-oriented Local Area Network</td>\n",
       "      <td>2022-12-20</td>\n",
       "      <td>2023-10-11</td>\n",
       "      <td>84643.1</td>\n",
       "      <td>0.37</td>\n",
       "      <td>podcast</td>\n",
       "      <td>B2B</td>\n",
       "      <td>paid</td>\n",
       "      <td>0.28</td>\n",
       "      <td>458227.42</td>\n",
       "    </tr>\n",
       "    <tr>\n",
       "      <th>3</th>\n",
       "      <td>Distributed real-time methodology</td>\n",
       "      <td>2022-09-26</td>\n",
       "      <td>2023-09-27</td>\n",
       "      <td>14589.75</td>\n",
       "      <td>0.47</td>\n",
       "      <td>webinar</td>\n",
       "      <td>B2B</td>\n",
       "      <td>organic</td>\n",
       "      <td>0.19</td>\n",
       "      <td>89958.73</td>\n",
       "    </tr>\n",
       "    <tr>\n",
       "      <th>4</th>\n",
       "      <td>Front-line executive infrastructure</td>\n",
       "      <td>2023-07-07</td>\n",
       "      <td>2024-05-15</td>\n",
       "      <td>39291.9</td>\n",
       "      <td>0.30</td>\n",
       "      <td>social media</td>\n",
       "      <td>B2B</td>\n",
       "      <td>promotion</td>\n",
       "      <td>0.81</td>\n",
       "      <td>47511.35</td>\n",
       "    </tr>\n",
       "    <tr>\n",
       "      <th>...</th>\n",
       "      <td>...</td>\n",
       "      <td>...</td>\n",
       "      <td>...</td>\n",
       "      <td>...</td>\n",
       "      <td>...</td>\n",
       "      <td>...</td>\n",
       "      <td>...</td>\n",
       "      <td>...</td>\n",
       "      <td>...</td>\n",
       "      <td>...</td>\n",
       "    </tr>\n",
       "    <tr>\n",
       "      <th>1027</th>\n",
       "      <td>No revenue campaign</td>\n",
       "      <td>2023-02-01</td>\n",
       "      <td>2023-08-01</td>\n",
       "      <td>20000</td>\n",
       "      <td>0.30</td>\n",
       "      <td>social media</td>\n",
       "      <td>B2B</td>\n",
       "      <td>organic</td>\n",
       "      <td>0.50</td>\n",
       "      <td>NaN</td>\n",
       "    </tr>\n",
       "    <tr>\n",
       "      <th>1028</th>\n",
       "      <td>Random mess</td>\n",
       "      <td>2023-06-06</td>\n",
       "      <td>NaN</td>\n",
       "      <td>100000</td>\n",
       "      <td>NaN</td>\n",
       "      <td>podcast</td>\n",
       "      <td>NaN</td>\n",
       "      <td>referral</td>\n",
       "      <td>NaN</td>\n",
       "      <td>300000.00</td>\n",
       "    </tr>\n",
       "    <tr>\n",
       "      <th>1029</th>\n",
       "      <td>Invalid budget</td>\n",
       "      <td>2022-12-01</td>\n",
       "      <td>2023-06-01</td>\n",
       "      <td>abc</td>\n",
       "      <td>NaN</td>\n",
       "      <td>email</td>\n",
       "      <td>B2C</td>\n",
       "      <td>promotion</td>\n",
       "      <td>0.20</td>\n",
       "      <td>50000.00</td>\n",
       "    </tr>\n",
       "    <tr>\n",
       "      <th>1030</th>\n",
       "      <td>Overlapping dates</td>\n",
       "      <td>2023-03-01</td>\n",
       "      <td>2022-12-31</td>\n",
       "      <td>60000</td>\n",
       "      <td>0.60</td>\n",
       "      <td>webinar</td>\n",
       "      <td>B2B</td>\n",
       "      <td>paid</td>\n",
       "      <td>0.70</td>\n",
       "      <td>90000.00</td>\n",
       "    </tr>\n",
       "    <tr>\n",
       "      <th>1031</th>\n",
       "      <td>Too many conversions</td>\n",
       "      <td>2023-05-01</td>\n",
       "      <td>2023-11-01</td>\n",
       "      <td>40000</td>\n",
       "      <td>0.80</td>\n",
       "      <td>social media</td>\n",
       "      <td>B2C</td>\n",
       "      <td>organic</td>\n",
       "      <td>1.50</td>\n",
       "      <td>120000.00</td>\n",
       "    </tr>\n",
       "  </tbody>\n",
       "</table>\n",
       "<p>1032 rows × 10 columns</p>\n",
       "</div>"
      ],
      "text/plain": [
       "                                      campaign_name  start_date    end_date  \\\n",
       "0               Public-key multi-tasking throughput  2023-04-01  2024-02-23   \n",
       "1                De-engineered analyzing task-force  2023-02-15  2024-04-22   \n",
       "2     Balanced solution-oriented Local Area Network  2022-12-20  2023-10-11   \n",
       "3                 Distributed real-time methodology  2022-09-26  2023-09-27   \n",
       "4               Front-line executive infrastructure  2023-07-07  2024-05-15   \n",
       "...                                             ...         ...         ...   \n",
       "1027                            No revenue campaign  2023-02-01  2023-08-01   \n",
       "1028                                    Random mess  2023-06-06         NaN   \n",
       "1029                                 Invalid budget  2022-12-01  2023-06-01   \n",
       "1030                              Overlapping dates  2023-03-01  2022-12-31   \n",
       "1031                           Too many conversions  2023-05-01  2023-11-01   \n",
       "\n",
       "        budget   roi          type target_audience    channel  \\\n",
       "0       8082.3  0.35         email             B2B    organic   \n",
       "1     17712.98  0.74         email             B2C  promotion   \n",
       "2      84643.1  0.37       podcast             B2B       paid   \n",
       "3     14589.75  0.47       webinar             B2B    organic   \n",
       "4      39291.9  0.30  social media             B2B  promotion   \n",
       "...        ...   ...           ...             ...        ...   \n",
       "1027     20000  0.30  social media             B2B    organic   \n",
       "1028    100000   NaN       podcast             NaN   referral   \n",
       "1029       abc   NaN         email             B2C  promotion   \n",
       "1030     60000  0.60       webinar             B2B       paid   \n",
       "1031     40000  0.80  social media             B2C    organic   \n",
       "\n",
       "      conversion_rate    revenue  \n",
       "0                0.40  709593.48  \n",
       "1                0.66  516609.10  \n",
       "2                0.28  458227.42  \n",
       "3                0.19   89958.73  \n",
       "4                0.81   47511.35  \n",
       "...               ...        ...  \n",
       "1027             0.50        NaN  \n",
       "1028              NaN  300000.00  \n",
       "1029             0.20   50000.00  \n",
       "1030             0.70   90000.00  \n",
       "1031             1.50  120000.00  \n",
       "\n",
       "[1032 rows x 10 columns]"
      ]
     },
     "execution_count": 3,
     "metadata": {},
     "output_type": "execute_result"
    }
   ],
   "source": [
    "df"
   ]
  },
  {
   "cell_type": "code",
   "execution_count": 4,
   "id": "cf6e9f89",
   "metadata": {},
   "outputs": [
    {
     "data": {
      "text/plain": [
       "<bound method DataFrame.info of                                       campaign_name  start_date    end_date  \\\n",
       "0               Public-key multi-tasking throughput  2023-04-01  2024-02-23   \n",
       "1                De-engineered analyzing task-force  2023-02-15  2024-04-22   \n",
       "2     Balanced solution-oriented Local Area Network  2022-12-20  2023-10-11   \n",
       "3                 Distributed real-time methodology  2022-09-26  2023-09-27   \n",
       "4               Front-line executive infrastructure  2023-07-07  2024-05-15   \n",
       "...                                             ...         ...         ...   \n",
       "1027                            No revenue campaign  2023-02-01  2023-08-01   \n",
       "1028                                    Random mess  2023-06-06         NaN   \n",
       "1029                                 Invalid budget  2022-12-01  2023-06-01   \n",
       "1030                              Overlapping dates  2023-03-01  2022-12-31   \n",
       "1031                           Too many conversions  2023-05-01  2023-11-01   \n",
       "\n",
       "        budget   roi          type target_audience    channel  \\\n",
       "0       8082.3  0.35         email             B2B    organic   \n",
       "1     17712.98  0.74         email             B2C  promotion   \n",
       "2      84643.1  0.37       podcast             B2B       paid   \n",
       "3     14589.75  0.47       webinar             B2B    organic   \n",
       "4      39291.9  0.30  social media             B2B  promotion   \n",
       "...        ...   ...           ...             ...        ...   \n",
       "1027     20000  0.30  social media             B2B    organic   \n",
       "1028    100000   NaN       podcast             NaN   referral   \n",
       "1029       abc   NaN         email             B2C  promotion   \n",
       "1030     60000  0.60       webinar             B2B       paid   \n",
       "1031     40000  0.80  social media             B2C    organic   \n",
       "\n",
       "      conversion_rate    revenue  \n",
       "0                0.40  709593.48  \n",
       "1                0.66  516609.10  \n",
       "2                0.28  458227.42  \n",
       "3                0.19   89958.73  \n",
       "4                0.81   47511.35  \n",
       "...               ...        ...  \n",
       "1027             0.50        NaN  \n",
       "1028              NaN  300000.00  \n",
       "1029             0.20   50000.00  \n",
       "1030             0.70   90000.00  \n",
       "1031             1.50  120000.00  \n",
       "\n",
       "[1032 rows x 10 columns]>"
      ]
     },
     "execution_count": 4,
     "metadata": {},
     "output_type": "execute_result"
    }
   ],
   "source": [
    "df.info"
   ]
  },
  {
   "cell_type": "code",
   "execution_count": 5,
   "id": "30592165",
   "metadata": {},
   "outputs": [
    {
     "data": {
      "text/html": [
       "<div>\n",
       "<style scoped>\n",
       "    .dataframe tbody tr th:only-of-type {\n",
       "        vertical-align: middle;\n",
       "    }\n",
       "\n",
       "    .dataframe tbody tr th {\n",
       "        vertical-align: top;\n",
       "    }\n",
       "\n",
       "    .dataframe thead th {\n",
       "        text-align: right;\n",
       "    }\n",
       "</style>\n",
       "<table border=\"1\" class=\"dataframe\">\n",
       "  <thead>\n",
       "    <tr style=\"text-align: right;\">\n",
       "      <th></th>\n",
       "      <th>campaign_name</th>\n",
       "      <th>start_date</th>\n",
       "      <th>end_date</th>\n",
       "      <th>budget</th>\n",
       "      <th>roi</th>\n",
       "      <th>type</th>\n",
       "      <th>target_audience</th>\n",
       "      <th>channel</th>\n",
       "      <th>conversion_rate</th>\n",
       "      <th>revenue</th>\n",
       "    </tr>\n",
       "  </thead>\n",
       "  <tbody>\n",
       "    <tr>\n",
       "      <th>0</th>\n",
       "      <td>Public-key multi-tasking throughput</td>\n",
       "      <td>2023-04-01</td>\n",
       "      <td>2024-02-23</td>\n",
       "      <td>8082.3</td>\n",
       "      <td>0.35</td>\n",
       "      <td>email</td>\n",
       "      <td>B2B</td>\n",
       "      <td>organic</td>\n",
       "      <td>0.40</td>\n",
       "      <td>709593.48</td>\n",
       "    </tr>\n",
       "    <tr>\n",
       "      <th>1</th>\n",
       "      <td>De-engineered analyzing task-force</td>\n",
       "      <td>2023-02-15</td>\n",
       "      <td>2024-04-22</td>\n",
       "      <td>17712.98</td>\n",
       "      <td>0.74</td>\n",
       "      <td>email</td>\n",
       "      <td>B2C</td>\n",
       "      <td>promotion</td>\n",
       "      <td>0.66</td>\n",
       "      <td>516609.10</td>\n",
       "    </tr>\n",
       "  </tbody>\n",
       "</table>\n",
       "</div>"
      ],
      "text/plain": [
       "                         campaign_name  start_date    end_date    budget  \\\n",
       "0  Public-key multi-tasking throughput  2023-04-01  2024-02-23    8082.3   \n",
       "1   De-engineered analyzing task-force  2023-02-15  2024-04-22  17712.98   \n",
       "\n",
       "    roi   type target_audience    channel  conversion_rate    revenue  \n",
       "0  0.35  email             B2B    organic             0.40  709593.48  \n",
       "1  0.74  email             B2C  promotion             0.66  516609.10  "
      ]
     },
     "execution_count": 5,
     "metadata": {},
     "output_type": "execute_result"
    }
   ],
   "source": [
    "df.head(2)"
   ]
  },
  {
   "cell_type": "code",
   "execution_count": 6,
   "id": "adc2c6b3",
   "metadata": {},
   "outputs": [
    {
     "data": {
      "text/plain": [
       "(1032, 10)"
      ]
     },
     "execution_count": 6,
     "metadata": {},
     "output_type": "execute_result"
    }
   ],
   "source": [
    "df.shape #filas y columnas"
   ]
  },
  {
   "cell_type": "code",
   "execution_count": 7,
   "id": "1bab2f17",
   "metadata": {},
   "outputs": [
    {
     "data": {
      "text/plain": [
       "Index(['campaign_name', 'start_date', 'end_date', 'budget', 'roi', 'type',\n",
       "       'target_audience', 'channel', 'conversion_rate', 'revenue'],\n",
       "      dtype='object')"
      ]
     },
     "execution_count": 7,
     "metadata": {},
     "output_type": "execute_result"
    }
   ],
   "source": [
    "df.columns #columnas"
   ]
  },
  {
   "cell_type": "code",
   "execution_count": 8,
   "id": "0d5cf438",
   "metadata": {},
   "outputs": [
    {
     "data": {
      "text/plain": [
       "campaign_name      0\n",
       "start_date         1\n",
       "end_date           2\n",
       "budget             3\n",
       "roi                4\n",
       "type               1\n",
       "target_audience    2\n",
       "channel            1\n",
       "conversion_rate    4\n",
       "revenue            3\n",
       "dtype: int64"
      ]
     },
     "execution_count": 8,
     "metadata": {},
     "output_type": "execute_result"
    }
   ],
   "source": [
    "df.isnull().sum() #suma de los valores nulos por columna"
   ]
  },
  {
   "cell_type": "code",
   "execution_count": 9,
   "id": "5ecd9948",
   "metadata": {},
   "outputs": [
    {
     "data": {
      "text/plain": [
       "campaign_name      0.000000\n",
       "start_date         0.096899\n",
       "end_date           0.193798\n",
       "budget             0.290698\n",
       "roi                0.387597\n",
       "type               0.096899\n",
       "target_audience    0.193798\n",
       "channel            0.096899\n",
       "conversion_rate    0.387597\n",
       "revenue            0.290698\n",
       "dtype: float64"
      ]
     },
     "execution_count": 9,
     "metadata": {},
     "output_type": "execute_result"
    }
   ],
   "source": [
    "df.isnull().sum() / len(df) * 100    #proporcion de los valores nulos por columna"
   ]
  },
  {
   "cell_type": "code",
   "execution_count": 10,
   "id": "08b2e1b1",
   "metadata": {},
   "outputs": [
    {
     "data": {
      "text/plain": [
       "0       False\n",
       "1       False\n",
       "2       False\n",
       "3       False\n",
       "4       False\n",
       "        ...  \n",
       "1027    False\n",
       "1028    False\n",
       "1029    False\n",
       "1030    False\n",
       "1031    False\n",
       "Length: 1032, dtype: bool"
      ]
     },
     "execution_count": 10,
     "metadata": {},
     "output_type": "execute_result"
    }
   ],
   "source": [
    "df.duplicated() #verifica si hay filas duplicadas"
   ]
  },
  {
   "cell_type": "code",
   "execution_count": 11,
   "id": "c944eecf",
   "metadata": {},
   "outputs": [
    {
     "data": {
      "text/plain": [
       "np.int64(15)"
      ]
     },
     "execution_count": 11,
     "metadata": {},
     "output_type": "execute_result"
    }
   ],
   "source": [
    "df.duplicated().sum() #suma de los valores duplicados por fila"
   ]
  },
  {
   "cell_type": "code",
   "execution_count": 12,
   "id": "15c92878",
   "metadata": {},
   "outputs": [],
   "source": [
    "df = df.drop_duplicates() #elimina filas duplicadas"
   ]
  },
  {
   "cell_type": "code",
   "execution_count": 13,
   "id": "b1bfd1da",
   "metadata": {},
   "outputs": [
    {
     "data": {
      "text/plain": [
       "np.int64(0)"
      ]
     },
     "execution_count": 13,
     "metadata": {},
     "output_type": "execute_result"
    }
   ],
   "source": [
    "df.duplicated().sum() #suma de los valores duplicados por fila"
   ]
  },
  {
   "cell_type": "code",
   "execution_count": 14,
   "id": "b3cc800b",
   "metadata": {},
   "outputs": [
    {
     "data": {
      "text/plain": [
       "<Axes: >"
      ]
     },
     "execution_count": 14,
     "metadata": {},
     "output_type": "execute_result"
    },
    {
     "data": {
      "image/png": "[encoded data removed]",
      "text/plain": [
       "<Figure size 640x480 with 1 Axes>"
      ]
     },
     "metadata": {},
     "output_type": "display_data"
    }
   ],
   "source": [
    "sns.heatmap(df.isnull(), cbar=False, cmap='viridis') #grafica de los valores nulos"
   ]
  },
  {
   "cell_type": "code",
   "execution_count": 15,
   "id": "4cb99fb5",
   "metadata": {},
   "outputs": [
    {
     "data": {
      "text/plain": [
       "np.int64(1)"
      ]
     },
     "execution_count": 15,
     "metadata": {},
     "output_type": "execute_result"
    }
   ],
   "source": [
    "df['start_date'].isnull().sum() #verifico que ya no hay valores nulos en el dataframe "
   ]
  },
  {
   "cell_type": "code",
   "execution_count": 16,
   "id": "994fcac5",
   "metadata": {},
   "outputs": [
    {
     "data": {
      "text/plain": [
       "np.int64(2)"
      ]
     },
     "execution_count": 16,
     "metadata": {},
     "output_type": "execute_result"
    }
   ],
   "source": [
    "df['end_date'].isnull().sum()"
   ]
  },
  {
   "cell_type": "code",
   "execution_count": 17,
   "id": "a5acac8f",
   "metadata": {},
   "outputs": [],
   "source": [
    "#. Normalizar decimales (roi y conversion_rate)\n",
    "def normalize_decimal(value):\n",
    "    value = str(value).replace('%', '').replace(',', '.')\n",
    "    try:\n",
    "        return float(value)\n",
    "    except:\n",
    "        return None\n",
    "\n",
    "df['roi'] = df['roi'].apply(normalize_decimal)\n",
    "df['conversion_rate'] = df['conversion_rate'].apply(normalize_decimal)\n"
   ]
  },
  {
   "cell_type": "code",
   "execution_count": 18,
   "id": "183b17b8",
   "metadata": {},
   "outputs": [],
   "source": [
    "# Limpiar budget y revenue para quitar símbolos y convertir a números\n",
    "import re\n",
    "\n",
    "def clean_currency(value):\n",
    "    value = str(value)\n",
    "    # Quitar cualquier símbolo no numérico o decimal\n",
    "    value = re.sub(r'[^\\d,\\.]', '', value)\n",
    "    # Convertir coma a punto si hay solo una coma\n",
    "    if value.count(',') == 1 and value.count('.') == 0:\n",
    "        value = value.replace(',', '.')\n",
    "    # Quitar separadores de miles si es necesario\n",
    "    if value.count('.') > 1:\n",
    "        value = value.replace('.', '').replace(',', '.')\n",
    "    elif value.count(',') > 1:\n",
    "        value = value.replace(',', '')\n",
    "    try:\n",
    "        return float(value)\n",
    "    except:\n",
    "        return None\n",
    "\n",
    "df['budget'] = df['budget'].apply(clean_currency)\n",
    "df['revenue'] = df['revenue'].apply(clean_currency)\n"
   ]
  },
  {
   "cell_type": "code",
   "execution_count": 19,
   "id": "4f8c0663",
   "metadata": {},
   "outputs": [],
   "source": [
    "#Verificar unidad de conversion_rate\n",
    "df['conversion_rate'] = df['conversion_rate'].apply(lambda x: x*100 if x <= 1 else x)\n"
   ]
  },
  {
   "cell_type": "code",
   "execution_count": 20,
   "id": "a501fced",
   "metadata": {},
   "outputs": [
    {
     "name": "stdout",
     "output_type": "stream",
     "text": [
      "campaign_name       object\n",
      "start_date          object\n",
      "end_date            object\n",
      "budget             float64\n",
      "roi                float64\n",
      "type                object\n",
      "target_audience     object\n",
      "channel             object\n",
      "conversion_rate    float64\n",
      "revenue            float64\n",
      "dtype: object\n",
      "campaign_name      0\n",
      "start_date         1\n",
      "end_date           2\n",
      "budget             4\n",
      "roi                4\n",
      "type               1\n",
      "target_audience    2\n",
      "channel            1\n",
      "conversion_rate    4\n",
      "revenue            3\n",
      "dtype: int64\n"
     ]
    }
   ],
   "source": [
    "#Validaciones\n",
    "print(df.dtypes)\n",
    "print(df.isnull().sum())\n"
   ]
  },
  {
   "cell_type": "code",
   "execution_count": 21,
   "id": "3ef2a5d7",
   "metadata": {},
   "outputs": [],
   "source": [
    "#Normalización y Validación de Datos\n",
    "# 1. Normalización de decimales y valores numéricos\n",
    "def normalize_decimal(value):\n",
    "    if pd.isna(value):\n",
    "        return None\n",
    "    try:\n",
    "        # Eliminar símbolos y convertir a float\n",
    "        value = str(value).replace('%', '').replace('$', '').strip()\n",
    "        # Manejar diferentes formatos de decimal\n",
    "        if ',' in value and '.' in value:\n",
    "            value = value.replace(',', '')\n",
    "        elif ',' in value:\n",
    "            value = value.replace(',', '.')\n",
    "        return float(value)\n",
    "    except:\n",
    "        return None\n",
    "\n",
    "# 2. Normalización de fechas\n",
    "def normalize_dates(df):\n",
    "    for col in ['start_date', 'end_date']:\n",
    "        df[col] = pd.to_datetime(df[col], errors='coerce', format='%Y-%m-%d')\n",
    "    return df\n",
    "\n",
    "# 3. Aplicar normalizaciones\n",
    "df['roi'] = df['roi'].apply(normalize_decimal)\n",
    "df['conversion_rate'] = df['conversion_rate'].apply(normalize_decimal)\n",
    "df['budget'] = df['budget'].apply(normalize_decimal)\n",
    "df['revenue'] = df['revenue'].apply(normalize_decimal)\n",
    "\n",
    "# 4. Estandarizar conversion_rate a porcentaje\n",
    "df['conversion_rate'] = df['conversion_rate'].apply(lambda x: x*100 if x and x <= 1 else x)\n",
    "\n",
    "# 5. Validaciones\n",
    "def validate_data(df):\n",
    "    validation_results = {\n",
    "        'null_values': df.isnull().sum(),\n",
    "        'data_types': df.dtypes,\n",
    "        'value_ranges': {\n",
    "            'roi': [df['roi'].min(), df['roi'].max()],\n",
    "            'conversion_rate': [df['conversion_rate'].min(), df['conversion_rate'].max()],\n",
    "            'budget': [df['budget'].min(), df['budget'].max()],\n",
    "            'revenue': [df['revenue'].min(), df['revenue'].max()]\n",
    "        }\n",
    "    }\n",
    "    return validation_results"
   ]
  },
  {
   "cell_type": "code",
   "execution_count": 22,
   "id": "db0b58ef",
   "metadata": {},
   "outputs": [],
   "source": [
    "#Manejo de Duplicados\n",
    "def handle_duplicates(df):\n",
    "    # 1. Identificar duplicados exactos\n",
    "    exact_dupes = df.duplicated().sum()\n",
    "    \n",
    "    # 2. Identificar duplicados parciales por nombre de campaña\n",
    "    campaign_dupes = df[df.duplicated(subset=['campaign_name'], keep=False)]\n",
    "    \n",
    "    # 3. Criterios para mantener filas en caso de duplicados\n",
    "    df_clean = df.sort_values('revenue', ascending=False).drop_duplicates(\n",
    "        subset=['campaign_name'], keep='first'\n",
    "    )\n",
    "    \n",
    "    # 4. Documentar cambios\n",
    "    changes = {\n",
    "        'original_rows': len(df),\n",
    "        'remaining_rows': len(df_clean),\n",
    "        'removed_rows': len(df) - len(df_clean),\n",
    "        'exact_duplicates': exact_dupes\n",
    "    }\n",
    "    \n",
    "    return df_clean, changes"
   ]
  },
  {
   "cell_type": "code",
   "execution_count": 23,
   "id": "4ba75b8f",
   "metadata": {},
   "outputs": [],
   "source": [
    "#3. Detección y Manejo de Outliers\n",
    "def detect_outliers(df, columns=['budget', 'revenue', 'roi', 'conversion_rate']):#Define una función que recibe un DataFrame df y una lista de columnas a evaluar (por defecto: 'budget', 'revenue', 'roi', 'conversion_rate').\n",
    "    outliers = {} #Crea un diccionario vacío outliers donde se almacenarán los valores atípicos por columna.\n",
    "    \n",
    "    #Para cada columna en la lista de columnas, calcula los cuartiles Q1 y Q3, el rango intercuartílico (IQR) y los límites inferior y superior para detectar outliers.\n",
    "    #Los outliers se almacenan en el diccionario outliers, donde la clave es el nombre de la columna y el valor es un DataFrame con los valores atípicos.\n",
    "    for col in columns:\n",
    "        for col in columns:\n",
    "            Q1 = df[col].quantile(0.25)  # Primer cuartil (25%)\n",
    "            Q3 = df[col].quantile(0.75)  # Tercer cuartil (75%)\n",
    "            IQR = Q3 - Q1                # Rango intercuartílico\n",
    "        lower_bound = Q1 - 1.5 * IQR #El IQR es una medida de dispersión que nos ayuda a identificar outliers.\n",
    "        upper_bound = Q3 + 1.5 * IQR\n",
    "        \n",
    "        #Define los límites inferiores y superiores para considerar un valor como outlier.\n",
    "        outliers[col] = df[(df[col] < lower_bound) | (df[col] > upper_bound)][col]\n",
    "    \n",
    "    #Filtra los valores que están fuera de esos límites (es decir, los outliers) y los guarda en el diccionario.\n",
    "    return outliers\n",
    "\n",
    "# Manejo de outliers\n",
    "def handle_outliers(df, outliers):\n",
    "    #Crea una copia del DataFrame original para no modificarlo directamente.\n",
    "    df_clean = df.copy()\n",
    "    \n",
    "    #Para cada columna con outliers\n",
    "    #Calcula cuántos outliers hay y sus valores mínimo y máximo. Esto puede servir para registrar o reportar.\n",
    "    for col, outlier_values in outliers.items():\n",
    "        # Documentar outliers antes de tratarlos\n",
    "        outlier_stats = {\n",
    "            'count': len(outlier_values),\n",
    "            'min': outlier_values.min(),\n",
    "            'max': outlier_values.max()\n",
    "        }\n",
    "        \n",
    "        #Vuelve a calcular los límites IQR.\n",
    "        #Reemplaza los valores que estén fuera de esos límites con los valores límite (boundaries) usando clip.\n",
    "        # Opción 1: Recortar (capping)\n",
    "        Q1 = df[col].quantile(0.25)\n",
    "        Q3 = df[col].quantile(0.75)\n",
    "        IQR = Q3 - Q1\n",
    "        df_clean[col] = df_clean[col].clip(\n",
    "            lower=Q1 - 1.5 * IQR,\n",
    "            upper=Q3 + 1.5 * IQR\n",
    "        )\n",
    "    \n",
    "    #Devuelve el DataFrame limpio y las estadísticas del último grupo de outliers procesado\n",
    "    return df_clean, outlier_stats"
   ]
  },
  {
   "cell_type": "code",
   "execution_count": 24,
   "id": "8ebb7fb0",
   "metadata": {},
   "outputs": [
    {
     "name": "stdout",
     "output_type": "stream",
     "text": [
      "Valores únicos en channel después de la estandarización:\n",
      "['organic' 'promotion' 'paid' 'referral' nan]\n"
     ]
    }
   ],
   "source": [
    "def standardize_categories(df):\n",
    "    # Correcciones para 'channel'\n",
    "    channel_mapping = {\n",
    "        'referal': 'referral',\n",
    "        'organic': 'organic',\n",
    "        'paid': 'paid',\n",
    "        'promotion': 'promotion',\n",
    "        'referral': 'referral'\n",
    "    }\n",
    "    # Correcciones para 'target_audience'\n",
    "    audience_mapping = {\n",
    "        'b2b': 'B2B',\n",
    "        'b2c': 'B2C'\n",
    "    }\n",
    "\n",
    "    # Convertir a minúsculas y reemplazar según el diccionario\n",
    "    df['channel'] = df['channel'].str.lower().replace(channel_mapping)\n",
    "    df['target_audience'] = df['target_audience'].str.lower().replace(audience_mapping)\n",
    "\n",
    "    print(\"Valores únicos en channel después de la estandarización:\")\n",
    "    print(df['channel'].unique())\n",
    "    return df\n",
    "\n",
    "df = standardize_categories(df)\n",
    "\n"
   ]
  },
  {
   "cell_type": "code",
   "execution_count": 25,
   "id": "d9a2a30b",
   "metadata": {},
   "outputs": [],
   "source": [
    "#Enriquecimiento de Datos\n",
    "def enrich_dataset(df):\n",
    "    # Calcular métricas adicionales\n",
    "    df['net_profit'] = df['revenue'] - df['budget']\n",
    "    df['cost_per_conversion'] = df['budget'] / (df['conversion_rate'] / 100)\n",
    "    \n",
    "    # Extraer componentes temporales\n",
    "    df['month'] = df['start_date'].dt.month\n",
    "    df['quarter'] = df['start_date'].dt.quarter\n",
    "    df['year'] = df['start_date'].dt.year\n",
    "    \n",
    "    # Categorizar rendimiento\n",
    "    df['performance_category'] = pd.qcut(df['roi'], q=4, labels=['Low', 'Medium', 'High', 'Excellent'])\n",
    "    \n",
    "    return df"
   ]
  },
  {
   "cell_type": "code",
   "execution_count": 26,
   "id": "09ce7fb0",
   "metadata": {},
   "outputs": [],
   "source": [
    "#Validación Final\n",
    "def final_validation(df):\n",
    "    # Verificar tipos de datos\n",
    "    expected_types = {\n",
    "        'budget': 'float64',\n",
    "        'revenue': 'float64',\n",
    "        'roi': 'float64',\n",
    "        'conversion_rate': 'float64',\n",
    "        'start_date': 'datetime64[ns]',\n",
    "        'end_date': 'datetime64[ns]'\n",
    "    }\n",
    "    \n",
    "    type_check = {col: str(df[col].dtype) == expected_types[col] \n",
    "                  for col in expected_types.keys()}\n",
    "    \n",
    "    # Verificar consistencia\n",
    "    consistency_check = {\n",
    "        'revenue_gt_budget': (df['revenue'] >= df['budget']).all(),\n",
    "        'conversion_rate_range': ((df['conversion_rate'] >= 0) & \n",
    "                                (df['conversion_rate'] <= 100)).all(),\n",
    "        'dates_order': (df['end_date'] >= df['start_date']).all()\n",
    "    }\n",
    "    \n",
    "    return {'type_check': type_check, 'consistency_check': consistency_check}"
   ]
  },
  {
   "cell_type": "code",
   "execution_count": 27,
   "id": "c91598fe",
   "metadata": {},
   "outputs": [
    {
     "name": "stdout",
     "output_type": "stream",
     "text": [
      "Número de filas con valores nulos: 11\n",
      "\n",
      "Número de filas con valores nulos en 'start_date': 1\n",
      "\n",
      "Filas con valores nulos en 'start_date':\n"
     ]
    },
    {
     "data": {
      "text/html": [
       "<div>\n",
       "<style scoped>\n",
       "    .dataframe tbody tr th:only-of-type {\n",
       "        vertical-align: middle;\n",
       "    }\n",
       "\n",
       "    .dataframe tbody tr th {\n",
       "        vertical-align: top;\n",
       "    }\n",
       "\n",
       "    .dataframe thead th {\n",
       "        text-align: right;\n",
       "    }\n",
       "</style>\n",
       "<table border=\"1\" class=\"dataframe\">\n",
       "  <thead>\n",
       "    <tr style=\"text-align: right;\">\n",
       "      <th></th>\n",
       "      <th>campaign_name</th>\n",
       "      <th>start_date</th>\n",
       "      <th>end_date</th>\n",
       "      <th>budget</th>\n",
       "      <th>roi</th>\n",
       "      <th>type</th>\n",
       "      <th>target_audience</th>\n",
       "      <th>channel</th>\n",
       "      <th>conversion_rate</th>\n",
       "      <th>revenue</th>\n",
       "    </tr>\n",
       "  </thead>\n",
       "  <tbody>\n",
       "    <tr>\n",
       "      <th>1021</th>\n",
       "      <td>Cloud-based scalable solution</td>\n",
       "      <td>NaN</td>\n",
       "      <td>2023-12-31</td>\n",
       "      <td>50000.0</td>\n",
       "      <td>NaN</td>\n",
       "      <td>event</td>\n",
       "      <td>B2C</td>\n",
       "      <td>paid</td>\n",
       "      <td>30.0</td>\n",
       "      <td>120000.0</td>\n",
       "    </tr>\n",
       "  </tbody>\n",
       "</table>\n",
       "</div>"
      ],
      "text/plain": [
       "                      campaign_name start_date    end_date   budget  roi  \\\n",
       "1021  Cloud-based scalable solution        NaN  2023-12-31  50000.0  NaN   \n",
       "\n",
       "       type target_audience channel  conversion_rate   revenue  \n",
       "1021  event             B2C    paid             30.0  120000.0  "
      ]
     },
     "metadata": {},
     "output_type": "display_data"
    },
    {
     "name": "stdout",
     "output_type": "stream",
     "text": [
      "Duración mediana de campaña: 364.0 días\n",
      "\n",
      "Valores nulos restantes después de rellenar:\n",
      "start_date    1\n",
      "end_date      1\n",
      "dtype: int64\n",
      "\n",
      "Filas con fechas rellenadas:\n"
     ]
    },
    {
     "data": {
      "text/html": [
       "<div>\n",
       "<style scoped>\n",
       "    .dataframe tbody tr th:only-of-type {\n",
       "        vertical-align: middle;\n",
       "    }\n",
       "\n",
       "    .dataframe tbody tr th {\n",
       "        vertical-align: top;\n",
       "    }\n",
       "\n",
       "    .dataframe thead th {\n",
       "        text-align: right;\n",
       "    }\n",
       "</style>\n",
       "<table border=\"1\" class=\"dataframe\">\n",
       "  <thead>\n",
       "    <tr style=\"text-align: right;\">\n",
       "      <th></th>\n",
       "      <th>campaign_name</th>\n",
       "      <th>start_date</th>\n",
       "      <th>end_date</th>\n",
       "      <th>budget</th>\n",
       "      <th>roi</th>\n",
       "      <th>type</th>\n",
       "      <th>target_audience</th>\n",
       "      <th>channel</th>\n",
       "      <th>conversion_rate</th>\n",
       "      <th>revenue</th>\n",
       "    </tr>\n",
       "  </thead>\n",
       "  <tbody>\n",
       "    <tr>\n",
       "      <th>1003</th>\n",
       "      <td>Upgradable transitional data-warehouse</td>\n",
       "      <td>2023-06-29</td>\n",
       "      <td>2023-12-13</td>\n",
       "      <td>NaN</td>\n",
       "      <td>0.59</td>\n",
       "      <td>social media</td>\n",
       "      <td>B2C</td>\n",
       "      <td>referral</td>\n",
       "      <td>67.0</td>\n",
       "      <td>558302.11</td>\n",
       "    </tr>\n",
       "    <tr>\n",
       "      <th>1004</th>\n",
       "      <td>User-friendly client-driven service-desk</td>\n",
       "      <td>2023-01-06</td>\n",
       "      <td>2023-12-11</td>\n",
       "      <td>36800.58</td>\n",
       "      <td>0.40</td>\n",
       "      <td>NaN</td>\n",
       "      <td>B2C</td>\n",
       "      <td>promotion</td>\n",
       "      <td>52.0</td>\n",
       "      <td>206241.46</td>\n",
       "    </tr>\n",
       "    <tr>\n",
       "      <th>1005</th>\n",
       "      <td>NEW CAMPAIGN - Missing Budget</td>\n",
       "      <td>2023-10-01</td>\n",
       "      <td>2024-01-15</td>\n",
       "      <td>NaN</td>\n",
       "      <td>0.25</td>\n",
       "      <td>email</td>\n",
       "      <td>B2B</td>\n",
       "      <td>organic</td>\n",
       "      <td>NaN</td>\n",
       "      <td>45000.00</td>\n",
       "    </tr>\n",
       "    <tr>\n",
       "      <th>1021</th>\n",
       "      <td>Cloud-based scalable solution</td>\n",
       "      <td>2023-01-01</td>\n",
       "      <td>2023-12-31</td>\n",
       "      <td>50000.00</td>\n",
       "      <td>NaN</td>\n",
       "      <td>event</td>\n",
       "      <td>B2C</td>\n",
       "      <td>paid</td>\n",
       "      <td>30.0</td>\n",
       "      <td>120000.00</td>\n",
       "    </tr>\n",
       "    <tr>\n",
       "      <th>1022</th>\n",
       "      <td>Broken-date campaign</td>\n",
       "      <td>2023-01-02</td>\n",
       "      <td>2024-01-01</td>\n",
       "      <td>25000.00</td>\n",
       "      <td>0.45</td>\n",
       "      <td>email</td>\n",
       "      <td>B2B</td>\n",
       "      <td>organic</td>\n",
       "      <td>NaN</td>\n",
       "      <td>87500.00</td>\n",
       "    </tr>\n",
       "    <tr>\n",
       "      <th>1023</th>\n",
       "      <td>Negative ROI test</td>\n",
       "      <td>2022-10-10</td>\n",
       "      <td>2023-05-05</td>\n",
       "      <td>10000.00</td>\n",
       "      <td>-0.20</td>\n",
       "      <td>podcast</td>\n",
       "      <td>B2C</td>\n",
       "      <td>referral</td>\n",
       "      <td>10.0</td>\n",
       "      <td>NaN</td>\n",
       "    </tr>\n",
       "    <tr>\n",
       "      <th>1024</th>\n",
       "      <td>Null-heavy campaign</td>\n",
       "      <td>2023-01-01</td>\n",
       "      <td>2023-12-31</td>\n",
       "      <td>NaN</td>\n",
       "      <td>NaN</td>\n",
       "      <td>B2B</td>\n",
       "      <td>social media</td>\n",
       "      <td>NaN</td>\n",
       "      <td>NaN</td>\n",
       "      <td>NaN</td>\n",
       "    </tr>\n",
       "    <tr>\n",
       "      <th>1026</th>\n",
       "      <td>Extra long name campaign test</td>\n",
       "      <td>2023-04-15</td>\n",
       "      <td>2023-09-15</td>\n",
       "      <td>30000.00</td>\n",
       "      <td>0.25</td>\n",
       "      <td>email</td>\n",
       "      <td>NaN</td>\n",
       "      <td>paid</td>\n",
       "      <td>40.0</td>\n",
       "      <td>45000.00</td>\n",
       "    </tr>\n",
       "    <tr>\n",
       "      <th>1027</th>\n",
       "      <td>No revenue campaign</td>\n",
       "      <td>2023-02-01</td>\n",
       "      <td>2023-08-01</td>\n",
       "      <td>20000.00</td>\n",
       "      <td>0.30</td>\n",
       "      <td>social media</td>\n",
       "      <td>B2B</td>\n",
       "      <td>organic</td>\n",
       "      <td>50.0</td>\n",
       "      <td>NaN</td>\n",
       "    </tr>\n",
       "    <tr>\n",
       "      <th>1028</th>\n",
       "      <td>Random mess</td>\n",
       "      <td>2023-06-06</td>\n",
       "      <td>2024-06-04</td>\n",
       "      <td>100000.00</td>\n",
       "      <td>NaN</td>\n",
       "      <td>podcast</td>\n",
       "      <td>NaN</td>\n",
       "      <td>referral</td>\n",
       "      <td>NaN</td>\n",
       "      <td>300000.00</td>\n",
       "    </tr>\n",
       "    <tr>\n",
       "      <th>1029</th>\n",
       "      <td>Invalid budget</td>\n",
       "      <td>2022-12-01</td>\n",
       "      <td>2023-06-01</td>\n",
       "      <td>NaN</td>\n",
       "      <td>NaN</td>\n",
       "      <td>email</td>\n",
       "      <td>B2C</td>\n",
       "      <td>promotion</td>\n",
       "      <td>20.0</td>\n",
       "      <td>50000.00</td>\n",
       "    </tr>\n",
       "  </tbody>\n",
       "</table>\n",
       "</div>"
      ],
      "text/plain": [
       "                                 campaign_name start_date   end_date  \\\n",
       "1003    Upgradable transitional data-warehouse 2023-06-29 2023-12-13   \n",
       "1004  User-friendly client-driven service-desk 2023-01-06 2023-12-11   \n",
       "1005             NEW CAMPAIGN - Missing Budget 2023-10-01 2024-01-15   \n",
       "1021             Cloud-based scalable solution 2023-01-01 2023-12-31   \n",
       "1022                      Broken-date campaign 2023-01-02 2024-01-01   \n",
       "1023                         Negative ROI test 2022-10-10 2023-05-05   \n",
       "1024                       Null-heavy campaign 2023-01-01 2023-12-31   \n",
       "1026             Extra long name campaign test 2023-04-15 2023-09-15   \n",
       "1027                       No revenue campaign 2023-02-01 2023-08-01   \n",
       "1028                               Random mess 2023-06-06 2024-06-04   \n",
       "1029                            Invalid budget 2022-12-01 2023-06-01   \n",
       "\n",
       "         budget   roi          type target_audience    channel  \\\n",
       "1003        NaN  0.59  social media             B2C   referral   \n",
       "1004   36800.58  0.40           NaN             B2C  promotion   \n",
       "1005        NaN  0.25         email             B2B    organic   \n",
       "1021   50000.00   NaN         event             B2C       paid   \n",
       "1022   25000.00  0.45         email             B2B    organic   \n",
       "1023   10000.00 -0.20       podcast             B2C   referral   \n",
       "1024        NaN   NaN           B2B    social media        NaN   \n",
       "1026   30000.00  0.25         email             NaN       paid   \n",
       "1027   20000.00  0.30  social media             B2B    organic   \n",
       "1028  100000.00   NaN       podcast             NaN   referral   \n",
       "1029        NaN   NaN         email             B2C  promotion   \n",
       "\n",
       "      conversion_rate    revenue  \n",
       "1003             67.0  558302.11  \n",
       "1004             52.0  206241.46  \n",
       "1005              NaN   45000.00  \n",
       "1021             30.0  120000.00  \n",
       "1022              NaN   87500.00  \n",
       "1023             10.0        NaN  \n",
       "1024              NaN        NaN  \n",
       "1026             40.0   45000.00  \n",
       "1027             50.0        NaN  \n",
       "1028              NaN  300000.00  \n",
       "1029             20.0   50000.00  "
      ]
     },
     "metadata": {},
     "output_type": "display_data"
    },
    {
     "name": "stdout",
     "output_type": "stream",
     "text": [
      "Número de filas donde faltan ambas fechas: 1\n",
      "\n",
      "Eliminadas 1 filas donde faltaban ambas fechas\n",
      "Forma del DataFrame después de eliminar: (1016, 10)\n",
      "\n",
      "Filas restantes donde faltan ambas fechas: 0\n"
     ]
    }
   ],
   "source": [
    "\n",
    "# Encontrar filas con valores nulos en cualquier columna\n",
    "filas_nulas = df[df.isnull().any(axis=1)]\n",
    "print(f\"Número de filas con valores nulos: {len(filas_nulas)}\")\n",
    "\n",
    "# Ver qué filas específicas tienen nulos en la columna 'start_date'\n",
    "start_date_nulos = df[df['start_date'].isnull()]\n",
    "print(f\"\\nNúmero de filas con valores nulos en 'start_date': {len(start_date_nulos)}\")\n",
    "\n",
    "# Mostrar esas filas\n",
    "if not start_date_nulos.empty:\n",
    "    print(\"\\nFilas con valores nulos en 'start_date':\")\n",
    "    display(start_date_nulos)\n",
    "# Convertir columnas de fecha a datetime\n",
    "df['start_date'] = pd.to_datetime(df['start_date'], errors='coerce')\n",
    "df['end_date'] = pd.to_datetime(df['end_date'], errors='coerce')\n",
    "\n",
    "# Calcular la duración de la campaña para filas donde ambas fechas están disponibles\n",
    "fechas_validas = df.dropna(subset=['start_date', 'end_date'])\n",
    "duracion_campañas = (fechas_validas['end_date'] - fechas_validas['start_date']).dt.days\n",
    "\n",
    "# Calcular la mediana de la duración de las campañas\n",
    "mediana_duracion = duracion_campañas.median()\n",
    "print(f\"Duración mediana de campaña: {mediana_duracion} días\")\n",
    "\n",
    "# Rellenar start_date faltante donde end_date está disponible\n",
    "mascara_start_faltante = df['start_date'].isna() & df['end_date'].notna()\n",
    "df.loc[mascara_start_faltante, 'start_date'] = df.loc[mascara_start_faltante, 'end_date'] - pd.Timedelta(days=mediana_duracion)\n",
    "\n",
    "# Rellenar end_date faltante donde start_date está disponible\n",
    "mascara_end_faltante = df['start_date'].notna() & df['end_date'].isna()\n",
    "df.loc[mascara_end_faltante, 'end_date'] = df.loc[mascara_end_faltante, 'start_date'] + pd.Timedelta(days=mediana_duracion)\n",
    "\n",
    "# Comprobar valores nulos restantes después de rellenar\n",
    "print(\"\\nValores nulos restantes después de rellenar:\")\n",
    "print(df[['start_date', 'end_date']].isna().sum())\n",
    "\n",
    "# Mostrar filas que tenían fechas rellenadas\n",
    "print(\"\\nFilas con fechas rellenadas:\")\n",
    "display(df.loc[filas_nulas.index])\n",
    "\n",
    "# Comprobar filas donde ambas fechas faltan\n",
    "ambas_fechas_faltan = df[(df['start_date'].isna()) & (df['end_date'].isna())]\n",
    "\n",
    "print(f\"Número de filas donde faltan ambas fechas: {len(ambas_fechas_faltan)}\")\n",
    "\n",
    "# Eliminar filas donde faltan ambas fechas\n",
    "filas_antes = len(df)\n",
    "df = df.dropna(subset=['start_date', 'end_date'], how='all')\n",
    "filas_despues = len(df)\n",
    "\n",
    "print(f\"\\nEliminadas {filas_antes - filas_despues} filas donde faltaban ambas fechas\")\n",
    "print(f\"Forma del DataFrame después de eliminar: {df.shape}\")\n",
    "\n",
    "# Verificar que no queden filas donde faltan ambas fechas\n",
    "ambas_fechas_faltan_despues = df[(df['start_date'].isna()) & (df['end_date'].isna())]\n",
    "print(f\"\\nFilas restantes donde faltan ambas fechas: {len(ambas_fechas_faltan_despues)}\")\n"
   ]
  },
  {
   "cell_type": "code",
   "execution_count": 28,
   "id": "c2875fb7",
   "metadata": {},
   "outputs": [
    {
     "data": {
      "text/plain": [
       "np.int64(0)"
      ]
     },
     "execution_count": 28,
     "metadata": {},
     "output_type": "execute_result"
    }
   ],
   "source": [
    "df['start_date'].isnull().sum()"
   ]
  },
  {
   "cell_type": "code",
   "execution_count": 29,
   "id": "f96d6d6d",
   "metadata": {},
   "outputs": [
    {
     "data": {
      "text/plain": [
       "np.int64(0)"
      ]
     },
     "execution_count": 29,
     "metadata": {},
     "output_type": "execute_result"
    }
   ],
   "source": [
    "df['end_date'].isnull().sum()"
   ]
  },
  {
   "cell_type": "code",
   "execution_count": 30,
   "id": "dfeab9a0",
   "metadata": {},
   "outputs": [
    {
     "name": "stdout",
     "output_type": "stream",
     "text": [
      "Porcentaje de nulos después de la imputación:\n",
      "roi                0.0\n",
      "conversion_rate    0.0\n",
      "revenue            0.0\n",
      "budget             0.0\n",
      "dtype: float64\n"
     ]
    },
    {
     "data": {
      "text/html": [
       "<div>\n",
       "<style scoped>\n",
       "    .dataframe tbody tr th:only-of-type {\n",
       "        vertical-align: middle;\n",
       "    }\n",
       "\n",
       "    .dataframe tbody tr th {\n",
       "        vertical-align: top;\n",
       "    }\n",
       "\n",
       "    .dataframe thead th {\n",
       "        text-align: right;\n",
       "    }\n",
       "</style>\n",
       "<table border=\"1\" class=\"dataframe\">\n",
       "  <thead>\n",
       "    <tr style=\"text-align: right;\">\n",
       "      <th></th>\n",
       "      <th>roi</th>\n",
       "      <th>conversion_rate</th>\n",
       "      <th>revenue</th>\n",
       "      <th>budget</th>\n",
       "    </tr>\n",
       "  </thead>\n",
       "  <tbody>\n",
       "    <tr>\n",
       "      <th>0</th>\n",
       "      <td>0.35</td>\n",
       "      <td>40.0</td>\n",
       "      <td>709593.48</td>\n",
       "      <td>8082.30</td>\n",
       "    </tr>\n",
       "    <tr>\n",
       "      <th>1</th>\n",
       "      <td>0.74</td>\n",
       "      <td>66.0</td>\n",
       "      <td>516609.10</td>\n",
       "      <td>17712.98</td>\n",
       "    </tr>\n",
       "    <tr>\n",
       "      <th>2</th>\n",
       "      <td>0.37</td>\n",
       "      <td>28.0</td>\n",
       "      <td>458227.42</td>\n",
       "      <td>84643.10</td>\n",
       "    </tr>\n",
       "    <tr>\n",
       "      <th>3</th>\n",
       "      <td>0.47</td>\n",
       "      <td>19.0</td>\n",
       "      <td>89958.73</td>\n",
       "      <td>14589.75</td>\n",
       "    </tr>\n",
       "    <tr>\n",
       "      <th>4</th>\n",
       "      <td>0.30</td>\n",
       "      <td>81.0</td>\n",
       "      <td>47511.35</td>\n",
       "      <td>39291.90</td>\n",
       "    </tr>\n",
       "  </tbody>\n",
       "</table>\n",
       "</div>"
      ],
      "text/plain": [
       "    roi  conversion_rate    revenue    budget\n",
       "0  0.35             40.0  709593.48   8082.30\n",
       "1  0.74             66.0  516609.10  17712.98\n",
       "2  0.37             28.0  458227.42  84643.10\n",
       "3  0.47             19.0   89958.73  14589.75\n",
       "4  0.30             81.0   47511.35  39291.90"
      ]
     },
     "execution_count": 30,
     "metadata": {},
     "output_type": "execute_result"
    }
   ],
   "source": [
    "from sklearn.impute import KNNImputer\n",
    "\n",
    "# Solo columnas numéricas para KNNImputer\n",
    "numerical_columns = ['roi', 'conversion_rate', 'revenue', 'budget']\n",
    "\n",
    "imputer = KNNImputer(n_neighbors=5)\n",
    "df[numerical_columns] = imputer.fit_transform(df[numerical_columns])\n",
    "\n",
    "print(\"Porcentaje de nulos después de la imputación:\")\n",
    "print(df[numerical_columns].isnull().sum() / df.shape[0] * 100)\n",
    "\n",
    "df[numerical_columns].head()\n"
   ]
  },
  {
   "cell_type": "code",
   "execution_count": 31,
   "id": "55c4c7cf",
   "metadata": {},
   "outputs": [],
   "source": [
    "\n",
    "\n",
    "# Para 'type', 'channel' y 'target_audience', puedes usar el valor más frecuente (moda)\n",
    "for col in ['type', 'channel', 'target_audience', 'budget']:\n",
    "    moda = df[col].mode()[0]\n",
    "    df[col] = df[col].fillna(moda)\n"
   ]
  },
  {
   "cell_type": "code",
   "execution_count": 32,
   "id": "396b1e82",
   "metadata": {},
   "outputs": [
    {
     "name": "stdout",
     "output_type": "stream",
     "text": [
      "Type es: object\n",
      "Target_audience es: object\n"
     ]
    }
   ],
   "source": [
    "# Ver el tipo de datos de la columna 'type'\n",
    "tipo_type = df['type'].dtype\n",
    "print(f'Type es: {tipo_type}')\n",
    "tipo_target_audience = df['target_audience'].dtype\n",
    "print(f'Target_audience es: {tipo_target_audience}')"
   ]
  },
  {
   "cell_type": "code",
   "execution_count": 33,
   "id": "8c5ef7cd",
   "metadata": {},
   "outputs": [
    {
     "name": "stdout",
     "output_type": "stream",
     "text": [
      "campaign_name              object\n",
      "start_date         datetime64[ns]\n",
      "end_date           datetime64[ns]\n",
      "budget                    float64\n",
      "roi                       float64\n",
      "type                       object\n",
      "target_audience            object\n",
      "channel                    object\n",
      "conversion_rate           float64\n",
      "revenue                   float64\n",
      "dtype: object\n"
     ]
    }
   ],
   "source": [
    "print(df.dtypes)"
   ]
  },
  {
   "cell_type": "code",
   "execution_count": 34,
   "id": "a350fb35",
   "metadata": {},
   "outputs": [
    {
     "data": {
      "text/plain": [
       "campaign_name      0\n",
       "start_date         0\n",
       "end_date           0\n",
       "budget             0\n",
       "roi                0\n",
       "type               0\n",
       "target_audience    0\n",
       "channel            0\n",
       "conversion_rate    0\n",
       "revenue            0\n",
       "dtype: int64"
      ]
     },
     "execution_count": 34,
     "metadata": {},
     "output_type": "execute_result"
    }
   ],
   "source": [
    "df.isnull().sum() #verifico que ya no hay valores nulos en el dataframe limpio"
   ]
  },
  {
   "cell_type": "code",
   "execution_count": 35,
   "id": "0008c4d8",
   "metadata": {},
   "outputs": [
    {
     "data": {
      "text/plain": [
       "campaign_name      0.0\n",
       "start_date         0.0\n",
       "end_date           0.0\n",
       "budget             0.0\n",
       "roi                0.0\n",
       "type               0.0\n",
       "target_audience    0.0\n",
       "channel            0.0\n",
       "conversion_rate    0.0\n",
       "revenue            0.0\n",
       "dtype: float64"
      ]
     },
     "execution_count": 35,
     "metadata": {},
     "output_type": "execute_result"
    }
   ],
   "source": [
    "df.isnull().sum() / len(df) * 100"
   ]
  },
  {
   "cell_type": "code",
   "execution_count": 36,
   "id": "f7fb0281",
   "metadata": {},
   "outputs": [
    {
     "data": {
      "text/plain": [
       "<Axes: >"
      ]
     },
     "execution_count": 36,
     "metadata": {},
     "output_type": "execute_result"
    },
    {
     "data": {
      "image/png": "[encoded data removed]",
      "text/plain": [
       "<Figure size 640x480 with 1 Axes>"
      ]
     },
     "metadata": {},
     "output_type": "display_data"
    }
   ],
   "source": [
    "sns.heatmap(df.isnull(), cbar=False, cmap='viridis') #grafica de los valores nulos"
   ]
  },
  {
   "cell_type": "code",
   "execution_count": 37,
   "id": "c6442b74",
   "metadata": {},
   "outputs": [
    {
     "name": "stdout",
     "output_type": "stream",
     "text": [
      "['campaign_name', 'start_date', 'end_date', 'budget', 'roi', 'type', 'target_audience', 'channel', 'conversion_rate', 'revenue']\n"
     ]
    }
   ],
   "source": [
    "print(df.columns.tolist())\n"
   ]
  },
  {
   "cell_type": "code",
   "execution_count": 38,
   "id": "5025443e",
   "metadata": {},
   "outputs": [],
   "source": [
    "df.columns = df.columns.str.strip() # Elimina espacios en blanco al inicio y al final de los nombres de las columnas"
   ]
  },
  {
   "cell_type": "code",
   "execution_count": 39,
   "id": "dc1050ba",
   "metadata": {},
   "outputs": [
    {
     "name": "stdout",
     "output_type": "stream",
     "text": [
      "['campaign_name', 'start_date', 'end_date', 'budget', 'roi', 'type', 'target_audience', 'channel', 'conversion_rate', 'revenue']\n"
     ]
    }
   ],
   "source": [
    "print(df.columns.tolist())"
   ]
  },
  {
   "cell_type": "code",
   "execution_count": 40,
   "id": "d090196e",
   "metadata": {},
   "outputs": [
    {
     "name": "stdout",
     "output_type": "stream",
     "text": [
      "campaign_name,start_date,end_date,budget,roi,type,target_audience,channel,conversion_rate,revenue\n",
      "\n",
      "Public-key multi-tasking throughput,2023-04-01,2024-02-23,8082.3,0.35,email,B2B,organic,0.4,709593.48\n",
      "\n",
      "De-engineered analyzing task-force,2023-02-15,2024-04-22,17712.98,0.74,email,B2C,promotion,0.66,516609.1\n",
      "\n",
      "Balanced solution-oriented Local Area Network,2022-12-20,2023-10-11,84643.1,0.37,podcast,B2B,paid,0.28,458227.42\n",
      "\n",
      "Distributed real-time methodology,2022-09-26,2023-09-27,14589.75,0.47,webinar,B2B,organic,0.19,89958.73\n",
      "\n",
      "Front-line executive infrastructure,2023-07-07,2024-05-15,39291.9,0.3,social media,B2B,promotion,0.81,47511.35\n",
      "\n",
      "Upgradable transitional data-warehouse,2023-06-29,2023-12-13,75569.28,0.59,social media,B2C,referral,0.67,558302.11\n",
      "\n",
      "Innovative context-sensitive framework,2023-03-01,2024-02-23,28964.45,0.59,email,B2C,referral,0.17,172882.59\n",
      "\n",
      "User-friendly client-driven service-desk,2023-01-06,2023-12-11,36800.58,0.4,webinar,B2C,promotion,0.52,206241.46\n",
      "\n",
      "Proactive neutral methodology,2022-09-06,2024-01-11,40493.88,0.16,webinar,B2C,organic,0.47,734755.76\n",
      "\n"
     ]
    }
   ],
   "source": [
    "# sin tratar de separarlo en columnas.\n",
    "with open(r\"..\\data\\marketingcampaigns.csv\", encoding='utf-8') as f:\n",
    "    for i in range(10):\n",
    "        print(f.readline())"
   ]
  },
  {
   "cell_type": "code",
   "execution_count": 41,
   "id": "d53e3c41",
   "metadata": {},
   "outputs": [
    {
     "name": "stdout",
     "output_type": "stream",
     "text": [
      "✅ 'budget' está presente.\n",
      "✅ 'roi' está presente.\n",
      "✅ 'conversion_rate' está presente.\n",
      "✅ 'revenue' está presente.\n"
     ]
    }
   ],
   "source": [
    "columnas_numericas = ['budget', 'roi', 'conversion_rate', 'revenue']\n",
    "\n",
    "for col in columnas_numericas:\n",
    "    if col in df.columns:\n",
    "        print(f\"✅ '{col}' está presente.\")\n",
    "    else:\n",
    "        print(f\"❌ '{col}' NO está en el DataFrame.\")\n",
    "\n"
   ]
  },
  {
   "cell_type": "code",
   "execution_count": 42,
   "id": "abf6b21e",
   "metadata": {},
   "outputs": [
    {
     "data": {
      "text/plain": [
       "0       0.350\n",
       "1       0.740\n",
       "2       0.370\n",
       "3       0.470\n",
       "4       0.300\n",
       "        ...  \n",
       "1027    0.300\n",
       "1028    0.640\n",
       "1029    0.402\n",
       "1030    0.600\n",
       "1031    0.800\n",
       "Name: roi, Length: 1016, dtype: float64"
      ]
     },
     "execution_count": 42,
     "metadata": {},
     "output_type": "execute_result"
    }
   ],
   "source": [
    "df['roi'] #una columna"
   ]
  },
  {
   "cell_type": "code",
   "execution_count": 43,
   "id": "22a7e941",
   "metadata": {},
   "outputs": [
    {
     "data": {
      "text/plain": [
       "0       86.795984\n",
       "1       28.165567\n",
       "2        4.413642\n",
       "3        5.165886\n",
       "4        0.209189\n",
       "          ...    \n",
       "1027    17.917423\n",
       "1028     2.000000\n",
       "1029    -0.975226\n",
       "1030     0.500000\n",
       "1031     2.000000\n",
       "Name: roi, Length: 1016, dtype: float64"
      ]
     },
     "execution_count": 43,
     "metadata": {},
     "output_type": "execute_result"
    }
   ],
   "source": [
    "#calcular roi\n",
    "df['roi'] = (df['revenue'] - df['budget']) / df['budget']\n",
    "df['roi']"
   ]
  },
  {
   "cell_type": "code",
   "execution_count": 52,
   "id": "075eb195",
   "metadata": {},
   "outputs": [
    {
     "data": {
      "text/plain": [
       "np.float64(884.7589994014651)"
      ]
     },
     "execution_count": 52,
     "metadata": {},
     "output_type": "execute_result"
    }
   ],
   "source": [
    "#roi maximo\n",
    "roi_max = df['roi'].max()\n",
    "roi_max"
   ]
  },
  {
   "cell_type": "code",
   "execution_count": 44,
   "id": "ea7e081e",
   "metadata": {},
   "outputs": [],
   "source": [
    "#como arreglo los valores nulos sin cargarnos los datos originales\n",
    "df_limpio = df.copy() #copia del dataframe original"
   ]
  },
  {
   "cell_type": "code",
   "execution_count": 45,
   "id": "e7321c73",
   "metadata": {},
   "outputs": [
    {
     "data": {
      "text/html": [
       "<div>\n",
       "<style scoped>\n",
       "    .dataframe tbody tr th:only-of-type {\n",
       "        vertical-align: middle;\n",
       "    }\n",
       "\n",
       "    .dataframe tbody tr th {\n",
       "        vertical-align: top;\n",
       "    }\n",
       "\n",
       "    .dataframe thead th {\n",
       "        text-align: right;\n",
       "    }\n",
       "</style>\n",
       "<table border=\"1\" class=\"dataframe\">\n",
       "  <thead>\n",
       "    <tr style=\"text-align: right;\">\n",
       "      <th></th>\n",
       "      <th>campaign_name</th>\n",
       "      <th>start_date</th>\n",
       "      <th>end_date</th>\n",
       "      <th>budget</th>\n",
       "      <th>roi</th>\n",
       "      <th>type</th>\n",
       "      <th>target_audience</th>\n",
       "      <th>channel</th>\n",
       "      <th>conversion_rate</th>\n",
       "      <th>revenue</th>\n",
       "    </tr>\n",
       "  </thead>\n",
       "  <tbody>\n",
       "    <tr>\n",
       "      <th>0</th>\n",
       "      <td>Public-key multi-tasking throughput</td>\n",
       "      <td>2023-04-01</td>\n",
       "      <td>2024-02-23</td>\n",
       "      <td>8082.30</td>\n",
       "      <td>86.795984</td>\n",
       "      <td>email</td>\n",
       "      <td>B2B</td>\n",
       "      <td>organic</td>\n",
       "      <td>40.0</td>\n",
       "      <td>709593.48</td>\n",
       "    </tr>\n",
       "    <tr>\n",
       "      <th>1</th>\n",
       "      <td>De-engineered analyzing task-force</td>\n",
       "      <td>2023-02-15</td>\n",
       "      <td>2024-04-22</td>\n",
       "      <td>17712.98</td>\n",
       "      <td>28.165567</td>\n",
       "      <td>email</td>\n",
       "      <td>B2C</td>\n",
       "      <td>promotion</td>\n",
       "      <td>66.0</td>\n",
       "      <td>516609.10</td>\n",
       "    </tr>\n",
       "    <tr>\n",
       "      <th>2</th>\n",
       "      <td>Balanced solution-oriented Local Area Network</td>\n",
       "      <td>2022-12-20</td>\n",
       "      <td>2023-10-11</td>\n",
       "      <td>84643.10</td>\n",
       "      <td>4.413642</td>\n",
       "      <td>podcast</td>\n",
       "      <td>B2B</td>\n",
       "      <td>paid</td>\n",
       "      <td>28.0</td>\n",
       "      <td>458227.42</td>\n",
       "    </tr>\n",
       "  </tbody>\n",
       "</table>\n",
       "</div>"
      ],
      "text/plain": [
       "                                   campaign_name start_date   end_date  \\\n",
       "0            Public-key multi-tasking throughput 2023-04-01 2024-02-23   \n",
       "1             De-engineered analyzing task-force 2023-02-15 2024-04-22   \n",
       "2  Balanced solution-oriented Local Area Network 2022-12-20 2023-10-11   \n",
       "\n",
       "     budget        roi     type target_audience    channel  conversion_rate  \\\n",
       "0   8082.30  86.795984    email             B2B    organic             40.0   \n",
       "1  17712.98  28.165567    email             B2C  promotion             66.0   \n",
       "2  84643.10   4.413642  podcast             B2B       paid             28.0   \n",
       "\n",
       "     revenue  \n",
       "0  709593.48  \n",
       "1  516609.10  \n",
       "2  458227.42  "
      ]
     },
     "execution_count": 45,
     "metadata": {},
     "output_type": "execute_result"
    }
   ],
   "source": [
    "df_limpio.head(3) #verifico que la copia se haya hecho bien"
   ]
  },
  {
   "cell_type": "code",
   "execution_count": 46,
   "id": "38b406b5",
   "metadata": {},
   "outputs": [
    {
     "data": {
      "text/plain": [
       "campaign_name      0\n",
       "start_date         0\n",
       "end_date           0\n",
       "budget             0\n",
       "roi                0\n",
       "type               0\n",
       "target_audience    0\n",
       "channel            0\n",
       "conversion_rate    0\n",
       "revenue            0\n",
       "dtype: int64"
      ]
     },
     "execution_count": 46,
     "metadata": {},
     "output_type": "execute_result"
    }
   ],
   "source": [
    "df_limpio.isnull().sum() #verifico que ya no hay valores nulos en el dataframe limpio"
   ]
  },
  {
   "cell_type": "code",
   "execution_count": 47,
   "id": "23851dd9",
   "metadata": {},
   "outputs": [
    {
     "data": {
      "text/plain": [
       "np.int64(0)"
      ]
     },
     "execution_count": 47,
     "metadata": {},
     "output_type": "execute_result"
    }
   ],
   "source": [
    "df_limpio.duplicated().sum() #suma de los valores duplicados por fila"
   ]
  },
  {
   "cell_type": "code",
   "execution_count": 48,
   "id": "c909cc52",
   "metadata": {},
   "outputs": [
    {
     "data": {
      "text/html": [
       "<div>\n",
       "<style scoped>\n",
       "    .dataframe tbody tr th:only-of-type {\n",
       "        vertical-align: middle;\n",
       "    }\n",
       "\n",
       "    .dataframe tbody tr th {\n",
       "        vertical-align: top;\n",
       "    }\n",
       "\n",
       "    .dataframe thead th {\n",
       "        text-align: right;\n",
       "    }\n",
       "</style>\n",
       "<table border=\"1\" class=\"dataframe\">\n",
       "  <thead>\n",
       "    <tr style=\"text-align: right;\">\n",
       "      <th></th>\n",
       "      <th>campaign_name</th>\n",
       "      <th>start_date</th>\n",
       "      <th>end_date</th>\n",
       "      <th>budget</th>\n",
       "      <th>roi</th>\n",
       "      <th>type</th>\n",
       "      <th>target_audience</th>\n",
       "      <th>channel</th>\n",
       "      <th>conversion_rate</th>\n",
       "      <th>revenue</th>\n",
       "    </tr>\n",
       "  </thead>\n",
       "  <tbody>\n",
       "    <tr>\n",
       "      <th>0</th>\n",
       "      <td>Public-key multi-tasking throughput</td>\n",
       "      <td>2023-04-01</td>\n",
       "      <td>2024-02-23</td>\n",
       "      <td>8082.300</td>\n",
       "      <td>86.795984</td>\n",
       "      <td>email</td>\n",
       "      <td>B2B</td>\n",
       "      <td>organic</td>\n",
       "      <td>40.0</td>\n",
       "      <td>709593.480</td>\n",
       "    </tr>\n",
       "    <tr>\n",
       "      <th>1</th>\n",
       "      <td>De-engineered analyzing task-force</td>\n",
       "      <td>2023-02-15</td>\n",
       "      <td>2024-04-22</td>\n",
       "      <td>17712.980</td>\n",
       "      <td>28.165567</td>\n",
       "      <td>email</td>\n",
       "      <td>B2C</td>\n",
       "      <td>promotion</td>\n",
       "      <td>66.0</td>\n",
       "      <td>516609.100</td>\n",
       "    </tr>\n",
       "    <tr>\n",
       "      <th>2</th>\n",
       "      <td>Balanced solution-oriented Local Area Network</td>\n",
       "      <td>2022-12-20</td>\n",
       "      <td>2023-10-11</td>\n",
       "      <td>84643.100</td>\n",
       "      <td>4.413642</td>\n",
       "      <td>podcast</td>\n",
       "      <td>B2B</td>\n",
       "      <td>paid</td>\n",
       "      <td>28.0</td>\n",
       "      <td>458227.420</td>\n",
       "    </tr>\n",
       "    <tr>\n",
       "      <th>3</th>\n",
       "      <td>Distributed real-time methodology</td>\n",
       "      <td>2022-09-26</td>\n",
       "      <td>2023-09-27</td>\n",
       "      <td>14589.750</td>\n",
       "      <td>5.165886</td>\n",
       "      <td>webinar</td>\n",
       "      <td>B2B</td>\n",
       "      <td>organic</td>\n",
       "      <td>19.0</td>\n",
       "      <td>89958.730</td>\n",
       "    </tr>\n",
       "    <tr>\n",
       "      <th>4</th>\n",
       "      <td>Front-line executive infrastructure</td>\n",
       "      <td>2023-07-07</td>\n",
       "      <td>2024-05-15</td>\n",
       "      <td>39291.900</td>\n",
       "      <td>0.209189</td>\n",
       "      <td>social media</td>\n",
       "      <td>B2B</td>\n",
       "      <td>promotion</td>\n",
       "      <td>81.0</td>\n",
       "      <td>47511.350</td>\n",
       "    </tr>\n",
       "    <tr>\n",
       "      <th>...</th>\n",
       "      <td>...</td>\n",
       "      <td>...</td>\n",
       "      <td>...</td>\n",
       "      <td>...</td>\n",
       "      <td>...</td>\n",
       "      <td>...</td>\n",
       "      <td>...</td>\n",
       "      <td>...</td>\n",
       "      <td>...</td>\n",
       "      <td>...</td>\n",
       "    </tr>\n",
       "    <tr>\n",
       "      <th>1027</th>\n",
       "      <td>No revenue campaign</td>\n",
       "      <td>2023-02-01</td>\n",
       "      <td>2023-08-01</td>\n",
       "      <td>20000.000</td>\n",
       "      <td>17.917423</td>\n",
       "      <td>social media</td>\n",
       "      <td>B2B</td>\n",
       "      <td>organic</td>\n",
       "      <td>50.0</td>\n",
       "      <td>378348.462</td>\n",
       "    </tr>\n",
       "    <tr>\n",
       "      <th>1028</th>\n",
       "      <td>Random mess</td>\n",
       "      <td>2023-06-06</td>\n",
       "      <td>2024-06-04</td>\n",
       "      <td>100000.000</td>\n",
       "      <td>2.000000</td>\n",
       "      <td>podcast</td>\n",
       "      <td>B2B</td>\n",
       "      <td>referral</td>\n",
       "      <td>44.6</td>\n",
       "      <td>300000.000</td>\n",
       "    </tr>\n",
       "    <tr>\n",
       "      <th>1029</th>\n",
       "      <td>Invalid budget</td>\n",
       "      <td>2022-12-01</td>\n",
       "      <td>2023-06-01</td>\n",
       "      <td>2018207.422</td>\n",
       "      <td>-0.975226</td>\n",
       "      <td>email</td>\n",
       "      <td>B2C</td>\n",
       "      <td>promotion</td>\n",
       "      <td>20.0</td>\n",
       "      <td>50000.000</td>\n",
       "    </tr>\n",
       "    <tr>\n",
       "      <th>1030</th>\n",
       "      <td>Overlapping dates</td>\n",
       "      <td>2023-03-01</td>\n",
       "      <td>2022-12-31</td>\n",
       "      <td>60000.000</td>\n",
       "      <td>0.500000</td>\n",
       "      <td>webinar</td>\n",
       "      <td>B2B</td>\n",
       "      <td>paid</td>\n",
       "      <td>70.0</td>\n",
       "      <td>90000.000</td>\n",
       "    </tr>\n",
       "    <tr>\n",
       "      <th>1031</th>\n",
       "      <td>Too many conversions</td>\n",
       "      <td>2023-05-01</td>\n",
       "      <td>2023-11-01</td>\n",
       "      <td>40000.000</td>\n",
       "      <td>2.000000</td>\n",
       "      <td>social media</td>\n",
       "      <td>B2C</td>\n",
       "      <td>organic</td>\n",
       "      <td>1.5</td>\n",
       "      <td>120000.000</td>\n",
       "    </tr>\n",
       "  </tbody>\n",
       "</table>\n",
       "<p>1016 rows × 10 columns</p>\n",
       "</div>"
      ],
      "text/plain": [
       "                                      campaign_name start_date   end_date  \\\n",
       "0               Public-key multi-tasking throughput 2023-04-01 2024-02-23   \n",
       "1                De-engineered analyzing task-force 2023-02-15 2024-04-22   \n",
       "2     Balanced solution-oriented Local Area Network 2022-12-20 2023-10-11   \n",
       "3                 Distributed real-time methodology 2022-09-26 2023-09-27   \n",
       "4               Front-line executive infrastructure 2023-07-07 2024-05-15   \n",
       "...                                             ...        ...        ...   \n",
       "1027                            No revenue campaign 2023-02-01 2023-08-01   \n",
       "1028                                    Random mess 2023-06-06 2024-06-04   \n",
       "1029                                 Invalid budget 2022-12-01 2023-06-01   \n",
       "1030                              Overlapping dates 2023-03-01 2022-12-31   \n",
       "1031                           Too many conversions 2023-05-01 2023-11-01   \n",
       "\n",
       "           budget        roi          type target_audience    channel  \\\n",
       "0        8082.300  86.795984         email             B2B    organic   \n",
       "1       17712.980  28.165567         email             B2C  promotion   \n",
       "2       84643.100   4.413642       podcast             B2B       paid   \n",
       "3       14589.750   5.165886       webinar             B2B    organic   \n",
       "4       39291.900   0.209189  social media             B2B  promotion   \n",
       "...           ...        ...           ...             ...        ...   \n",
       "1027    20000.000  17.917423  social media             B2B    organic   \n",
       "1028   100000.000   2.000000       podcast             B2B   referral   \n",
       "1029  2018207.422  -0.975226         email             B2C  promotion   \n",
       "1030    60000.000   0.500000       webinar             B2B       paid   \n",
       "1031    40000.000   2.000000  social media             B2C    organic   \n",
       "\n",
       "      conversion_rate     revenue  \n",
       "0                40.0  709593.480  \n",
       "1                66.0  516609.100  \n",
       "2                28.0  458227.420  \n",
       "3                19.0   89958.730  \n",
       "4                81.0   47511.350  \n",
       "...               ...         ...  \n",
       "1027             50.0  378348.462  \n",
       "1028             44.6  300000.000  \n",
       "1029             20.0   50000.000  \n",
       "1030             70.0   90000.000  \n",
       "1031              1.5  120000.000  \n",
       "\n",
       "[1016 rows x 10 columns]"
      ]
     },
     "execution_count": 48,
     "metadata": {},
     "output_type": "execute_result"
    }
   ],
   "source": [
    "df_limpio"
   ]
  },
  {
   "cell_type": "code",
   "execution_count": 49,
   "id": "4a5c1f2d",
   "metadata": {},
   "outputs": [],
   "source": [
    "df_limpio.to_csv(r'../data/marketingcampaigns_limpio.csv',index=False) #guardo el dataframe limpio en un nuevo archivo csv"
   ]
  },
  {
   "cell_type": "code",
   "execution_count": 50,
   "id": "fa72f072",
   "metadata": {},
   "outputs": [
    {
     "name": "stdout",
     "output_type": "stream",
     "text": [
      "Número de filas: 1016\n"
     ]
    }
   ],
   "source": [
    "print(\"Número de filas:\", len(df_limpio))"
   ]
  },
  {
   "cell_type": "code",
   "execution_count": 51,
   "id": "acf57b68",
   "metadata": {},
   "outputs": [
    {
     "name": "stdout",
     "output_type": "stream",
     "text": [
      "Número de filas: 1016\n"
     ]
    }
   ],
   "source": [
    "print(\"Número de filas:\", len(df))"
   ]
  }
 ],
 "metadata": {
  "kernelspec": {
   "display_name": ".venv",
   "language": "python",
   "name": "python3"
  },
  "language_info": {
   "codemirror_mode": {
    "name": "ipython",
    "version": 3
   },
   "file_extension": ".py",
   "mimetype": "text/x-python",
   "name": "python",
   "nbconvert_exporter": "python",
   "pygments_lexer": "ipython3",
   "version": "3.13.1"
  }
 },
 "nbformat": 4,
 "nbformat_minor": 5
}
