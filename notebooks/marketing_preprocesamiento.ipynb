{
 "cells": [
  {
   "cell_type": "code",
   "execution_count": 1,
   "id": "f5d31e0d",
   "metadata": {},
   "outputs": [],
   "source": [
    "import numpy as np\n",
    "import pandas as pd\n",
    "import seaborn as sns\n",
    "import warnings\n",
    "warnings.filterwarnings('ignore')\n"
   ]
  },
  {
   "cell_type": "code",
   "execution_count": 2,
   "id": "d9bdc799",
   "metadata": {},
   "outputs": [],
   "source": [
    "df = pd.read_csv(r\"../data/marketingcampaigns.csv\", sep=',', on_bad_lines='skip')"
   ]
  },
  {
   "cell_type": "code",
   "execution_count": 3,
   "id": "ec5080a6",
   "metadata": {},
   "outputs": [
    {
     "data": {
      "text/html": [
       "<div>\n",
       "<style scoped>\n",
       "    .dataframe tbody tr th:only-of-type {\n",
       "        vertical-align: middle;\n",
       "    }\n",
       "\n",
       "    .dataframe tbody tr th {\n",
       "        vertical-align: top;\n",
       "    }\n",
       "\n",
       "    .dataframe thead th {\n",
       "        text-align: right;\n",
       "    }\n",
       "</style>\n",
       "<table border=\"1\" class=\"dataframe\">\n",
       "  <thead>\n",
       "    <tr style=\"text-align: right;\">\n",
       "      <th></th>\n",
       "      <th>campaign_name</th>\n",
       "      <th>start_date</th>\n",
       "      <th>end_date</th>\n",
       "      <th>budget</th>\n",
       "      <th>roi</th>\n",
       "      <th>type</th>\n",
       "      <th>target_audience</th>\n",
       "      <th>channel</th>\n",
       "      <th>conversion_rate</th>\n",
       "      <th>revenue</th>\n",
       "    </tr>\n",
       "  </thead>\n",
       "  <tbody>\n",
       "    <tr>\n",
       "      <th>0</th>\n",
       "      <td>Public-key multi-tasking throughput</td>\n",
       "      <td>2023-04-01</td>\n",
       "      <td>2024-02-23</td>\n",
       "      <td>8082.3</td>\n",
       "      <td>0.35</td>\n",
       "      <td>email</td>\n",
       "      <td>B2B</td>\n",
       "      <td>organic</td>\n",
       "      <td>0.40</td>\n",
       "      <td>709593.48</td>\n",
       "    </tr>\n",
       "    <tr>\n",
       "      <th>1</th>\n",
       "      <td>De-engineered analyzing task-force</td>\n",
       "      <td>2023-02-15</td>\n",
       "      <td>2024-04-22</td>\n",
       "      <td>17712.98</td>\n",
       "      <td>0.74</td>\n",
       "      <td>email</td>\n",
       "      <td>B2C</td>\n",
       "      <td>promotion</td>\n",
       "      <td>0.66</td>\n",
       "      <td>516609.10</td>\n",
       "    </tr>\n",
       "    <tr>\n",
       "      <th>2</th>\n",
       "      <td>Balanced solution-oriented Local Area Network</td>\n",
       "      <td>2022-12-20</td>\n",
       "      <td>2023-10-11</td>\n",
       "      <td>84643.1</td>\n",
       "      <td>0.37</td>\n",
       "      <td>podcast</td>\n",
       "      <td>B2B</td>\n",
       "      <td>paid</td>\n",
       "      <td>0.28</td>\n",
       "      <td>458227.42</td>\n",
       "    </tr>\n",
       "    <tr>\n",
       "      <th>3</th>\n",
       "      <td>Distributed real-time methodology</td>\n",
       "      <td>2022-09-26</td>\n",
       "      <td>2023-09-27</td>\n",
       "      <td>14589.75</td>\n",
       "      <td>0.47</td>\n",
       "      <td>webinar</td>\n",
       "      <td>B2B</td>\n",
       "      <td>organic</td>\n",
       "      <td>0.19</td>\n",
       "      <td>89958.73</td>\n",
       "    </tr>\n",
       "    <tr>\n",
       "      <th>4</th>\n",
       "      <td>Front-line executive infrastructure</td>\n",
       "      <td>2023-07-07</td>\n",
       "      <td>2024-05-15</td>\n",
       "      <td>39291.9</td>\n",
       "      <td>0.30</td>\n",
       "      <td>social media</td>\n",
       "      <td>B2B</td>\n",
       "      <td>promotion</td>\n",
       "      <td>0.81</td>\n",
       "      <td>47511.35</td>\n",
       "    </tr>\n",
       "    <tr>\n",
       "      <th>...</th>\n",
       "      <td>...</td>\n",
       "      <td>...</td>\n",
       "      <td>...</td>\n",
       "      <td>...</td>\n",
       "      <td>...</td>\n",
       "      <td>...</td>\n",
       "      <td>...</td>\n",
       "      <td>...</td>\n",
       "      <td>...</td>\n",
       "      <td>...</td>\n",
       "    </tr>\n",
       "    <tr>\n",
       "      <th>1027</th>\n",
       "      <td>No revenue campaign</td>\n",
       "      <td>2023-02-01</td>\n",
       "      <td>2023-08-01</td>\n",
       "      <td>20000</td>\n",
       "      <td>0.30</td>\n",
       "      <td>social media</td>\n",
       "      <td>B2B</td>\n",
       "      <td>organic</td>\n",
       "      <td>0.50</td>\n",
       "      <td>NaN</td>\n",
       "    </tr>\n",
       "    <tr>\n",
       "      <th>1028</th>\n",
       "      <td>Random mess</td>\n",
       "      <td>2023-06-06</td>\n",
       "      <td>NaN</td>\n",
       "      <td>100000</td>\n",
       "      <td>NaN</td>\n",
       "      <td>podcast</td>\n",
       "      <td>NaN</td>\n",
       "      <td>referral</td>\n",
       "      <td>NaN</td>\n",
       "      <td>300000.00</td>\n",
       "    </tr>\n",
       "    <tr>\n",
       "      <th>1029</th>\n",
       "      <td>Invalid budget</td>\n",
       "      <td>2022-12-01</td>\n",
       "      <td>2023-06-01</td>\n",
       "      <td>abc</td>\n",
       "      <td>NaN</td>\n",
       "      <td>email</td>\n",
       "      <td>B2C</td>\n",
       "      <td>promotion</td>\n",
       "      <td>0.20</td>\n",
       "      <td>50000.00</td>\n",
       "    </tr>\n",
       "    <tr>\n",
       "      <th>1030</th>\n",
       "      <td>Overlapping dates</td>\n",
       "      <td>2023-03-01</td>\n",
       "      <td>2022-12-31</td>\n",
       "      <td>60000</td>\n",
       "      <td>0.60</td>\n",
       "      <td>webinar</td>\n",
       "      <td>B2B</td>\n",
       "      <td>paid</td>\n",
       "      <td>0.70</td>\n",
       "      <td>90000.00</td>\n",
       "    </tr>\n",
       "    <tr>\n",
       "      <th>1031</th>\n",
       "      <td>Too many conversions</td>\n",
       "      <td>2023-05-01</td>\n",
       "      <td>2023-11-01</td>\n",
       "      <td>40000</td>\n",
       "      <td>0.80</td>\n",
       "      <td>social media</td>\n",
       "      <td>B2C</td>\n",
       "      <td>organic</td>\n",
       "      <td>1.50</td>\n",
       "      <td>120000.00</td>\n",
       "    </tr>\n",
       "  </tbody>\n",
       "</table>\n",
       "<p>1032 rows × 10 columns</p>\n",
       "</div>"
      ],
      "text/plain": [
       "                                      campaign_name  start_date    end_date  \\\n",
       "0               Public-key multi-tasking throughput  2023-04-01  2024-02-23   \n",
       "1                De-engineered analyzing task-force  2023-02-15  2024-04-22   \n",
       "2     Balanced solution-oriented Local Area Network  2022-12-20  2023-10-11   \n",
       "3                 Distributed real-time methodology  2022-09-26  2023-09-27   \n",
       "4               Front-line executive infrastructure  2023-07-07  2024-05-15   \n",
       "...                                             ...         ...         ...   \n",
       "1027                            No revenue campaign  2023-02-01  2023-08-01   \n",
       "1028                                    Random mess  2023-06-06         NaN   \n",
       "1029                                 Invalid budget  2022-12-01  2023-06-01   \n",
       "1030                              Overlapping dates  2023-03-01  2022-12-31   \n",
       "1031                           Too many conversions  2023-05-01  2023-11-01   \n",
       "\n",
       "        budget   roi          type target_audience    channel  \\\n",
       "0       8082.3  0.35         email             B2B    organic   \n",
       "1     17712.98  0.74         email             B2C  promotion   \n",
       "2      84643.1  0.37       podcast             B2B       paid   \n",
       "3     14589.75  0.47       webinar             B2B    organic   \n",
       "4      39291.9  0.30  social media             B2B  promotion   \n",
       "...        ...   ...           ...             ...        ...   \n",
       "1027     20000  0.30  social media             B2B    organic   \n",
       "1028    100000   NaN       podcast             NaN   referral   \n",
       "1029       abc   NaN         email             B2C  promotion   \n",
       "1030     60000  0.60       webinar             B2B       paid   \n",
       "1031     40000  0.80  social media             B2C    organic   \n",
       "\n",
       "      conversion_rate    revenue  \n",
       "0                0.40  709593.48  \n",
       "1                0.66  516609.10  \n",
       "2                0.28  458227.42  \n",
       "3                0.19   89958.73  \n",
       "4                0.81   47511.35  \n",
       "...               ...        ...  \n",
       "1027             0.50        NaN  \n",
       "1028              NaN  300000.00  \n",
       "1029             0.20   50000.00  \n",
       "1030             0.70   90000.00  \n",
       "1031             1.50  120000.00  \n",
       "\n",
       "[1032 rows x 10 columns]"
      ]
     },
     "execution_count": 3,
     "metadata": {},
     "output_type": "execute_result"
    }
   ],
   "source": [
    "df"
   ]
  },
  {
   "cell_type": "code",
   "execution_count": 4,
   "id": "cf6e9f89",
   "metadata": {},
   "outputs": [
    {
     "data": {
      "text/plain": [
       "<bound method DataFrame.info of                                       campaign_name  start_date    end_date  \\\n",
       "0               Public-key multi-tasking throughput  2023-04-01  2024-02-23   \n",
       "1                De-engineered analyzing task-force  2023-02-15  2024-04-22   \n",
       "2     Balanced solution-oriented Local Area Network  2022-12-20  2023-10-11   \n",
       "3                 Distributed real-time methodology  2022-09-26  2023-09-27   \n",
       "4               Front-line executive infrastructure  2023-07-07  2024-05-15   \n",
       "...                                             ...         ...         ...   \n",
       "1027                            No revenue campaign  2023-02-01  2023-08-01   \n",
       "1028                                    Random mess  2023-06-06         NaN   \n",
       "1029                                 Invalid budget  2022-12-01  2023-06-01   \n",
       "1030                              Overlapping dates  2023-03-01  2022-12-31   \n",
       "1031                           Too many conversions  2023-05-01  2023-11-01   \n",
       "\n",
       "        budget   roi          type target_audience    channel  \\\n",
       "0       8082.3  0.35         email             B2B    organic   \n",
       "1     17712.98  0.74         email             B2C  promotion   \n",
       "2      84643.1  0.37       podcast             B2B       paid   \n",
       "3     14589.75  0.47       webinar             B2B    organic   \n",
       "4      39291.9  0.30  social media             B2B  promotion   \n",
       "...        ...   ...           ...             ...        ...   \n",
       "1027     20000  0.30  social media             B2B    organic   \n",
       "1028    100000   NaN       podcast             NaN   referral   \n",
       "1029       abc   NaN         email             B2C  promotion   \n",
       "1030     60000  0.60       webinar             B2B       paid   \n",
       "1031     40000  0.80  social media             B2C    organic   \n",
       "\n",
       "      conversion_rate    revenue  \n",
       "0                0.40  709593.48  \n",
       "1                0.66  516609.10  \n",
       "2                0.28  458227.42  \n",
       "3                0.19   89958.73  \n",
       "4                0.81   47511.35  \n",
       "...               ...        ...  \n",
       "1027             0.50        NaN  \n",
       "1028              NaN  300000.00  \n",
       "1029             0.20   50000.00  \n",
       "1030             0.70   90000.00  \n",
       "1031             1.50  120000.00  \n",
       "\n",
       "[1032 rows x 10 columns]>"
      ]
     },
     "execution_count": 4,
     "metadata": {},
     "output_type": "execute_result"
    }
   ],
   "source": [
    "df.info"
   ]
  },
  {
   "cell_type": "code",
   "execution_count": 5,
   "id": "30592165",
   "metadata": {},
   "outputs": [
    {
     "data": {
      "text/html": [
       "<div>\n",
       "<style scoped>\n",
       "    .dataframe tbody tr th:only-of-type {\n",
       "        vertical-align: middle;\n",
       "    }\n",
       "\n",
       "    .dataframe tbody tr th {\n",
       "        vertical-align: top;\n",
       "    }\n",
       "\n",
       "    .dataframe thead th {\n",
       "        text-align: right;\n",
       "    }\n",
       "</style>\n",
       "<table border=\"1\" class=\"dataframe\">\n",
       "  <thead>\n",
       "    <tr style=\"text-align: right;\">\n",
       "      <th></th>\n",
       "      <th>campaign_name</th>\n",
       "      <th>start_date</th>\n",
       "      <th>end_date</th>\n",
       "      <th>budget</th>\n",
       "      <th>roi</th>\n",
       "      <th>type</th>\n",
       "      <th>target_audience</th>\n",
       "      <th>channel</th>\n",
       "      <th>conversion_rate</th>\n",
       "      <th>revenue</th>\n",
       "    </tr>\n",
       "  </thead>\n",
       "  <tbody>\n",
       "    <tr>\n",
       "      <th>0</th>\n",
       "      <td>Public-key multi-tasking throughput</td>\n",
       "      <td>2023-04-01</td>\n",
       "      <td>2024-02-23</td>\n",
       "      <td>8082.3</td>\n",
       "      <td>0.35</td>\n",
       "      <td>email</td>\n",
       "      <td>B2B</td>\n",
       "      <td>organic</td>\n",
       "      <td>0.40</td>\n",
       "      <td>709593.48</td>\n",
       "    </tr>\n",
       "    <tr>\n",
       "      <th>1</th>\n",
       "      <td>De-engineered analyzing task-force</td>\n",
       "      <td>2023-02-15</td>\n",
       "      <td>2024-04-22</td>\n",
       "      <td>17712.98</td>\n",
       "      <td>0.74</td>\n",
       "      <td>email</td>\n",
       "      <td>B2C</td>\n",
       "      <td>promotion</td>\n",
       "      <td>0.66</td>\n",
       "      <td>516609.10</td>\n",
       "    </tr>\n",
       "  </tbody>\n",
       "</table>\n",
       "</div>"
      ],
      "text/plain": [
       "                         campaign_name  start_date    end_date    budget  \\\n",
       "0  Public-key multi-tasking throughput  2023-04-01  2024-02-23    8082.3   \n",
       "1   De-engineered analyzing task-force  2023-02-15  2024-04-22  17712.98   \n",
       "\n",
       "    roi   type target_audience    channel  conversion_rate    revenue  \n",
       "0  0.35  email             B2B    organic             0.40  709593.48  \n",
       "1  0.74  email             B2C  promotion             0.66  516609.10  "
      ]
     },
     "execution_count": 5,
     "metadata": {},
     "output_type": "execute_result"
    }
   ],
   "source": [
    "df.head(2)"
   ]
  },
  {
   "cell_type": "code",
   "execution_count": 6,
   "id": "adc2c6b3",
   "metadata": {},
   "outputs": [
    {
     "data": {
      "text/plain": [
       "(1032, 10)"
      ]
     },
     "execution_count": 6,
     "metadata": {},
     "output_type": "execute_result"
    }
   ],
   "source": [
    "df.shape #filas y columnas"
   ]
  },
  {
   "cell_type": "code",
   "execution_count": 7,
   "id": "1bab2f17",
   "metadata": {},
   "outputs": [
    {
     "data": {
      "text/plain": [
       "Index(['campaign_name', 'start_date', 'end_date', 'budget', 'roi', 'type',\n",
       "       'target_audience', 'channel', 'conversion_rate', 'revenue'],\n",
       "      dtype='object')"
      ]
     },
     "execution_count": 7,
     "metadata": {},
     "output_type": "execute_result"
    }
   ],
   "source": [
    "df.columns #columnas"
   ]
  },
  {
   "cell_type": "code",
   "execution_count": 8,
   "id": "0d5cf438",
   "metadata": {},
   "outputs": [
    {
     "data": {
      "text/plain": [
       "campaign_name      0\n",
       "start_date         1\n",
       "end_date           2\n",
       "budget             3\n",
       "roi                4\n",
       "type               1\n",
       "target_audience    2\n",
       "channel            1\n",
       "conversion_rate    4\n",
       "revenue            3\n",
       "dtype: int64"
      ]
     },
     "execution_count": 8,
     "metadata": {},
     "output_type": "execute_result"
    }
   ],
   "source": [
    "df.isnull().sum() #suma de los valores nulos por columna"
   ]
  },
  {
   "cell_type": "code",
   "execution_count": 9,
   "id": "5ecd9948",
   "metadata": {},
   "outputs": [
    {
     "data": {
      "text/plain": [
       "campaign_name      0.000000\n",
       "start_date         0.096899\n",
       "end_date           0.193798\n",
       "budget             0.290698\n",
       "roi                0.387597\n",
       "type               0.096899\n",
       "target_audience    0.193798\n",
       "channel            0.096899\n",
       "conversion_rate    0.387597\n",
       "revenue            0.290698\n",
       "dtype: float64"
      ]
     },
     "execution_count": 9,
     "metadata": {},
     "output_type": "execute_result"
    }
   ],
   "source": [
    "df.isnull().sum() / len(df) * 100    #proporcion de los valores nulos por columna"
   ]
  },
  {
   "cell_type": "code",
   "execution_count": 10,
   "id": "08b2e1b1",
   "metadata": {},
   "outputs": [
    {
     "data": {
      "text/plain": [
       "0       False\n",
       "1       False\n",
       "2       False\n",
       "3       False\n",
       "4       False\n",
       "        ...  \n",
       "1027    False\n",
       "1028    False\n",
       "1029    False\n",
       "1030    False\n",
       "1031    False\n",
       "Length: 1032, dtype: bool"
      ]
     },
     "execution_count": 10,
     "metadata": {},
     "output_type": "execute_result"
    }
   ],
   "source": [
    "df.duplicated() #verifica si hay filas duplicadas"
   ]
  },
  {
   "cell_type": "code",
   "execution_count": 11,
   "id": "c944eecf",
   "metadata": {},
   "outputs": [
    {
     "data": {
      "text/plain": [
       "np.int64(15)"
      ]
     },
     "execution_count": 11,
     "metadata": {},
     "output_type": "execute_result"
    }
   ],
   "source": [
    "df.duplicated().sum() #suma de los valores duplicados por fila"
   ]
  },
  {
   "cell_type": "code",
   "execution_count": 12,
   "id": "15c92878",
   "metadata": {},
   "outputs": [],
   "source": [
    "df = df.drop_duplicates() #elimina filas duplicadas"
   ]
  },
  {
   "cell_type": "code",
   "execution_count": 13,
   "id": "b1bfd1da",
   "metadata": {},
   "outputs": [
    {
     "data": {
      "text/plain": [
       "np.int64(0)"
      ]
     },
     "execution_count": 13,
     "metadata": {},
     "output_type": "execute_result"
    }
   ],
   "source": [
    "df.duplicated().sum() #suma de los valores duplicados por fila"
   ]
  },
  {
   "cell_type": "code",
   "execution_count": 14,
   "id": "b3cc800b",
   "metadata": {},
   "outputs": [
    {
     "data": {
      "text/plain": [
       "<Axes: >"
      ]
     },
     "execution_count": 14,
     "metadata": {},
     "output_type": "execute_result"
    },
    {
     "data": {
      "image/png": "[encoded data removed]",
      "text/plain": [
       "<Figure size 640x480 with 1 Axes>"
      ]
     },
     "metadata": {},
     "output_type": "display_data"
    }
   ],
   "source": [
    "sns.heatmap(df.isnull(), cbar=False, cmap='viridis') #grafica de los valores nulos"
   ]
  },
  {
   "cell_type": "code",
   "execution_count": 15,
   "id": "c91598fe",
   "metadata": {},
   "outputs": [
    {
     "name": "stdout",
     "output_type": "stream",
     "text": [
      "Fecha promedio de inicio: 2023-01-30 14:19:14.518950144\n",
      "Fecha promedio de fin: 2024-01-30 01:05:46.355685120\n"
     ]
    }
   ],
   "source": [
    "# Ensure the data is properly separated into columns\n",
    "df = pd.read_csv(r\"../data/marketingcampaigns.csv\", sep=',', on_bad_lines='skip')\n",
    "\n",
    "# Convert 'start_date' and 'end_date' to datetime\n",
    "df['start_date'] = pd.to_datetime(df['start_date'], errors='coerce')\n",
    "df['end_date'] = pd.to_datetime(df['end_date'], errors='coerce')\n",
    "\n",
    "# Calculate the mean dates\n",
    "fecha_inicio_promedio = df['start_date'].mean()\n",
    "fecha_fin_promedio = df['end_date'].mean()\n",
    "\n",
    "print(\"Fecha promedio de inicio:\", fecha_inicio_promedio)\n",
    "print(\"Fecha promedio de fin:\", fecha_fin_promedio)\n"
   ]
  },
  {
   "cell_type": "code",
   "execution_count": 16,
   "id": "7f83fb83",
   "metadata": {},
   "outputs": [],
   "source": [
    "df['start_date'] = pd.to_datetime(df['start_date'], errors='coerce')\n",
    "df['end_date'] = pd.to_datetime(df['end_date'], errors='coerce')\n",
    "\n",
    "start_mean = df['start_date'].mean()\n",
    "end_mean = df['end_date'].mean()\n",
    "\n",
    "df['start_date'].fillna(start_mean, inplace=True)\n",
    "df['end_date'].fillna(end_mean, inplace=True)\n"
   ]
  },
  {
   "cell_type": "code",
   "execution_count": 17,
   "id": "178c71dd",
   "metadata": {},
   "outputs": [
    {
     "name": "stdout",
     "output_type": "stream",
     "text": [
      "Canal más frecuente: promotion\n"
     ]
    }
   ],
   "source": [
    "#canal mas utilizado\n",
    "canal_mas_usado = df['channel'].mode()[0]\n",
    "print(\"Canal más frecuente:\", canal_mas_usado)\n"
   ]
  },
  {
   "cell_type": "code",
   "execution_count": 18,
   "id": "40d8d111",
   "metadata": {},
   "outputs": [],
   "source": [
    "moda_channel = df['channel'].mode()[0]  # Obtiene el valor más frecuente\n",
    "df['channel'].fillna(moda_channel, inplace=True)\n"
   ]
  },
  {
   "cell_type": "code",
   "execution_count": 19,
   "id": "7748304e",
   "metadata": {},
   "outputs": [
    {
     "name": "stdout",
     "output_type": "stream",
     "text": [
      "Media de roi: 0.53\n",
      "Media de budget: 58995.98\n",
      "Media de conversion_rate: 0.54\n",
      "Media de revenue: 511591.20\n"
     ]
    }
   ],
   "source": [
    "#calcular media de columnas numericas\n",
    "# Forzar conversión a numérico ignorando errores\n",
    "columnas_numericas = ['roi', 'budget', 'conversion_rate', 'revenue']\n",
    "for col in columnas_numericas:\n",
    "    df[col] = pd.to_numeric(df[col], errors='coerce')  # convierte strings a NaN si no se puede\n",
    "\n",
    "# Calcular la media\n",
    "for col in columnas_numericas:\n",
    "    media = df[col].mean()\n",
    "    print(f\"Media de {col}: {media:.2f}\")\n"
   ]
  },
  {
   "cell_type": "code",
   "execution_count": 20,
   "id": "0c3b1839",
   "metadata": {},
   "outputs": [],
   "source": [
    "columnas_numericas = ['roi', 'budget', 'conversion_rate', 'revenue']\n",
    "for col in columnas_numericas:\n",
    "    df[col] = pd.to_numeric(df[col], errors='coerce')  # Asegura que sean numéricas\n",
    "    media = df[col].mean()  # Calcula la media ignorando NaNs\n",
    "    df[col].fillna(media, inplace=True)  # Rellena los nulos con la media\n"
   ]
  },
  {
   "cell_type": "markdown",
   "id": "913d1934",
   "metadata": {},
   "source": [
    "##### Como habían pocos datos nulos, he decidido rellenar con la media"
   ]
  },
  {
   "cell_type": "code",
   "execution_count": 21,
   "id": "a58eadc2",
   "metadata": {},
   "outputs": [],
   "source": [
    "# Calcular la moda (valor más común) de cada columna\n",
    "type_moda = df['type'].mode()[0]\n",
    "audiencia_moda = df['target_audience'].mode()[0]\n",
    "\n",
    "# Rellenar los valores nulos con la moda\n",
    "df['type'].fillna(type_moda, inplace=True)\n",
    "df['target_audience'].fillna(audiencia_moda, inplace=True)\n"
   ]
  },
  {
   "cell_type": "code",
   "execution_count": 22,
   "id": "396b1e82",
   "metadata": {},
   "outputs": [
    {
     "name": "stdout",
     "output_type": "stream",
     "text": [
      "Type es: object\n",
      "Target_audience es: object\n"
     ]
    }
   ],
   "source": [
    "# Ver el tipo de datos de la columna 'type'\n",
    "tipo_type = df['type'].dtype\n",
    "print(f'Type es: {tipo_type}')\n",
    "tipo_target_audience = df['target_audience'].dtype\n",
    "print(f'Target_audience es: {tipo_target_audience}')"
   ]
  },
  {
   "cell_type": "code",
   "execution_count": 23,
   "id": "8c5ef7cd",
   "metadata": {},
   "outputs": [
    {
     "name": "stdout",
     "output_type": "stream",
     "text": [
      "campaign_name              object\n",
      "start_date         datetime64[ns]\n",
      "end_date           datetime64[ns]\n",
      "budget                    float64\n",
      "roi                       float64\n",
      "type                       object\n",
      "target_audience            object\n",
      "channel                    object\n",
      "conversion_rate           float64\n",
      "revenue                   float64\n",
      "dtype: object\n"
     ]
    }
   ],
   "source": [
    "print(df.dtypes)"
   ]
  },
  {
   "cell_type": "code",
   "execution_count": 24,
   "id": "a350fb35",
   "metadata": {},
   "outputs": [
    {
     "data": {
      "text/plain": [
       "campaign_name      0\n",
       "start_date         0\n",
       "end_date           0\n",
       "budget             0\n",
       "roi                0\n",
       "type               0\n",
       "target_audience    0\n",
       "channel            0\n",
       "conversion_rate    0\n",
       "revenue            0\n",
       "dtype: int64"
      ]
     },
     "execution_count": 24,
     "metadata": {},
     "output_type": "execute_result"
    }
   ],
   "source": [
    "df.isnull().sum() #verifico que ya no hay valores nulos en el dataframe limpio"
   ]
  },
  {
   "cell_type": "code",
   "execution_count": 25,
   "id": "0008c4d8",
   "metadata": {},
   "outputs": [
    {
     "data": {
      "text/plain": [
       "campaign_name      0.0\n",
       "start_date         0.0\n",
       "end_date           0.0\n",
       "budget             0.0\n",
       "roi                0.0\n",
       "type               0.0\n",
       "target_audience    0.0\n",
       "channel            0.0\n",
       "conversion_rate    0.0\n",
       "revenue            0.0\n",
       "dtype: float64"
      ]
     },
     "execution_count": 25,
     "metadata": {},
     "output_type": "execute_result"
    }
   ],
   "source": [
    "df.isnull().sum() / len(df) * 100"
   ]
  },
  {
   "cell_type": "code",
   "execution_count": 26,
   "id": "f7fb0281",
   "metadata": {},
   "outputs": [
    {
     "data": {
      "text/plain": [
       "<Axes: >"
      ]
     },
     "execution_count": 26,
     "metadata": {},
     "output_type": "execute_result"
    },
    {
     "data": {
      "image/png": "[encoded data removed]",
      "text/plain": [
       "<Figure size 640x480 with 1 Axes>"
      ]
     },
     "metadata": {},
     "output_type": "display_data"
    }
   ],
   "source": [
    "sns.heatmap(df.isnull(), cbar=False, cmap='viridis') #grafica de los valores nulos"
   ]
  },
  {
   "cell_type": "code",
   "execution_count": 27,
   "id": "c6442b74",
   "metadata": {},
   "outputs": [
    {
     "name": "stdout",
     "output_type": "stream",
     "text": [
      "['campaign_name', 'start_date', 'end_date', 'budget', 'roi', 'type', 'target_audience', 'channel', 'conversion_rate', 'revenue']\n"
     ]
    }
   ],
   "source": [
    "print(df.columns.tolist())\n"
   ]
  },
  {
   "cell_type": "code",
   "execution_count": 28,
   "id": "5025443e",
   "metadata": {},
   "outputs": [],
   "source": [
    "df.columns = df.columns.str.strip() # Elimina espacios en blanco al inicio y al final de los nombres de las columnas"
   ]
  },
  {
   "cell_type": "code",
   "execution_count": 29,
   "id": "dc1050ba",
   "metadata": {},
   "outputs": [
    {
     "name": "stdout",
     "output_type": "stream",
     "text": [
      "['campaign_name', 'start_date', 'end_date', 'budget', 'roi', 'type', 'target_audience', 'channel', 'conversion_rate', 'revenue']\n"
     ]
    }
   ],
   "source": [
    "print(df.columns.tolist())"
   ]
  },
  {
   "cell_type": "code",
   "execution_count": 30,
   "id": "d090196e",
   "metadata": {},
   "outputs": [
    {
     "name": "stdout",
     "output_type": "stream",
     "text": [
      "campaign_name,start_date,end_date,budget,roi,type,target_audience,channel,conversion_rate,revenue\n",
      "\n",
      "Public-key multi-tasking throughput,2023-04-01,2024-02-23,8082.3,0.35,email,B2B,organic,0.4,709593.48\n",
      "\n",
      "De-engineered analyzing task-force,2023-02-15,2024-04-22,17712.98,0.74,email,B2C,promotion,0.66,516609.1\n",
      "\n",
      "Balanced solution-oriented Local Area Network,2022-12-20,2023-10-11,84643.1,0.37,podcast,B2B,paid,0.28,458227.42\n",
      "\n",
      "Distributed real-time methodology,2022-09-26,2023-09-27,14589.75,0.47,webinar,B2B,organic,0.19,89958.73\n",
      "\n",
      "Front-line executive infrastructure,2023-07-07,2024-05-15,39291.9,0.3,social media,B2B,promotion,0.81,47511.35\n",
      "\n",
      "Upgradable transitional data-warehouse,2023-06-29,2023-12-13,75569.28,0.59,social media,B2C,referral,0.67,558302.11\n",
      "\n",
      "Innovative context-sensitive framework,2023-03-01,2024-02-23,28964.45,0.59,email,B2C,referral,0.17,172882.59\n",
      "\n",
      "User-friendly client-driven service-desk,2023-01-06,2023-12-11,36800.58,0.4,webinar,B2C,promotion,0.52,206241.46\n",
      "\n",
      "Proactive neutral methodology,2022-09-06,2024-01-11,40493.88,0.16,webinar,B2C,organic,0.47,734755.76\n",
      "\n"
     ]
    }
   ],
   "source": [
    "# sin tratar de separarlo en columnas.\n",
    "with open(r\"..\\data\\marketingcampaigns.csv\", encoding='utf-8') as f:\n",
    "    for i in range(10):\n",
    "        print(f.readline())"
   ]
  },
  {
   "cell_type": "code",
   "execution_count": 31,
   "id": "d53e3c41",
   "metadata": {},
   "outputs": [
    {
     "name": "stdout",
     "output_type": "stream",
     "text": [
      "✅ 'budget' está presente.\n",
      "✅ 'roi' está presente.\n",
      "✅ 'conversion_rate' está presente.\n",
      "✅ 'revenue' está presente.\n"
     ]
    }
   ],
   "source": [
    "columnas_numericas = ['budget', 'roi', 'conversion_rate', 'revenue']\n",
    "\n",
    "for col in columnas_numericas:\n",
    "    if col in df.columns:\n",
    "        print(f\"✅ '{col}' está presente.\")\n",
    "    else:\n",
    "        print(f\"❌ '{col}' NO está en el DataFrame.\")\n",
    "\n"
   ]
  },
  {
   "cell_type": "code",
   "execution_count": 32,
   "id": "abf6b21e",
   "metadata": {},
   "outputs": [
    {
     "data": {
      "text/plain": [
       "0       0.350000\n",
       "1       0.740000\n",
       "2       0.370000\n",
       "3       0.470000\n",
       "4       0.300000\n",
       "          ...   \n",
       "1027    0.300000\n",
       "1028    0.533804\n",
       "1029    0.533804\n",
       "1030    0.600000\n",
       "1031    0.800000\n",
       "Name: roi, Length: 1032, dtype: float64"
      ]
     },
     "execution_count": 32,
     "metadata": {},
     "output_type": "execute_result"
    }
   ],
   "source": [
    "df['roi'] #una columna"
   ]
  },
  {
   "cell_type": "code",
   "execution_count": 33,
   "id": "ea7e081e",
   "metadata": {},
   "outputs": [],
   "source": [
    "#como arreglo los valores nulos sin cargarnos los datos originales\n",
    "df_limpio = df.copy() #copia del dataframe original"
   ]
  },
  {
   "cell_type": "code",
   "execution_count": 34,
   "id": "e7321c73",
   "metadata": {},
   "outputs": [
    {
     "data": {
      "text/html": [
       "<div>\n",
       "<style scoped>\n",
       "    .dataframe tbody tr th:only-of-type {\n",
       "        vertical-align: middle;\n",
       "    }\n",
       "\n",
       "    .dataframe tbody tr th {\n",
       "        vertical-align: top;\n",
       "    }\n",
       "\n",
       "    .dataframe thead th {\n",
       "        text-align: right;\n",
       "    }\n",
       "</style>\n",
       "<table border=\"1\" class=\"dataframe\">\n",
       "  <thead>\n",
       "    <tr style=\"text-align: right;\">\n",
       "      <th></th>\n",
       "      <th>campaign_name</th>\n",
       "      <th>start_date</th>\n",
       "      <th>end_date</th>\n",
       "      <th>budget</th>\n",
       "      <th>roi</th>\n",
       "      <th>type</th>\n",
       "      <th>target_audience</th>\n",
       "      <th>channel</th>\n",
       "      <th>conversion_rate</th>\n",
       "      <th>revenue</th>\n",
       "    </tr>\n",
       "  </thead>\n",
       "  <tbody>\n",
       "    <tr>\n",
       "      <th>0</th>\n",
       "      <td>Public-key multi-tasking throughput</td>\n",
       "      <td>2023-04-01</td>\n",
       "      <td>2024-02-23</td>\n",
       "      <td>8082.30</td>\n",
       "      <td>0.35</td>\n",
       "      <td>email</td>\n",
       "      <td>B2B</td>\n",
       "      <td>organic</td>\n",
       "      <td>0.40</td>\n",
       "      <td>709593.48</td>\n",
       "    </tr>\n",
       "    <tr>\n",
       "      <th>1</th>\n",
       "      <td>De-engineered analyzing task-force</td>\n",
       "      <td>2023-02-15</td>\n",
       "      <td>2024-04-22</td>\n",
       "      <td>17712.98</td>\n",
       "      <td>0.74</td>\n",
       "      <td>email</td>\n",
       "      <td>B2C</td>\n",
       "      <td>promotion</td>\n",
       "      <td>0.66</td>\n",
       "      <td>516609.10</td>\n",
       "    </tr>\n",
       "    <tr>\n",
       "      <th>2</th>\n",
       "      <td>Balanced solution-oriented Local Area Network</td>\n",
       "      <td>2022-12-20</td>\n",
       "      <td>2023-10-11</td>\n",
       "      <td>84643.10</td>\n",
       "      <td>0.37</td>\n",
       "      <td>podcast</td>\n",
       "      <td>B2B</td>\n",
       "      <td>paid</td>\n",
       "      <td>0.28</td>\n",
       "      <td>458227.42</td>\n",
       "    </tr>\n",
       "  </tbody>\n",
       "</table>\n",
       "</div>"
      ],
      "text/plain": [
       "                                   campaign_name start_date   end_date  \\\n",
       "0            Public-key multi-tasking throughput 2023-04-01 2024-02-23   \n",
       "1             De-engineered analyzing task-force 2023-02-15 2024-04-22   \n",
       "2  Balanced solution-oriented Local Area Network 2022-12-20 2023-10-11   \n",
       "\n",
       "     budget   roi     type target_audience    channel  conversion_rate  \\\n",
       "0   8082.30  0.35    email             B2B    organic             0.40   \n",
       "1  17712.98  0.74    email             B2C  promotion             0.66   \n",
       "2  84643.10  0.37  podcast             B2B       paid             0.28   \n",
       "\n",
       "     revenue  \n",
       "0  709593.48  \n",
       "1  516609.10  \n",
       "2  458227.42  "
      ]
     },
     "execution_count": 34,
     "metadata": {},
     "output_type": "execute_result"
    }
   ],
   "source": [
    "df_limpio.head(3) #verifico que la copia se haya hecho bien"
   ]
  },
  {
   "cell_type": "code",
   "execution_count": 35,
   "id": "38b406b5",
   "metadata": {},
   "outputs": [
    {
     "data": {
      "text/plain": [
       "campaign_name      0\n",
       "start_date         0\n",
       "end_date           0\n",
       "budget             0\n",
       "roi                0\n",
       "type               0\n",
       "target_audience    0\n",
       "channel            0\n",
       "conversion_rate    0\n",
       "revenue            0\n",
       "dtype: int64"
      ]
     },
     "execution_count": 35,
     "metadata": {},
     "output_type": "execute_result"
    }
   ],
   "source": [
    "df_limpio.isnull().sum() #verifico que ya no hay valores nulos en el dataframe limpio"
   ]
  },
  {
   "cell_type": "code",
   "execution_count": 36,
   "id": "23851dd9",
   "metadata": {},
   "outputs": [
    {
     "data": {
      "text/plain": [
       "np.int64(15)"
      ]
     },
     "execution_count": 36,
     "metadata": {},
     "output_type": "execute_result"
    }
   ],
   "source": [
    "df_limpio.duplicated().sum() #suma de los valores duplicados por fila"
   ]
  },
  {
   "cell_type": "code",
   "execution_count": 37,
   "id": "c7b71477",
   "metadata": {},
   "outputs": [],
   "source": [
    "df_limpio = df_limpio.drop_duplicates() #elimina filas duplicadas"
   ]
  },
  {
   "cell_type": "code",
   "execution_count": 38,
   "id": "ba289c5d",
   "metadata": {},
   "outputs": [
    {
     "data": {
      "text/plain": [
       "np.int64(0)"
      ]
     },
     "execution_count": 38,
     "metadata": {},
     "output_type": "execute_result"
    }
   ],
   "source": [
    "df_limpio.duplicated().sum() #suma de los valores duplicados por fila"
   ]
  },
  {
   "cell_type": "code",
   "execution_count": 39,
   "id": "c909cc52",
   "metadata": {},
   "outputs": [
    {
     "data": {
      "text/html": [
       "<div>\n",
       "<style scoped>\n",
       "    .dataframe tbody tr th:only-of-type {\n",
       "        vertical-align: middle;\n",
       "    }\n",
       "\n",
       "    .dataframe tbody tr th {\n",
       "        vertical-align: top;\n",
       "    }\n",
       "\n",
       "    .dataframe thead th {\n",
       "        text-align: right;\n",
       "    }\n",
       "</style>\n",
       "<table border=\"1\" class=\"dataframe\">\n",
       "  <thead>\n",
       "    <tr style=\"text-align: right;\">\n",
       "      <th></th>\n",
       "      <th>campaign_name</th>\n",
       "      <th>start_date</th>\n",
       "      <th>end_date</th>\n",
       "      <th>budget</th>\n",
       "      <th>roi</th>\n",
       "      <th>type</th>\n",
       "      <th>target_audience</th>\n",
       "      <th>channel</th>\n",
       "      <th>conversion_rate</th>\n",
       "      <th>revenue</th>\n",
       "    </tr>\n",
       "  </thead>\n",
       "  <tbody>\n",
       "    <tr>\n",
       "      <th>0</th>\n",
       "      <td>Public-key multi-tasking throughput</td>\n",
       "      <td>2023-04-01</td>\n",
       "      <td>2024-02-23 00:00:00.000000000</td>\n",
       "      <td>8082.300000</td>\n",
       "      <td>0.350000</td>\n",
       "      <td>email</td>\n",
       "      <td>B2B</td>\n",
       "      <td>organic</td>\n",
       "      <td>0.400000</td>\n",
       "      <td>709593.480000</td>\n",
       "    </tr>\n",
       "    <tr>\n",
       "      <th>1</th>\n",
       "      <td>De-engineered analyzing task-force</td>\n",
       "      <td>2023-02-15</td>\n",
       "      <td>2024-04-22 00:00:00.000000000</td>\n",
       "      <td>17712.980000</td>\n",
       "      <td>0.740000</td>\n",
       "      <td>email</td>\n",
       "      <td>B2C</td>\n",
       "      <td>promotion</td>\n",
       "      <td>0.660000</td>\n",
       "      <td>516609.100000</td>\n",
       "    </tr>\n",
       "    <tr>\n",
       "      <th>2</th>\n",
       "      <td>Balanced solution-oriented Local Area Network</td>\n",
       "      <td>2022-12-20</td>\n",
       "      <td>2023-10-11 00:00:00.000000000</td>\n",
       "      <td>84643.100000</td>\n",
       "      <td>0.370000</td>\n",
       "      <td>podcast</td>\n",
       "      <td>B2B</td>\n",
       "      <td>paid</td>\n",
       "      <td>0.280000</td>\n",
       "      <td>458227.420000</td>\n",
       "    </tr>\n",
       "    <tr>\n",
       "      <th>3</th>\n",
       "      <td>Distributed real-time methodology</td>\n",
       "      <td>2022-09-26</td>\n",
       "      <td>2023-09-27 00:00:00.000000000</td>\n",
       "      <td>14589.750000</td>\n",
       "      <td>0.470000</td>\n",
       "      <td>webinar</td>\n",
       "      <td>B2B</td>\n",
       "      <td>organic</td>\n",
       "      <td>0.190000</td>\n",
       "      <td>89958.730000</td>\n",
       "    </tr>\n",
       "    <tr>\n",
       "      <th>4</th>\n",
       "      <td>Front-line executive infrastructure</td>\n",
       "      <td>2023-07-07</td>\n",
       "      <td>2024-05-15 00:00:00.000000000</td>\n",
       "      <td>39291.900000</td>\n",
       "      <td>0.300000</td>\n",
       "      <td>social media</td>\n",
       "      <td>B2B</td>\n",
       "      <td>promotion</td>\n",
       "      <td>0.810000</td>\n",
       "      <td>47511.350000</td>\n",
       "    </tr>\n",
       "    <tr>\n",
       "      <th>...</th>\n",
       "      <td>...</td>\n",
       "      <td>...</td>\n",
       "      <td>...</td>\n",
       "      <td>...</td>\n",
       "      <td>...</td>\n",
       "      <td>...</td>\n",
       "      <td>...</td>\n",
       "      <td>...</td>\n",
       "      <td>...</td>\n",
       "      <td>...</td>\n",
       "    </tr>\n",
       "    <tr>\n",
       "      <th>1027</th>\n",
       "      <td>No revenue campaign</td>\n",
       "      <td>2023-02-01</td>\n",
       "      <td>2023-08-01 00:00:00.000000000</td>\n",
       "      <td>20000.000000</td>\n",
       "      <td>0.300000</td>\n",
       "      <td>social media</td>\n",
       "      <td>B2B</td>\n",
       "      <td>organic</td>\n",
       "      <td>0.500000</td>\n",
       "      <td>511591.195277</td>\n",
       "    </tr>\n",
       "    <tr>\n",
       "      <th>1028</th>\n",
       "      <td>Random mess</td>\n",
       "      <td>2023-06-06</td>\n",
       "      <td>2024-01-30 01:05:46.355685120</td>\n",
       "      <td>100000.000000</td>\n",
       "      <td>0.533804</td>\n",
       "      <td>podcast</td>\n",
       "      <td>B2B</td>\n",
       "      <td>referral</td>\n",
       "      <td>0.541936</td>\n",
       "      <td>300000.000000</td>\n",
       "    </tr>\n",
       "    <tr>\n",
       "      <th>1029</th>\n",
       "      <td>Invalid budget</td>\n",
       "      <td>2022-12-01</td>\n",
       "      <td>2023-06-01 00:00:00.000000000</td>\n",
       "      <td>58995.980506</td>\n",
       "      <td>0.533804</td>\n",
       "      <td>email</td>\n",
       "      <td>B2C</td>\n",
       "      <td>promotion</td>\n",
       "      <td>0.200000</td>\n",
       "      <td>50000.000000</td>\n",
       "    </tr>\n",
       "    <tr>\n",
       "      <th>1030</th>\n",
       "      <td>Overlapping dates</td>\n",
       "      <td>2023-03-01</td>\n",
       "      <td>2022-12-31 00:00:00.000000000</td>\n",
       "      <td>60000.000000</td>\n",
       "      <td>0.600000</td>\n",
       "      <td>webinar</td>\n",
       "      <td>B2B</td>\n",
       "      <td>paid</td>\n",
       "      <td>0.700000</td>\n",
       "      <td>90000.000000</td>\n",
       "    </tr>\n",
       "    <tr>\n",
       "      <th>1031</th>\n",
       "      <td>Too many conversions</td>\n",
       "      <td>2023-05-01</td>\n",
       "      <td>2023-11-01 00:00:00.000000000</td>\n",
       "      <td>40000.000000</td>\n",
       "      <td>0.800000</td>\n",
       "      <td>social media</td>\n",
       "      <td>B2C</td>\n",
       "      <td>organic</td>\n",
       "      <td>1.500000</td>\n",
       "      <td>120000.000000</td>\n",
       "    </tr>\n",
       "  </tbody>\n",
       "</table>\n",
       "<p>1032 rows × 10 columns</p>\n",
       "</div>"
      ],
      "text/plain": [
       "                                      campaign_name start_date  \\\n",
       "0               Public-key multi-tasking throughput 2023-04-01   \n",
       "1                De-engineered analyzing task-force 2023-02-15   \n",
       "2     Balanced solution-oriented Local Area Network 2022-12-20   \n",
       "3                 Distributed real-time methodology 2022-09-26   \n",
       "4               Front-line executive infrastructure 2023-07-07   \n",
       "...                                             ...        ...   \n",
       "1027                            No revenue campaign 2023-02-01   \n",
       "1028                                    Random mess 2023-06-06   \n",
       "1029                                 Invalid budget 2022-12-01   \n",
       "1030                              Overlapping dates 2023-03-01   \n",
       "1031                           Too many conversions 2023-05-01   \n",
       "\n",
       "                          end_date         budget       roi          type  \\\n",
       "0    2024-02-23 00:00:00.000000000    8082.300000  0.350000         email   \n",
       "1    2024-04-22 00:00:00.000000000   17712.980000  0.740000         email   \n",
       "2    2023-10-11 00:00:00.000000000   84643.100000  0.370000       podcast   \n",
       "3    2023-09-27 00:00:00.000000000   14589.750000  0.470000       webinar   \n",
       "4    2024-05-15 00:00:00.000000000   39291.900000  0.300000  social media   \n",
       "...                            ...            ...       ...           ...   \n",
       "1027 2023-08-01 00:00:00.000000000   20000.000000  0.300000  social media   \n",
       "1028 2024-01-30 01:05:46.355685120  100000.000000  0.533804       podcast   \n",
       "1029 2023-06-01 00:00:00.000000000   58995.980506  0.533804         email   \n",
       "1030 2022-12-31 00:00:00.000000000   60000.000000  0.600000       webinar   \n",
       "1031 2023-11-01 00:00:00.000000000   40000.000000  0.800000  social media   \n",
       "\n",
       "     target_audience    channel  conversion_rate        revenue  \n",
       "0                B2B    organic         0.400000  709593.480000  \n",
       "1                B2C  promotion         0.660000  516609.100000  \n",
       "2                B2B       paid         0.280000  458227.420000  \n",
       "3                B2B    organic         0.190000   89958.730000  \n",
       "4                B2B  promotion         0.810000   47511.350000  \n",
       "...              ...        ...              ...            ...  \n",
       "1027             B2B    organic         0.500000  511591.195277  \n",
       "1028             B2B   referral         0.541936  300000.000000  \n",
       "1029             B2C  promotion         0.200000   50000.000000  \n",
       "1030             B2B       paid         0.700000   90000.000000  \n",
       "1031             B2C    organic         1.500000  120000.000000  \n",
       "\n",
       "[1032 rows x 10 columns]"
      ]
     },
     "execution_count": 39,
     "metadata": {},
     "output_type": "execute_result"
    }
   ],
   "source": [
    "df"
   ]
  },
  {
   "cell_type": "code",
   "execution_count": 40,
   "id": "4a5c1f2d",
   "metadata": {},
   "outputs": [],
   "source": [
    "df_limpio.to_csv(r'../data/marketingcampaigns_limpio.csv',index=False) #guardo el dataframe limpio en un nuevo archivo csv"
   ]
  }
 ],
 "metadata": {
  "kernelspec": {
   "display_name": "Python 3",
   "language": "python",
   "name": "python3"
  },
  "language_info": {
   "codemirror_mode": {
    "name": "ipython",
    "version": 3
   },
   "file_extension": ".py",
   "mimetype": "text/x-python",
   "name": "python",
   "nbconvert_exporter": "python",
   "pygments_lexer": "ipython3",
   "version": "3.13.1"
  }
 },
 "nbformat": 4,
 "nbformat_minor": 5
}
