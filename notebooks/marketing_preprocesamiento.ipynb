{
 "cells": [
  {
   "cell_type": "code",
   "execution_count": 1,
   "id": "f5d31e0d",
   "metadata": {},
   "outputs": [],
   "source": [
    "import numpy as np\n",
    "import pandas as pd\n",
    "import seaborn as sns\n",
    "import warnings\n",
    "warnings.filterwarnings('ignore')\n"
   ]
  },
  {
   "cell_type": "code",
   "execution_count": 2,
   "id": "d9bdc799",
   "metadata": {},
   "outputs": [],
   "source": [
    "df = pd.read_csv(r\"../data/marketingcampaigns.csv\", sep=',', on_bad_lines='skip')"
   ]
  },
  {
   "cell_type": "code",
   "execution_count": 3,
   "id": "ec5080a6",
   "metadata": {},
   "outputs": [
    {
     "data": {
      "text/html": [
       "<div>\n",
       "<style scoped>\n",
       "    .dataframe tbody tr th:only-of-type {\n",
       "        vertical-align: middle;\n",
       "    }\n",
       "\n",
       "    .dataframe tbody tr th {\n",
       "        vertical-align: top;\n",
       "    }\n",
       "\n",
       "    .dataframe thead th {\n",
       "        text-align: right;\n",
       "    }\n",
       "</style>\n",
       "<table border=\"1\" class=\"dataframe\">\n",
       "  <thead>\n",
       "    <tr style=\"text-align: right;\">\n",
       "      <th></th>\n",
       "      <th>campaign_name</th>\n",
       "      <th>start_date</th>\n",
       "      <th>end_date</th>\n",
       "      <th>budget</th>\n",
       "      <th>roi</th>\n",
       "      <th>type</th>\n",
       "      <th>target_audience</th>\n",
       "      <th>channel</th>\n",
       "      <th>conversion_rate</th>\n",
       "      <th>revenue</th>\n",
       "    </tr>\n",
       "  </thead>\n",
       "  <tbody>\n",
       "    <tr>\n",
       "      <th>0</th>\n",
       "      <td>Public-key multi-tasking throughput</td>\n",
       "      <td>2023-04-01</td>\n",
       "      <td>2024-02-23</td>\n",
       "      <td>8082.3</td>\n",
       "      <td>0.35</td>\n",
       "      <td>email</td>\n",
       "      <td>B2B</td>\n",
       "      <td>organic</td>\n",
       "      <td>0.40</td>\n",
       "      <td>709593.48</td>\n",
       "    </tr>\n",
       "    <tr>\n",
       "      <th>1</th>\n",
       "      <td>De-engineered analyzing task-force</td>\n",
       "      <td>2023-02-15</td>\n",
       "      <td>2024-04-22</td>\n",
       "      <td>17712.98</td>\n",
       "      <td>0.74</td>\n",
       "      <td>email</td>\n",
       "      <td>B2C</td>\n",
       "      <td>promotion</td>\n",
       "      <td>0.66</td>\n",
       "      <td>516609.10</td>\n",
       "    </tr>\n",
       "    <tr>\n",
       "      <th>2</th>\n",
       "      <td>Balanced solution-oriented Local Area Network</td>\n",
       "      <td>2022-12-20</td>\n",
       "      <td>2023-10-11</td>\n",
       "      <td>84643.1</td>\n",
       "      <td>0.37</td>\n",
       "      <td>podcast</td>\n",
       "      <td>B2B</td>\n",
       "      <td>paid</td>\n",
       "      <td>0.28</td>\n",
       "      <td>458227.42</td>\n",
       "    </tr>\n",
       "    <tr>\n",
       "      <th>3</th>\n",
       "      <td>Distributed real-time methodology</td>\n",
       "      <td>2022-09-26</td>\n",
       "      <td>2023-09-27</td>\n",
       "      <td>14589.75</td>\n",
       "      <td>0.47</td>\n",
       "      <td>webinar</td>\n",
       "      <td>B2B</td>\n",
       "      <td>organic</td>\n",
       "      <td>0.19</td>\n",
       "      <td>89958.73</td>\n",
       "    </tr>\n",
       "    <tr>\n",
       "      <th>4</th>\n",
       "      <td>Front-line executive infrastructure</td>\n",
       "      <td>2023-07-07</td>\n",
       "      <td>2024-05-15</td>\n",
       "      <td>39291.9</td>\n",
       "      <td>0.30</td>\n",
       "      <td>social media</td>\n",
       "      <td>B2B</td>\n",
       "      <td>promotion</td>\n",
       "      <td>0.81</td>\n",
       "      <td>47511.35</td>\n",
       "    </tr>\n",
       "    <tr>\n",
       "      <th>...</th>\n",
       "      <td>...</td>\n",
       "      <td>...</td>\n",
       "      <td>...</td>\n",
       "      <td>...</td>\n",
       "      <td>...</td>\n",
       "      <td>...</td>\n",
       "      <td>...</td>\n",
       "      <td>...</td>\n",
       "      <td>...</td>\n",
       "      <td>...</td>\n",
       "    </tr>\n",
       "    <tr>\n",
       "      <th>1027</th>\n",
       "      <td>No revenue campaign</td>\n",
       "      <td>2023-02-01</td>\n",
       "      <td>2023-08-01</td>\n",
       "      <td>20000</td>\n",
       "      <td>0.30</td>\n",
       "      <td>social media</td>\n",
       "      <td>B2B</td>\n",
       "      <td>organic</td>\n",
       "      <td>0.50</td>\n",
       "      <td>NaN</td>\n",
       "    </tr>\n",
       "    <tr>\n",
       "      <th>1028</th>\n",
       "      <td>Random mess</td>\n",
       "      <td>2023-06-06</td>\n",
       "      <td>NaN</td>\n",
       "      <td>100000</td>\n",
       "      <td>NaN</td>\n",
       "      <td>podcast</td>\n",
       "      <td>NaN</td>\n",
       "      <td>referral</td>\n",
       "      <td>NaN</td>\n",
       "      <td>300000.00</td>\n",
       "    </tr>\n",
       "    <tr>\n",
       "      <th>1029</th>\n",
       "      <td>Invalid budget</td>\n",
       "      <td>2022-12-01</td>\n",
       "      <td>2023-06-01</td>\n",
       "      <td>abc</td>\n",
       "      <td>NaN</td>\n",
       "      <td>email</td>\n",
       "      <td>B2C</td>\n",
       "      <td>promotion</td>\n",
       "      <td>0.20</td>\n",
       "      <td>50000.00</td>\n",
       "    </tr>\n",
       "    <tr>\n",
       "      <th>1030</th>\n",
       "      <td>Overlapping dates</td>\n",
       "      <td>2023-03-01</td>\n",
       "      <td>2022-12-31</td>\n",
       "      <td>60000</td>\n",
       "      <td>0.60</td>\n",
       "      <td>webinar</td>\n",
       "      <td>B2B</td>\n",
       "      <td>paid</td>\n",
       "      <td>0.70</td>\n",
       "      <td>90000.00</td>\n",
       "    </tr>\n",
       "    <tr>\n",
       "      <th>1031</th>\n",
       "      <td>Too many conversions</td>\n",
       "      <td>2023-05-01</td>\n",
       "      <td>2023-11-01</td>\n",
       "      <td>40000</td>\n",
       "      <td>0.80</td>\n",
       "      <td>social media</td>\n",
       "      <td>B2C</td>\n",
       "      <td>organic</td>\n",
       "      <td>1.50</td>\n",
       "      <td>120000.00</td>\n",
       "    </tr>\n",
       "  </tbody>\n",
       "</table>\n",
       "<p>1032 rows × 10 columns</p>\n",
       "</div>"
      ],
      "text/plain": [
       "                                      campaign_name  start_date    end_date  \\\n",
       "0               Public-key multi-tasking throughput  2023-04-01  2024-02-23   \n",
       "1                De-engineered analyzing task-force  2023-02-15  2024-04-22   \n",
       "2     Balanced solution-oriented Local Area Network  2022-12-20  2023-10-11   \n",
       "3                 Distributed real-time methodology  2022-09-26  2023-09-27   \n",
       "4               Front-line executive infrastructure  2023-07-07  2024-05-15   \n",
       "...                                             ...         ...         ...   \n",
       "1027                            No revenue campaign  2023-02-01  2023-08-01   \n",
       "1028                                    Random mess  2023-06-06         NaN   \n",
       "1029                                 Invalid budget  2022-12-01  2023-06-01   \n",
       "1030                              Overlapping dates  2023-03-01  2022-12-31   \n",
       "1031                           Too many conversions  2023-05-01  2023-11-01   \n",
       "\n",
       "        budget   roi          type target_audience    channel  \\\n",
       "0       8082.3  0.35         email             B2B    organic   \n",
       "1     17712.98  0.74         email             B2C  promotion   \n",
       "2      84643.1  0.37       podcast             B2B       paid   \n",
       "3     14589.75  0.47       webinar             B2B    organic   \n",
       "4      39291.9  0.30  social media             B2B  promotion   \n",
       "...        ...   ...           ...             ...        ...   \n",
       "1027     20000  0.30  social media             B2B    organic   \n",
       "1028    100000   NaN       podcast             NaN   referral   \n",
       "1029       abc   NaN         email             B2C  promotion   \n",
       "1030     60000  0.60       webinar             B2B       paid   \n",
       "1031     40000  0.80  social media             B2C    organic   \n",
       "\n",
       "      conversion_rate    revenue  \n",
       "0                0.40  709593.48  \n",
       "1                0.66  516609.10  \n",
       "2                0.28  458227.42  \n",
       "3                0.19   89958.73  \n",
       "4                0.81   47511.35  \n",
       "...               ...        ...  \n",
       "1027             0.50        NaN  \n",
       "1028              NaN  300000.00  \n",
       "1029             0.20   50000.00  \n",
       "1030             0.70   90000.00  \n",
       "1031             1.50  120000.00  \n",
       "\n",
       "[1032 rows x 10 columns]"
      ]
     },
     "execution_count": 3,
     "metadata": {},
     "output_type": "execute_result"
    }
   ],
   "source": [
    "df"
   ]
  },
  {
   "cell_type": "code",
   "execution_count": 4,
   "id": "cf6e9f89",
   "metadata": {},
   "outputs": [
    {
     "data": {
      "text/plain": [
       "<bound method DataFrame.info of                                       campaign_name  start_date    end_date  \\\n",
       "0               Public-key multi-tasking throughput  2023-04-01  2024-02-23   \n",
       "1                De-engineered analyzing task-force  2023-02-15  2024-04-22   \n",
       "2     Balanced solution-oriented Local Area Network  2022-12-20  2023-10-11   \n",
       "3                 Distributed real-time methodology  2022-09-26  2023-09-27   \n",
       "4               Front-line executive infrastructure  2023-07-07  2024-05-15   \n",
       "...                                             ...         ...         ...   \n",
       "1027                            No revenue campaign  2023-02-01  2023-08-01   \n",
       "1028                                    Random mess  2023-06-06         NaN   \n",
       "1029                                 Invalid budget  2022-12-01  2023-06-01   \n",
       "1030                              Overlapping dates  2023-03-01  2022-12-31   \n",
       "1031                           Too many conversions  2023-05-01  2023-11-01   \n",
       "\n",
       "        budget   roi          type target_audience    channel  \\\n",
       "0       8082.3  0.35         email             B2B    organic   \n",
       "1     17712.98  0.74         email             B2C  promotion   \n",
       "2      84643.1  0.37       podcast             B2B       paid   \n",
       "3     14589.75  0.47       webinar             B2B    organic   \n",
       "4      39291.9  0.30  social media             B2B  promotion   \n",
       "...        ...   ...           ...             ...        ...   \n",
       "1027     20000  0.30  social media             B2B    organic   \n",
       "1028    100000   NaN       podcast             NaN   referral   \n",
       "1029       abc   NaN         email             B2C  promotion   \n",
       "1030     60000  0.60       webinar             B2B       paid   \n",
       "1031     40000  0.80  social media             B2C    organic   \n",
       "\n",
       "      conversion_rate    revenue  \n",
       "0                0.40  709593.48  \n",
       "1                0.66  516609.10  \n",
       "2                0.28  458227.42  \n",
       "3                0.19   89958.73  \n",
       "4                0.81   47511.35  \n",
       "...               ...        ...  \n",
       "1027             0.50        NaN  \n",
       "1028              NaN  300000.00  \n",
       "1029             0.20   50000.00  \n",
       "1030             0.70   90000.00  \n",
       "1031             1.50  120000.00  \n",
       "\n",
       "[1032 rows x 10 columns]>"
      ]
     },
     "execution_count": 4,
     "metadata": {},
     "output_type": "execute_result"
    }
   ],
   "source": [
    "df.info"
   ]
  },
  {
   "cell_type": "code",
   "execution_count": 5,
   "id": "30592165",
   "metadata": {},
   "outputs": [
    {
     "data": {
      "text/html": [
       "<div>\n",
       "<style scoped>\n",
       "    .dataframe tbody tr th:only-of-type {\n",
       "        vertical-align: middle;\n",
       "    }\n",
       "\n",
       "    .dataframe tbody tr th {\n",
       "        vertical-align: top;\n",
       "    }\n",
       "\n",
       "    .dataframe thead th {\n",
       "        text-align: right;\n",
       "    }\n",
       "</style>\n",
       "<table border=\"1\" class=\"dataframe\">\n",
       "  <thead>\n",
       "    <tr style=\"text-align: right;\">\n",
       "      <th></th>\n",
       "      <th>campaign_name</th>\n",
       "      <th>start_date</th>\n",
       "      <th>end_date</th>\n",
       "      <th>budget</th>\n",
       "      <th>roi</th>\n",
       "      <th>type</th>\n",
       "      <th>target_audience</th>\n",
       "      <th>channel</th>\n",
       "      <th>conversion_rate</th>\n",
       "      <th>revenue</th>\n",
       "    </tr>\n",
       "  </thead>\n",
       "  <tbody>\n",
       "    <tr>\n",
       "      <th>0</th>\n",
       "      <td>Public-key multi-tasking throughput</td>\n",
       "      <td>2023-04-01</td>\n",
       "      <td>2024-02-23</td>\n",
       "      <td>8082.3</td>\n",
       "      <td>0.35</td>\n",
       "      <td>email</td>\n",
       "      <td>B2B</td>\n",
       "      <td>organic</td>\n",
       "      <td>0.40</td>\n",
       "      <td>709593.48</td>\n",
       "    </tr>\n",
       "    <tr>\n",
       "      <th>1</th>\n",
       "      <td>De-engineered analyzing task-force</td>\n",
       "      <td>2023-02-15</td>\n",
       "      <td>2024-04-22</td>\n",
       "      <td>17712.98</td>\n",
       "      <td>0.74</td>\n",
       "      <td>email</td>\n",
       "      <td>B2C</td>\n",
       "      <td>promotion</td>\n",
       "      <td>0.66</td>\n",
       "      <td>516609.10</td>\n",
       "    </tr>\n",
       "  </tbody>\n",
       "</table>\n",
       "</div>"
      ],
      "text/plain": [
       "                         campaign_name  start_date    end_date    budget  \\\n",
       "0  Public-key multi-tasking throughput  2023-04-01  2024-02-23    8082.3   \n",
       "1   De-engineered analyzing task-force  2023-02-15  2024-04-22  17712.98   \n",
       "\n",
       "    roi   type target_audience    channel  conversion_rate    revenue  \n",
       "0  0.35  email             B2B    organic             0.40  709593.48  \n",
       "1  0.74  email             B2C  promotion             0.66  516609.10  "
      ]
     },
     "execution_count": 5,
     "metadata": {},
     "output_type": "execute_result"
    }
   ],
   "source": [
    "df.head(2)"
   ]
  },
  {
   "cell_type": "code",
   "execution_count": 6,
   "id": "adc2c6b3",
   "metadata": {},
   "outputs": [
    {
     "data": {
      "text/plain": [
       "(1032, 10)"
      ]
     },
     "execution_count": 6,
     "metadata": {},
     "output_type": "execute_result"
    }
   ],
   "source": [
    "df.shape #filas y columnas"
   ]
  },
  {
   "cell_type": "code",
   "execution_count": 7,
   "id": "1bab2f17",
   "metadata": {},
   "outputs": [
    {
     "data": {
      "text/plain": [
       "Index(['campaign_name', 'start_date', 'end_date', 'budget', 'roi', 'type',\n",
       "       'target_audience', 'channel', 'conversion_rate', 'revenue'],\n",
       "      dtype='object')"
      ]
     },
     "execution_count": 7,
     "metadata": {},
     "output_type": "execute_result"
    }
   ],
   "source": [
    "df.columns #columnas"
   ]
  },
  {
   "cell_type": "code",
   "execution_count": 8,
   "id": "0d5cf438",
   "metadata": {},
   "outputs": [
    {
     "data": {
      "text/plain": [
       "campaign_name      0\n",
       "start_date         1\n",
       "end_date           2\n",
       "budget             3\n",
       "roi                4\n",
       "type               1\n",
       "target_audience    2\n",
       "channel            1\n",
       "conversion_rate    4\n",
       "revenue            3\n",
       "dtype: int64"
      ]
     },
     "execution_count": 8,
     "metadata": {},
     "output_type": "execute_result"
    }
   ],
   "source": [
    "df.isnull().sum() #suma de los valores nulos por columna"
   ]
  },
  {
   "cell_type": "code",
   "execution_count": 9,
   "id": "5ecd9948",
   "metadata": {},
   "outputs": [
    {
     "data": {
      "text/plain": [
       "campaign_name      0.000000\n",
       "start_date         0.096899\n",
       "end_date           0.193798\n",
       "budget             0.290698\n",
       "roi                0.387597\n",
       "type               0.096899\n",
       "target_audience    0.193798\n",
       "channel            0.096899\n",
       "conversion_rate    0.387597\n",
       "revenue            0.290698\n",
       "dtype: float64"
      ]
     },
     "execution_count": 9,
     "metadata": {},
     "output_type": "execute_result"
    }
   ],
   "source": [
    "df.isnull().sum() / len(df) * 100    #proporcion de los valores nulos por columna"
   ]
  },
  {
   "cell_type": "code",
   "execution_count": 10,
   "id": "08b2e1b1",
   "metadata": {},
   "outputs": [
    {
     "data": {
      "text/plain": [
       "0       False\n",
       "1       False\n",
       "2       False\n",
       "3       False\n",
       "4       False\n",
       "        ...  \n",
       "1027    False\n",
       "1028    False\n",
       "1029    False\n",
       "1030    False\n",
       "1031    False\n",
       "Length: 1032, dtype: bool"
      ]
     },
     "execution_count": 10,
     "metadata": {},
     "output_type": "execute_result"
    }
   ],
   "source": [
    "df.duplicated() #verifica si hay filas duplicadas"
   ]
  },
  {
   "cell_type": "code",
   "execution_count": 11,
   "id": "c944eecf",
   "metadata": {},
   "outputs": [
    {
     "data": {
      "text/plain": [
       "np.int64(15)"
      ]
     },
     "execution_count": 11,
     "metadata": {},
     "output_type": "execute_result"
    }
   ],
   "source": [
    "df.duplicated().sum() #suma de los valores duplicados por fila"
   ]
  },
  {
   "cell_type": "code",
   "execution_count": 12,
   "id": "15c92878",
   "metadata": {},
   "outputs": [],
   "source": [
    "df = df.drop_duplicates() #elimina filas duplicadas"
   ]
  },
  {
   "cell_type": "code",
   "execution_count": 13,
   "id": "b1bfd1da",
   "metadata": {},
   "outputs": [
    {
     "data": {
      "text/plain": [
       "np.int64(0)"
      ]
     },
     "execution_count": 13,
     "metadata": {},
     "output_type": "execute_result"
    }
   ],
   "source": [
    "df.duplicated().sum() #suma de los valores duplicados por fila"
   ]
  },
  {
   "cell_type": "code",
   "execution_count": 14,
   "id": "b3cc800b",
   "metadata": {},
   "outputs": [
    {
     "data": {
      "text/plain": [
       "<Axes: >"
      ]
     },
     "execution_count": 14,
     "metadata": {},
     "output_type": "execute_result"
    },
    {
     "data": {
      "image/png": "[encoded data removed]",
      "text/plain": [
       "<Figure size 640x480 with 1 Axes>"
      ]
     },
     "metadata": {},
     "output_type": "display_data"
    }
   ],
   "source": [
    "sns.heatmap(df.isnull(), cbar=False, cmap='viridis') #grafica de los valores nulos"
   ]
  },
  {
   "cell_type": "code",
   "execution_count": 15,
   "id": "4cb99fb5",
   "metadata": {},
   "outputs": [
    {
     "data": {
      "text/plain": [
       "np.int64(1)"
      ]
     },
     "execution_count": 15,
     "metadata": {},
     "output_type": "execute_result"
    }
   ],
   "source": [
    "df['start_date'].isnull().sum() #verifico que ya no hay valores nulos en el dataframe "
   ]
  },
  {
   "cell_type": "code",
   "execution_count": 16,
   "id": "994fcac5",
   "metadata": {},
   "outputs": [
    {
     "data": {
      "text/plain": [
       "np.int64(2)"
      ]
     },
     "execution_count": 16,
     "metadata": {},
     "output_type": "execute_result"
    }
   ],
   "source": [
    "df['end_date'].isnull().sum()"
   ]
  },
  {
   "cell_type": "code",
   "execution_count": 17,
   "id": "c91598fe",
   "metadata": {},
   "outputs": [
    {
     "name": "stdout",
     "output_type": "stream",
     "text": [
      "Number of rows with null values: 11\n",
      "\n",
      "Number of rows with null values in 'start_date': 1\n",
      "\n",
      "Rows with null values in 'start_date':\n"
     ]
    },
    {
     "data": {
      "text/html": [
       "<div>\n",
       "<style scoped>\n",
       "    .dataframe tbody tr th:only-of-type {\n",
       "        vertical-align: middle;\n",
       "    }\n",
       "\n",
       "    .dataframe tbody tr th {\n",
       "        vertical-align: top;\n",
       "    }\n",
       "\n",
       "    .dataframe thead th {\n",
       "        text-align: right;\n",
       "    }\n",
       "</style>\n",
       "<table border=\"1\" class=\"dataframe\">\n",
       "  <thead>\n",
       "    <tr style=\"text-align: right;\">\n",
       "      <th></th>\n",
       "      <th>campaign_name</th>\n",
       "      <th>start_date</th>\n",
       "      <th>end_date</th>\n",
       "      <th>budget</th>\n",
       "      <th>roi</th>\n",
       "      <th>type</th>\n",
       "      <th>target_audience</th>\n",
       "      <th>channel</th>\n",
       "      <th>conversion_rate</th>\n",
       "      <th>revenue</th>\n",
       "    </tr>\n",
       "  </thead>\n",
       "  <tbody>\n",
       "    <tr>\n",
       "      <th>1021</th>\n",
       "      <td>Cloud-based scalable solution</td>\n",
       "      <td>NaN</td>\n",
       "      <td>2023-12-31</td>\n",
       "      <td>50000</td>\n",
       "      <td>NaN</td>\n",
       "      <td>event</td>\n",
       "      <td>B2C</td>\n",
       "      <td>paid</td>\n",
       "      <td>0.3</td>\n",
       "      <td>120000.0</td>\n",
       "    </tr>\n",
       "  </tbody>\n",
       "</table>\n",
       "</div>"
      ],
      "text/plain": [
       "                      campaign_name start_date    end_date budget  roi   type  \\\n",
       "1021  Cloud-based scalable solution        NaN  2023-12-31  50000  NaN  event   \n",
       "\n",
       "     target_audience channel  conversion_rate   revenue  \n",
       "1021             B2C    paid              0.3  120000.0  "
      ]
     },
     "metadata": {},
     "output_type": "display_data"
    },
    {
     "name": "stdout",
     "output_type": "stream",
     "text": [
      "Median campaign length: 364.0 days\n",
      "\n",
      "Remaining missing values after filling:\n",
      "start_date    1\n",
      "end_date      1\n",
      "dtype: int64\n",
      "\n",
      "Rows with filled dates:\n"
     ]
    },
    {
     "data": {
      "text/html": [
       "<div>\n",
       "<style scoped>\n",
       "    .dataframe tbody tr th:only-of-type {\n",
       "        vertical-align: middle;\n",
       "    }\n",
       "\n",
       "    .dataframe tbody tr th {\n",
       "        vertical-align: top;\n",
       "    }\n",
       "\n",
       "    .dataframe thead th {\n",
       "        text-align: right;\n",
       "    }\n",
       "</style>\n",
       "<table border=\"1\" class=\"dataframe\">\n",
       "  <thead>\n",
       "    <tr style=\"text-align: right;\">\n",
       "      <th></th>\n",
       "      <th>campaign_name</th>\n",
       "      <th>start_date</th>\n",
       "      <th>end_date</th>\n",
       "      <th>budget</th>\n",
       "      <th>roi</th>\n",
       "      <th>type</th>\n",
       "      <th>target_audience</th>\n",
       "      <th>channel</th>\n",
       "      <th>conversion_rate</th>\n",
       "      <th>revenue</th>\n",
       "    </tr>\n",
       "  </thead>\n",
       "  <tbody>\n",
       "    <tr>\n",
       "      <th>1003</th>\n",
       "      <td>Upgradable transitional data-warehouse</td>\n",
       "      <td>2023-06-29</td>\n",
       "      <td>2023-12-13</td>\n",
       "      <td>NaN</td>\n",
       "      <td>0.59</td>\n",
       "      <td>social media</td>\n",
       "      <td>B2C</td>\n",
       "      <td>referral</td>\n",
       "      <td>0.67</td>\n",
       "      <td>558302.11</td>\n",
       "    </tr>\n",
       "    <tr>\n",
       "      <th>1004</th>\n",
       "      <td>User-friendly client-driven service-desk</td>\n",
       "      <td>2023-01-06</td>\n",
       "      <td>2023-12-11</td>\n",
       "      <td>36800.58</td>\n",
       "      <td>0.40</td>\n",
       "      <td>NaN</td>\n",
       "      <td>B2C</td>\n",
       "      <td>promotion</td>\n",
       "      <td>0.52</td>\n",
       "      <td>206241.46</td>\n",
       "    </tr>\n",
       "    <tr>\n",
       "      <th>1005</th>\n",
       "      <td>NEW CAMPAIGN - Missing Budget</td>\n",
       "      <td>2023-10-01</td>\n",
       "      <td>2024-01-15</td>\n",
       "      <td>NaN</td>\n",
       "      <td>0.25</td>\n",
       "      <td>email</td>\n",
       "      <td>B2B</td>\n",
       "      <td>organic</td>\n",
       "      <td>NaN</td>\n",
       "      <td>45000.00</td>\n",
       "    </tr>\n",
       "    <tr>\n",
       "      <th>1021</th>\n",
       "      <td>Cloud-based scalable solution</td>\n",
       "      <td>2023-01-01</td>\n",
       "      <td>2023-12-31</td>\n",
       "      <td>50000</td>\n",
       "      <td>NaN</td>\n",
       "      <td>event</td>\n",
       "      <td>B2C</td>\n",
       "      <td>paid</td>\n",
       "      <td>0.30</td>\n",
       "      <td>120000.00</td>\n",
       "    </tr>\n",
       "    <tr>\n",
       "      <th>1022</th>\n",
       "      <td>Broken-date campaign</td>\n",
       "      <td>2023-01-02</td>\n",
       "      <td>2024-01-01</td>\n",
       "      <td>25000</td>\n",
       "      <td>0.45</td>\n",
       "      <td>email</td>\n",
       "      <td>B2B</td>\n",
       "      <td>organic</td>\n",
       "      <td>NaN</td>\n",
       "      <td>87500.00</td>\n",
       "    </tr>\n",
       "    <tr>\n",
       "      <th>1023</th>\n",
       "      <td>Negative ROI test</td>\n",
       "      <td>2022-10-10</td>\n",
       "      <td>2023-05-05</td>\n",
       "      <td>-10000</td>\n",
       "      <td>-0.20</td>\n",
       "      <td>podcast</td>\n",
       "      <td>B2C</td>\n",
       "      <td>referral</td>\n",
       "      <td>0.10</td>\n",
       "      <td>NaN</td>\n",
       "    </tr>\n",
       "    <tr>\n",
       "      <th>1024</th>\n",
       "      <td>Null-heavy campaign</td>\n",
       "      <td>2023-01-01</td>\n",
       "      <td>2023-12-31</td>\n",
       "      <td>NaN</td>\n",
       "      <td>NaN</td>\n",
       "      <td>B2B</td>\n",
       "      <td>social media</td>\n",
       "      <td>NaN</td>\n",
       "      <td>NaN</td>\n",
       "      <td>NaN</td>\n",
       "    </tr>\n",
       "    <tr>\n",
       "      <th>1026</th>\n",
       "      <td>Extra long name campaign test</td>\n",
       "      <td>2023-04-15</td>\n",
       "      <td>2023-09-15</td>\n",
       "      <td>30000</td>\n",
       "      <td>0.25</td>\n",
       "      <td>email</td>\n",
       "      <td>NaN</td>\n",
       "      <td>paid</td>\n",
       "      <td>0.40</td>\n",
       "      <td>45000.00</td>\n",
       "    </tr>\n",
       "    <tr>\n",
       "      <th>1027</th>\n",
       "      <td>No revenue campaign</td>\n",
       "      <td>2023-02-01</td>\n",
       "      <td>2023-08-01</td>\n",
       "      <td>20000</td>\n",
       "      <td>0.30</td>\n",
       "      <td>social media</td>\n",
       "      <td>B2B</td>\n",
       "      <td>organic</td>\n",
       "      <td>0.50</td>\n",
       "      <td>NaN</td>\n",
       "    </tr>\n",
       "    <tr>\n",
       "      <th>1028</th>\n",
       "      <td>Random mess</td>\n",
       "      <td>2023-06-06</td>\n",
       "      <td>2024-06-04</td>\n",
       "      <td>100000</td>\n",
       "      <td>NaN</td>\n",
       "      <td>podcast</td>\n",
       "      <td>NaN</td>\n",
       "      <td>referral</td>\n",
       "      <td>NaN</td>\n",
       "      <td>300000.00</td>\n",
       "    </tr>\n",
       "    <tr>\n",
       "      <th>1029</th>\n",
       "      <td>Invalid budget</td>\n",
       "      <td>2022-12-01</td>\n",
       "      <td>2023-06-01</td>\n",
       "      <td>abc</td>\n",
       "      <td>NaN</td>\n",
       "      <td>email</td>\n",
       "      <td>B2C</td>\n",
       "      <td>promotion</td>\n",
       "      <td>0.20</td>\n",
       "      <td>50000.00</td>\n",
       "    </tr>\n",
       "  </tbody>\n",
       "</table>\n",
       "</div>"
      ],
      "text/plain": [
       "                                 campaign_name start_date   end_date  \\\n",
       "1003    Upgradable transitional data-warehouse 2023-06-29 2023-12-13   \n",
       "1004  User-friendly client-driven service-desk 2023-01-06 2023-12-11   \n",
       "1005             NEW CAMPAIGN - Missing Budget 2023-10-01 2024-01-15   \n",
       "1021             Cloud-based scalable solution 2023-01-01 2023-12-31   \n",
       "1022                      Broken-date campaign 2023-01-02 2024-01-01   \n",
       "1023                         Negative ROI test 2022-10-10 2023-05-05   \n",
       "1024                       Null-heavy campaign 2023-01-01 2023-12-31   \n",
       "1026             Extra long name campaign test 2023-04-15 2023-09-15   \n",
       "1027                       No revenue campaign 2023-02-01 2023-08-01   \n",
       "1028                               Random mess 2023-06-06 2024-06-04   \n",
       "1029                            Invalid budget 2022-12-01 2023-06-01   \n",
       "\n",
       "        budget   roi          type target_audience    channel  \\\n",
       "1003       NaN  0.59  social media             B2C   referral   \n",
       "1004  36800.58  0.40           NaN             B2C  promotion   \n",
       "1005       NaN  0.25         email             B2B    organic   \n",
       "1021     50000   NaN         event             B2C       paid   \n",
       "1022     25000  0.45         email             B2B    organic   \n",
       "1023    -10000 -0.20       podcast             B2C   referral   \n",
       "1024       NaN   NaN           B2B    social media        NaN   \n",
       "1026     30000  0.25         email             NaN       paid   \n",
       "1027     20000  0.30  social media             B2B    organic   \n",
       "1028    100000   NaN       podcast             NaN   referral   \n",
       "1029       abc   NaN         email             B2C  promotion   \n",
       "\n",
       "      conversion_rate    revenue  \n",
       "1003             0.67  558302.11  \n",
       "1004             0.52  206241.46  \n",
       "1005              NaN   45000.00  \n",
       "1021             0.30  120000.00  \n",
       "1022              NaN   87500.00  \n",
       "1023             0.10        NaN  \n",
       "1024              NaN        NaN  \n",
       "1026             0.40   45000.00  \n",
       "1027             0.50        NaN  \n",
       "1028              NaN  300000.00  \n",
       "1029             0.20   50000.00  "
      ]
     },
     "metadata": {},
     "output_type": "display_data"
    },
    {
     "name": "stdout",
     "output_type": "stream",
     "text": [
      "Number of rows where both start_date and end_date are missing: 1\n",
      "\n",
      "Dropped 1 rows where both dates were missing\n",
      "DataFrame shape after dropping: (1016, 10)\n",
      "\n",
      "Remaining rows with both dates missing: 0\n"
     ]
    }
   ],
   "source": [
    "\n",
    "# Find rows with null values in any column\n",
    "null_rows = df[df.isnull().any(axis=1)]\n",
    "print(f\"Number of rows with null values: {len(null_rows)}\")\n",
    " \n",
    "# To see which specific rows have nulls in 'start_date' column\n",
    "start_date_nulls = df[df['start_date'].isnull()]\n",
    "print(f\"\\nNumber of rows with null values in 'start_date': {len(start_date_nulls)}\")\n",
    " \n",
    "# Display those rows\n",
    "if not start_date_nulls.empty:\n",
    "    print(\"\\nRows with null values in 'start_date':\")\n",
    "    display(start_date_nulls)\n",
    "# Convert date columns to datetime\n",
    "df['start_date'] = pd.to_datetime(df['start_date'], errors='coerce')\n",
    "df['end_date'] = pd.to_datetime(df['end_date'], errors='coerce')\n",
    " \n",
    "# Calculate campaign duration for rows where both dates are available\n",
    "valid_dates = df.dropna(subset=['start_date', 'end_date'])\n",
    "campaign_lengths = (valid_dates['end_date'] - valid_dates['start_date']).dt.days\n",
    " \n",
    "# Calculate median campaign length\n",
    "median_length = campaign_lengths.median()\n",
    "print(f\"Median campaign length: {median_length} days\")\n",
    " \n",
    "# Fill missing start_dates where end_date is available\n",
    "mask_missing_start = df['start_date'].isna() & df['end_date'].notna()\n",
    "df.loc[mask_missing_start, 'start_date'] = df.loc[mask_missing_start, 'end_date'] - pd.Timedelta(days=median_length)\n",
    " \n",
    "# Fill missing end_dates where start_date is available\n",
    "mask_missing_end = df['start_date'].notna() & df['end_date'].isna()\n",
    "df.loc[mask_missing_end, 'end_date'] = df.loc[mask_missing_end, 'start_date'] + pd.Timedelta(days=median_length)\n",
    " \n",
    "# Check remaining missing values after filling\n",
    "print(\"\\nRemaining missing values after filling:\")\n",
    "print(df[['start_date', 'end_date']].isna().sum())\n",
    " \n",
    "# Display rows that had dates filled\n",
    "print(\"\\nRows with filled dates:\")\n",
    "display(df.loc[null_rows.index])\n",
    " \n",
    "# Check rows where both dates are missing\n",
    "both_dates_missing = df[(df['start_date'].isna()) & (df['end_date'].isna())]\n",
    " \n",
    "print(f\"Number of rows where both start_date and end_date are missing: {len(both_dates_missing)}\")\n",
    " \n",
    "# Drop rows where both dates are missing\n",
    "rows_before = len(df)\n",
    "df = df.dropna(subset=['start_date', 'end_date'], how='all')\n",
    "rows_after = len(df)\n",
    " \n",
    "print(f\"\\nDropped {rows_before - rows_after} rows where both dates were missing\")\n",
    "print(f\"DataFrame shape after dropping: {df.shape}\")\n",
    " \n",
    "# Verify no rows have both dates missing\n",
    "both_dates_missing_after = df[(df['start_date'].isna()) & (df['end_date'].isna())]\n",
    "print(f\"\\nRemaining rows with both dates missing: {len(both_dates_missing_after)}\")\n",
    " \n"
   ]
  },
  {
   "cell_type": "code",
   "execution_count": 18,
   "id": "c2875fb7",
   "metadata": {},
   "outputs": [
    {
     "data": {
      "text/plain": [
       "np.int64(0)"
      ]
     },
     "execution_count": 18,
     "metadata": {},
     "output_type": "execute_result"
    }
   ],
   "source": [
    "df['start_date'].isnull().sum()"
   ]
  },
  {
   "cell_type": "code",
   "execution_count": 19,
   "id": "f96d6d6d",
   "metadata": {},
   "outputs": [
    {
     "data": {
      "text/plain": [
       "np.int64(0)"
      ]
     },
     "execution_count": 19,
     "metadata": {},
     "output_type": "execute_result"
    }
   ],
   "source": [
    "df['end_date'].isnull().sum()"
   ]
  },
  {
   "cell_type": "code",
   "execution_count": 20,
   "id": "dfeab9a0",
   "metadata": {},
   "outputs": [
    {
     "name": "stdout",
     "output_type": "stream",
     "text": [
      "Porcentaje de nulos después de la imputación:\n",
      "roi                0.0\n",
      "conversion_rate    0.0\n",
      "revenue            0.0\n",
      "dtype: float64\n"
     ]
    },
    {
     "data": {
      "text/html": [
       "<div>\n",
       "<style scoped>\n",
       "    .dataframe tbody tr th:only-of-type {\n",
       "        vertical-align: middle;\n",
       "    }\n",
       "\n",
       "    .dataframe tbody tr th {\n",
       "        vertical-align: top;\n",
       "    }\n",
       "\n",
       "    .dataframe thead th {\n",
       "        text-align: right;\n",
       "    }\n",
       "</style>\n",
       "<table border=\"1\" class=\"dataframe\">\n",
       "  <thead>\n",
       "    <tr style=\"text-align: right;\">\n",
       "      <th></th>\n",
       "      <th>roi</th>\n",
       "      <th>conversion_rate</th>\n",
       "      <th>revenue</th>\n",
       "    </tr>\n",
       "  </thead>\n",
       "  <tbody>\n",
       "    <tr>\n",
       "      <th>0</th>\n",
       "      <td>0.35</td>\n",
       "      <td>0.40</td>\n",
       "      <td>709593.48</td>\n",
       "    </tr>\n",
       "    <tr>\n",
       "      <th>1</th>\n",
       "      <td>0.74</td>\n",
       "      <td>0.66</td>\n",
       "      <td>516609.10</td>\n",
       "    </tr>\n",
       "    <tr>\n",
       "      <th>2</th>\n",
       "      <td>0.37</td>\n",
       "      <td>0.28</td>\n",
       "      <td>458227.42</td>\n",
       "    </tr>\n",
       "    <tr>\n",
       "      <th>3</th>\n",
       "      <td>0.47</td>\n",
       "      <td>0.19</td>\n",
       "      <td>89958.73</td>\n",
       "    </tr>\n",
       "    <tr>\n",
       "      <th>4</th>\n",
       "      <td>0.30</td>\n",
       "      <td>0.81</td>\n",
       "      <td>47511.35</td>\n",
       "    </tr>\n",
       "  </tbody>\n",
       "</table>\n",
       "</div>"
      ],
      "text/plain": [
       "    roi  conversion_rate    revenue\n",
       "0  0.35             0.40  709593.48\n",
       "1  0.74             0.66  516609.10\n",
       "2  0.37             0.28  458227.42\n",
       "3  0.47             0.19   89958.73\n",
       "4  0.30             0.81   47511.35"
      ]
     },
     "execution_count": 20,
     "metadata": {},
     "output_type": "execute_result"
    }
   ],
   "source": [
    "#recurrimos al método KNN para ser más precisos en la imputación de los valores nulos en las columnas roi, conversion_rate y revenue\n",
    "from sklearn.impute import KNNImputer\n",
    " \n",
    "# Columnas que necesitas imputación\n",
    "numerical_columns = ['roi', 'conversion_rate', 'revenue']\n",
    " \n",
    "# Crear KNN imputer\n",
    "imputer = KNNImputer(n_neighbors=5)\n",
    " \n",
    "# Trasnformación\n",
    "df[numerical_columns] = imputer.fit_transform(df[numerical_columns])\n",
    " \n",
    "# Comprobación\n",
    "print(\"Porcentaje de nulos después de la imputación:\")\n",
    "print(df[numerical_columns].isnull().sum() / df.shape[0] * 100)\n",
    " \n",
    "# Mostrar los datos\n",
    "df[numerical_columns].head()"
   ]
  },
  {
   "cell_type": "code",
   "execution_count": 21,
   "id": "396b1e82",
   "metadata": {},
   "outputs": [
    {
     "name": "stdout",
     "output_type": "stream",
     "text": [
      "Type es: object\n",
      "Target_audience es: object\n"
     ]
    }
   ],
   "source": [
    "# Ver el tipo de datos de la columna 'type'\n",
    "tipo_type = df['type'].dtype\n",
    "print(f'Type es: {tipo_type}')\n",
    "tipo_target_audience = df['target_audience'].dtype\n",
    "print(f'Target_audience es: {tipo_target_audience}')"
   ]
  },
  {
   "cell_type": "code",
   "execution_count": 22,
   "id": "8c5ef7cd",
   "metadata": {},
   "outputs": [
    {
     "name": "stdout",
     "output_type": "stream",
     "text": [
      "campaign_name              object\n",
      "start_date         datetime64[ns]\n",
      "end_date           datetime64[ns]\n",
      "budget                     object\n",
      "roi                       float64\n",
      "type                       object\n",
      "target_audience            object\n",
      "channel                    object\n",
      "conversion_rate           float64\n",
      "revenue                   float64\n",
      "dtype: object\n"
     ]
    }
   ],
   "source": [
    "print(df.dtypes)"
   ]
  },
  {
   "cell_type": "code",
   "execution_count": null,
   "id": "e23e33e2",
   "metadata": {},
   "outputs": [],
   "source": [
    "#calcular media de columnas numericas\n",
    "# Forzar conversión a numérico ignorando errores\n",
    "columnas_numericas = ['budget']\n",
    "for col in columnas_numericas:\n",
    "  df[col] = pd.to_numeric(df[col], errors='coerce')  # convierte strings a NaN si no se puede"
   ]
  },
  {
   "cell_type": "code",
   "execution_count": 23,
   "id": "a350fb35",
   "metadata": {},
   "outputs": [
    {
     "data": {
      "text/plain": [
       "campaign_name      0\n",
       "start_date         0\n",
       "end_date           0\n",
       "budget             3\n",
       "roi                0\n",
       "type               1\n",
       "target_audience    2\n",
       "channel            1\n",
       "conversion_rate    0\n",
       "revenue            0\n",
       "dtype: int64"
      ]
     },
     "execution_count": 23,
     "metadata": {},
     "output_type": "execute_result"
    }
   ],
   "source": [
    "df.isnull().sum() #verifico que ya no hay valores nulos en el dataframe limpio"
   ]
  },
  {
   "cell_type": "code",
   "execution_count": 24,
   "id": "0008c4d8",
   "metadata": {},
   "outputs": [
    {
     "data": {
      "text/plain": [
       "campaign_name      0.000000\n",
       "start_date         0.000000\n",
       "end_date           0.000000\n",
       "budget             0.295276\n",
       "roi                0.000000\n",
       "type               0.098425\n",
       "target_audience    0.196850\n",
       "channel            0.098425\n",
       "conversion_rate    0.000000\n",
       "revenue            0.000000\n",
       "dtype: float64"
      ]
     },
     "execution_count": 24,
     "metadata": {},
     "output_type": "execute_result"
    }
   ],
   "source": [
    "df.isnull().sum() / len(df) * 100"
   ]
  },
  {
   "cell_type": "code",
   "execution_count": 25,
   "id": "f7fb0281",
   "metadata": {},
   "outputs": [
    {
     "data": {
      "text/plain": [
       "<Axes: >"
      ]
     },
     "execution_count": 25,
     "metadata": {},
     "output_type": "execute_result"
    },
    {
     "data": {
      "image/png": "[encoded data removed]",
      "text/plain": [
       "<Figure size 640x480 with 1 Axes>"
      ]
     },
     "metadata": {},
     "output_type": "display_data"
    }
   ],
   "source": [
    "sns.heatmap(df.isnull(), cbar=False, cmap='viridis') #grafica de los valores nulos"
   ]
  },
  {
   "cell_type": "code",
   "execution_count": 26,
   "id": "c6442b74",
   "metadata": {},
   "outputs": [
    {
     "name": "stdout",
     "output_type": "stream",
     "text": [
      "['campaign_name', 'start_date', 'end_date', 'budget', 'roi', 'type', 'target_audience', 'channel', 'conversion_rate', 'revenue']\n"
     ]
    }
   ],
   "source": [
    "print(df.columns.tolist())\n"
   ]
  },
  {
   "cell_type": "code",
   "execution_count": 27,
   "id": "5025443e",
   "metadata": {},
   "outputs": [],
   "source": [
    "df.columns = df.columns.str.strip() # Elimina espacios en blanco al inicio y al final de los nombres de las columnas"
   ]
  },
  {
   "cell_type": "code",
   "execution_count": 28,
   "id": "dc1050ba",
   "metadata": {},
   "outputs": [
    {
     "name": "stdout",
     "output_type": "stream",
     "text": [
      "['campaign_name', 'start_date', 'end_date', 'budget', 'roi', 'type', 'target_audience', 'channel', 'conversion_rate', 'revenue']\n"
     ]
    }
   ],
   "source": [
    "print(df.columns.tolist())"
   ]
  },
  {
   "cell_type": "code",
   "execution_count": 29,
   "id": "d090196e",
   "metadata": {},
   "outputs": [
    {
     "name": "stdout",
     "output_type": "stream",
     "text": [
      "campaign_name,start_date,end_date,budget,roi,type,target_audience,channel,conversion_rate,revenue\n",
      "\n",
      "Public-key multi-tasking throughput,2023-04-01,2024-02-23,8082.3,0.35,email,B2B,organic,0.4,709593.48\n",
      "\n",
      "De-engineered analyzing task-force,2023-02-15,2024-04-22,17712.98,0.74,email,B2C,promotion,0.66,516609.1\n",
      "\n",
      "Balanced solution-oriented Local Area Network,2022-12-20,2023-10-11,84643.1,0.37,podcast,B2B,paid,0.28,458227.42\n",
      "\n",
      "Distributed real-time methodology,2022-09-26,2023-09-27,14589.75,0.47,webinar,B2B,organic,0.19,89958.73\n",
      "\n",
      "Front-line executive infrastructure,2023-07-07,2024-05-15,39291.9,0.3,social media,B2B,promotion,0.81,47511.35\n",
      "\n",
      "Upgradable transitional data-warehouse,2023-06-29,2023-12-13,75569.28,0.59,social media,B2C,referral,0.67,558302.11\n",
      "\n",
      "Innovative context-sensitive framework,2023-03-01,2024-02-23,28964.45,0.59,email,B2C,referral,0.17,172882.59\n",
      "\n",
      "User-friendly client-driven service-desk,2023-01-06,2023-12-11,36800.58,0.4,webinar,B2C,promotion,0.52,206241.46\n",
      "\n",
      "Proactive neutral methodology,2022-09-06,2024-01-11,40493.88,0.16,webinar,B2C,organic,0.47,734755.76\n",
      "\n"
     ]
    }
   ],
   "source": [
    "# sin tratar de separarlo en columnas.\n",
    "with open(r\"..\\data\\marketingcampaigns.csv\", encoding='utf-8') as f:\n",
    "    for i in range(10):\n",
    "        print(f.readline())"
   ]
  },
  {
   "cell_type": "code",
   "execution_count": 30,
   "id": "d53e3c41",
   "metadata": {},
   "outputs": [
    {
     "name": "stdout",
     "output_type": "stream",
     "text": [
      "✅ 'budget' está presente.\n",
      "✅ 'roi' está presente.\n",
      "✅ 'conversion_rate' está presente.\n",
      "✅ 'revenue' está presente.\n"
     ]
    }
   ],
   "source": [
    "columnas_numericas = ['budget', 'roi', 'conversion_rate', 'revenue']\n",
    "\n",
    "for col in columnas_numericas:\n",
    "    if col in df.columns:\n",
    "        print(f\"✅ '{col}' está presente.\")\n",
    "    else:\n",
    "        print(f\"❌ '{col}' NO está en el DataFrame.\")\n",
    "\n"
   ]
  },
  {
   "cell_type": "code",
   "execution_count": 31,
   "id": "abf6b21e",
   "metadata": {},
   "outputs": [
    {
     "data": {
      "text/plain": [
       "0       0.350\n",
       "1       0.740\n",
       "2       0.370\n",
       "3       0.470\n",
       "4       0.300\n",
       "        ...  \n",
       "1027    0.300\n",
       "1028    0.538\n",
       "1029    0.402\n",
       "1030    0.600\n",
       "1031    0.800\n",
       "Name: roi, Length: 1016, dtype: float64"
      ]
     },
     "execution_count": 31,
     "metadata": {},
     "output_type": "execute_result"
    }
   ],
   "source": [
    "df['roi'] #una columna"
   ]
  },
  {
   "cell_type": "code",
   "execution_count": 32,
   "id": "ea7e081e",
   "metadata": {},
   "outputs": [],
   "source": [
    "#como arreglo los valores nulos sin cargarnos los datos originales\n",
    "df_limpio = df.copy() #copia del dataframe original"
   ]
  },
  {
   "cell_type": "code",
   "execution_count": 33,
   "id": "e7321c73",
   "metadata": {},
   "outputs": [
    {
     "data": {
      "text/html": [
       "<div>\n",
       "<style scoped>\n",
       "    .dataframe tbody tr th:only-of-type {\n",
       "        vertical-align: middle;\n",
       "    }\n",
       "\n",
       "    .dataframe tbody tr th {\n",
       "        vertical-align: top;\n",
       "    }\n",
       "\n",
       "    .dataframe thead th {\n",
       "        text-align: right;\n",
       "    }\n",
       "</style>\n",
       "<table border=\"1\" class=\"dataframe\">\n",
       "  <thead>\n",
       "    <tr style=\"text-align: right;\">\n",
       "      <th></th>\n",
       "      <th>campaign_name</th>\n",
       "      <th>start_date</th>\n",
       "      <th>end_date</th>\n",
       "      <th>budget</th>\n",
       "      <th>roi</th>\n",
       "      <th>type</th>\n",
       "      <th>target_audience</th>\n",
       "      <th>channel</th>\n",
       "      <th>conversion_rate</th>\n",
       "      <th>revenue</th>\n",
       "    </tr>\n",
       "  </thead>\n",
       "  <tbody>\n",
       "    <tr>\n",
       "      <th>0</th>\n",
       "      <td>Public-key multi-tasking throughput</td>\n",
       "      <td>2023-04-01</td>\n",
       "      <td>2024-02-23</td>\n",
       "      <td>8082.3</td>\n",
       "      <td>0.35</td>\n",
       "      <td>email</td>\n",
       "      <td>B2B</td>\n",
       "      <td>organic</td>\n",
       "      <td>0.40</td>\n",
       "      <td>709593.48</td>\n",
       "    </tr>\n",
       "    <tr>\n",
       "      <th>1</th>\n",
       "      <td>De-engineered analyzing task-force</td>\n",
       "      <td>2023-02-15</td>\n",
       "      <td>2024-04-22</td>\n",
       "      <td>17712.98</td>\n",
       "      <td>0.74</td>\n",
       "      <td>email</td>\n",
       "      <td>B2C</td>\n",
       "      <td>promotion</td>\n",
       "      <td>0.66</td>\n",
       "      <td>516609.10</td>\n",
       "    </tr>\n",
       "    <tr>\n",
       "      <th>2</th>\n",
       "      <td>Balanced solution-oriented Local Area Network</td>\n",
       "      <td>2022-12-20</td>\n",
       "      <td>2023-10-11</td>\n",
       "      <td>84643.1</td>\n",
       "      <td>0.37</td>\n",
       "      <td>podcast</td>\n",
       "      <td>B2B</td>\n",
       "      <td>paid</td>\n",
       "      <td>0.28</td>\n",
       "      <td>458227.42</td>\n",
       "    </tr>\n",
       "  </tbody>\n",
       "</table>\n",
       "</div>"
      ],
      "text/plain": [
       "                                   campaign_name start_date   end_date  \\\n",
       "0            Public-key multi-tasking throughput 2023-04-01 2024-02-23   \n",
       "1             De-engineered analyzing task-force 2023-02-15 2024-04-22   \n",
       "2  Balanced solution-oriented Local Area Network 2022-12-20 2023-10-11   \n",
       "\n",
       "     budget   roi     type target_audience    channel  conversion_rate  \\\n",
       "0    8082.3  0.35    email             B2B    organic             0.40   \n",
       "1  17712.98  0.74    email             B2C  promotion             0.66   \n",
       "2   84643.1  0.37  podcast             B2B       paid             0.28   \n",
       "\n",
       "     revenue  \n",
       "0  709593.48  \n",
       "1  516609.10  \n",
       "2  458227.42  "
      ]
     },
     "execution_count": 33,
     "metadata": {},
     "output_type": "execute_result"
    }
   ],
   "source": [
    "df_limpio.head(3) #verifico que la copia se haya hecho bien"
   ]
  },
  {
   "cell_type": "code",
   "execution_count": 34,
   "id": "38b406b5",
   "metadata": {},
   "outputs": [
    {
     "data": {
      "text/plain": [
       "campaign_name      0\n",
       "start_date         0\n",
       "end_date           0\n",
       "budget             3\n",
       "roi                0\n",
       "type               1\n",
       "target_audience    2\n",
       "channel            1\n",
       "conversion_rate    0\n",
       "revenue            0\n",
       "dtype: int64"
      ]
     },
     "execution_count": 34,
     "metadata": {},
     "output_type": "execute_result"
    }
   ],
   "source": [
    "df_limpio.isnull().sum() #verifico que ya no hay valores nulos en el dataframe limpio"
   ]
  },
  {
   "cell_type": "code",
   "execution_count": 35,
   "id": "23851dd9",
   "metadata": {},
   "outputs": [
    {
     "data": {
      "text/plain": [
       "np.int64(0)"
      ]
     },
     "execution_count": 35,
     "metadata": {},
     "output_type": "execute_result"
    }
   ],
   "source": [
    "df_limpio.duplicated().sum() #suma de los valores duplicados por fila"
   ]
  },
  {
   "cell_type": "code",
   "execution_count": 36,
   "id": "c909cc52",
   "metadata": {},
   "outputs": [
    {
     "data": {
      "text/html": [
       "<div>\n",
       "<style scoped>\n",
       "    .dataframe tbody tr th:only-of-type {\n",
       "        vertical-align: middle;\n",
       "    }\n",
       "\n",
       "    .dataframe tbody tr th {\n",
       "        vertical-align: top;\n",
       "    }\n",
       "\n",
       "    .dataframe thead th {\n",
       "        text-align: right;\n",
       "    }\n",
       "</style>\n",
       "<table border=\"1\" class=\"dataframe\">\n",
       "  <thead>\n",
       "    <tr style=\"text-align: right;\">\n",
       "      <th></th>\n",
       "      <th>campaign_name</th>\n",
       "      <th>start_date</th>\n",
       "      <th>end_date</th>\n",
       "      <th>budget</th>\n",
       "      <th>roi</th>\n",
       "      <th>type</th>\n",
       "      <th>target_audience</th>\n",
       "      <th>channel</th>\n",
       "      <th>conversion_rate</th>\n",
       "      <th>revenue</th>\n",
       "    </tr>\n",
       "  </thead>\n",
       "  <tbody>\n",
       "    <tr>\n",
       "      <th>0</th>\n",
       "      <td>Public-key multi-tasking throughput</td>\n",
       "      <td>2023-04-01</td>\n",
       "      <td>2024-02-23</td>\n",
       "      <td>8082.3</td>\n",
       "      <td>0.350</td>\n",
       "      <td>email</td>\n",
       "      <td>B2B</td>\n",
       "      <td>organic</td>\n",
       "      <td>0.400</td>\n",
       "      <td>709593.480</td>\n",
       "    </tr>\n",
       "    <tr>\n",
       "      <th>1</th>\n",
       "      <td>De-engineered analyzing task-force</td>\n",
       "      <td>2023-02-15</td>\n",
       "      <td>2024-04-22</td>\n",
       "      <td>17712.98</td>\n",
       "      <td>0.740</td>\n",
       "      <td>email</td>\n",
       "      <td>B2C</td>\n",
       "      <td>promotion</td>\n",
       "      <td>0.660</td>\n",
       "      <td>516609.100</td>\n",
       "    </tr>\n",
       "    <tr>\n",
       "      <th>2</th>\n",
       "      <td>Balanced solution-oriented Local Area Network</td>\n",
       "      <td>2022-12-20</td>\n",
       "      <td>2023-10-11</td>\n",
       "      <td>84643.1</td>\n",
       "      <td>0.370</td>\n",
       "      <td>podcast</td>\n",
       "      <td>B2B</td>\n",
       "      <td>paid</td>\n",
       "      <td>0.280</td>\n",
       "      <td>458227.420</td>\n",
       "    </tr>\n",
       "    <tr>\n",
       "      <th>3</th>\n",
       "      <td>Distributed real-time methodology</td>\n",
       "      <td>2022-09-26</td>\n",
       "      <td>2023-09-27</td>\n",
       "      <td>14589.75</td>\n",
       "      <td>0.470</td>\n",
       "      <td>webinar</td>\n",
       "      <td>B2B</td>\n",
       "      <td>organic</td>\n",
       "      <td>0.190</td>\n",
       "      <td>89958.730</td>\n",
       "    </tr>\n",
       "    <tr>\n",
       "      <th>4</th>\n",
       "      <td>Front-line executive infrastructure</td>\n",
       "      <td>2023-07-07</td>\n",
       "      <td>2024-05-15</td>\n",
       "      <td>39291.9</td>\n",
       "      <td>0.300</td>\n",
       "      <td>social media</td>\n",
       "      <td>B2B</td>\n",
       "      <td>promotion</td>\n",
       "      <td>0.810</td>\n",
       "      <td>47511.350</td>\n",
       "    </tr>\n",
       "    <tr>\n",
       "      <th>...</th>\n",
       "      <td>...</td>\n",
       "      <td>...</td>\n",
       "      <td>...</td>\n",
       "      <td>...</td>\n",
       "      <td>...</td>\n",
       "      <td>...</td>\n",
       "      <td>...</td>\n",
       "      <td>...</td>\n",
       "      <td>...</td>\n",
       "      <td>...</td>\n",
       "    </tr>\n",
       "    <tr>\n",
       "      <th>1027</th>\n",
       "      <td>No revenue campaign</td>\n",
       "      <td>2023-02-01</td>\n",
       "      <td>2023-08-01</td>\n",
       "      <td>20000</td>\n",
       "      <td>0.300</td>\n",
       "      <td>social media</td>\n",
       "      <td>B2B</td>\n",
       "      <td>organic</td>\n",
       "      <td>0.500</td>\n",
       "      <td>292565.718</td>\n",
       "    </tr>\n",
       "    <tr>\n",
       "      <th>1028</th>\n",
       "      <td>Random mess</td>\n",
       "      <td>2023-06-06</td>\n",
       "      <td>2024-06-04</td>\n",
       "      <td>100000</td>\n",
       "      <td>0.538</td>\n",
       "      <td>podcast</td>\n",
       "      <td>NaN</td>\n",
       "      <td>referral</td>\n",
       "      <td>0.596</td>\n",
       "      <td>300000.000</td>\n",
       "    </tr>\n",
       "    <tr>\n",
       "      <th>1029</th>\n",
       "      <td>Invalid budget</td>\n",
       "      <td>2022-12-01</td>\n",
       "      <td>2023-06-01</td>\n",
       "      <td>abc</td>\n",
       "      <td>0.402</td>\n",
       "      <td>email</td>\n",
       "      <td>B2C</td>\n",
       "      <td>promotion</td>\n",
       "      <td>0.200</td>\n",
       "      <td>50000.000</td>\n",
       "    </tr>\n",
       "    <tr>\n",
       "      <th>1030</th>\n",
       "      <td>Overlapping dates</td>\n",
       "      <td>2023-03-01</td>\n",
       "      <td>2022-12-31</td>\n",
       "      <td>60000</td>\n",
       "      <td>0.600</td>\n",
       "      <td>webinar</td>\n",
       "      <td>B2B</td>\n",
       "      <td>paid</td>\n",
       "      <td>0.700</td>\n",
       "      <td>90000.000</td>\n",
       "    </tr>\n",
       "    <tr>\n",
       "      <th>1031</th>\n",
       "      <td>Too many conversions</td>\n",
       "      <td>2023-05-01</td>\n",
       "      <td>2023-11-01</td>\n",
       "      <td>40000</td>\n",
       "      <td>0.800</td>\n",
       "      <td>social media</td>\n",
       "      <td>B2C</td>\n",
       "      <td>organic</td>\n",
       "      <td>1.500</td>\n",
       "      <td>120000.000</td>\n",
       "    </tr>\n",
       "  </tbody>\n",
       "</table>\n",
       "<p>1016 rows × 10 columns</p>\n",
       "</div>"
      ],
      "text/plain": [
       "                                      campaign_name start_date   end_date  \\\n",
       "0               Public-key multi-tasking throughput 2023-04-01 2024-02-23   \n",
       "1                De-engineered analyzing task-force 2023-02-15 2024-04-22   \n",
       "2     Balanced solution-oriented Local Area Network 2022-12-20 2023-10-11   \n",
       "3                 Distributed real-time methodology 2022-09-26 2023-09-27   \n",
       "4               Front-line executive infrastructure 2023-07-07 2024-05-15   \n",
       "...                                             ...        ...        ...   \n",
       "1027                            No revenue campaign 2023-02-01 2023-08-01   \n",
       "1028                                    Random mess 2023-06-06 2024-06-04   \n",
       "1029                                 Invalid budget 2022-12-01 2023-06-01   \n",
       "1030                              Overlapping dates 2023-03-01 2022-12-31   \n",
       "1031                           Too many conversions 2023-05-01 2023-11-01   \n",
       "\n",
       "        budget    roi          type target_audience    channel  \\\n",
       "0       8082.3  0.350         email             B2B    organic   \n",
       "1     17712.98  0.740         email             B2C  promotion   \n",
       "2      84643.1  0.370       podcast             B2B       paid   \n",
       "3     14589.75  0.470       webinar             B2B    organic   \n",
       "4      39291.9  0.300  social media             B2B  promotion   \n",
       "...        ...    ...           ...             ...        ...   \n",
       "1027     20000  0.300  social media             B2B    organic   \n",
       "1028    100000  0.538       podcast             NaN   referral   \n",
       "1029       abc  0.402         email             B2C  promotion   \n",
       "1030     60000  0.600       webinar             B2B       paid   \n",
       "1031     40000  0.800  social media             B2C    organic   \n",
       "\n",
       "      conversion_rate     revenue  \n",
       "0               0.400  709593.480  \n",
       "1               0.660  516609.100  \n",
       "2               0.280  458227.420  \n",
       "3               0.190   89958.730  \n",
       "4               0.810   47511.350  \n",
       "...               ...         ...  \n",
       "1027            0.500  292565.718  \n",
       "1028            0.596  300000.000  \n",
       "1029            0.200   50000.000  \n",
       "1030            0.700   90000.000  \n",
       "1031            1.500  120000.000  \n",
       "\n",
       "[1016 rows x 10 columns]"
      ]
     },
     "execution_count": 36,
     "metadata": {},
     "output_type": "execute_result"
    }
   ],
   "source": [
    "df_limpio"
   ]
  },
  {
   "cell_type": "code",
   "execution_count": 37,
   "id": "4a5c1f2d",
   "metadata": {},
   "outputs": [],
   "source": [
    "df_limpio.to_csv(r'../data/marketingcampaigns_limpio.csv',index=False) #guardo el dataframe limpio en un nuevo archivo csv"
   ]
  }
 ],
 "metadata": {
  "kernelspec": {
   "display_name": "Python 3",
   "language": "python",
   "name": "python3"
  },
  "language_info": {
   "codemirror_mode": {
    "name": "ipython",
    "version": 3
   },
   "file_extension": ".py",
   "mimetype": "text/x-python",
   "name": "python",
   "nbconvert_exporter": "python",
   "pygments_lexer": "ipython3",
   "version": "3.13.1"
  }
 },
 "nbformat": 4,
 "nbformat_minor": 5
}
